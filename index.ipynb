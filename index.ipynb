{
 "cells": [
  {
   "cell_type": "markdown",
   "metadata": {
    "id": "oDJW6BCjZlsl"
   },
   "source": [
    "### Configurations and Libraries\n",
    "\n"
   ]
  },
  {
   "cell_type": "code",
   "execution_count": null,
   "metadata": {
    "id": "M9Z3-wLJD3WK"
   },
   "outputs": [],
   "source": [
    "# TODO: change from mounting drive to local files\n",
    "# TODO: add tests"
   ]
  },
  {
   "cell_type": "code",
   "execution_count": 73,
   "metadata": {
    "id": "QJ_lHFdND_E_"
   },
   "outputs": [],
   "source": [
    "import numpy as np\n",
    "import tensorflow as tf\n",
    "import pandas as pd\n",
    "import matplotlib.pyplot as plt\n",
    "from pathlib import Path\n",
    "from numpy.typing import NDArray\n",
    "import seaborn as sns\n",
    "import seaborn_image as isns\n",
    "from sklearn.metrics import roc_curve, auc\n",
    "from sklearn.model_selection import train_test_split\n",
    "from generator import RegionETGenerator\n"
   ]
  },
  {
   "cell_type": "code",
   "execution_count": 255,
   "metadata": {},
   "outputs": [],
   "source": [
    "import os\n",
    "\n",
    "os.environ[\"TF_CPP_MIN_LOG_LEVEL\"] = \"3\"\n",
    "os.environ[\"TF_ENABLE_ONEDNN_OPTS\"] = \"0\""
   ]
  },
  {
   "cell_type": "markdown",
   "metadata": {
    "id": "eLb8pL5rZt5R"
   },
   "source": [
    "### Load & Describe Data"
   ]
  },
  {
   "cell_type": "code",
   "execution_count": 59,
   "metadata": {
    "id": "4RdmTsFHEncC"
   },
   "outputs": [],
   "source": [
    "data_path = Path('data')\n",
    "model_path = Path('model')"
   ]
  },
  {
   "cell_type": "code",
   "execution_count": 60,
   "metadata": {
    "id": "7xDeQoEoEuPj"
   },
   "outputs": [],
   "source": [
    "images = np.load(data_path / 'images.npy')\n",
    "labels = np.load(data_path / 'labels.npy')"
   ]
  },
  {
   "cell_type": "code",
   "execution_count": 61,
   "metadata": {
    "colab": {
     "base_uri": "https://localhost:8080/"
    },
    "id": "lKCAZSPZY23W",
    "outputId": "5a5e1011-2e2c-429a-d0df-97e9d0746389"
   },
   "outputs": [
    {
     "name": "stdout",
     "output_type": "stream",
     "text": [
      "Data type of images: float64\n",
      "Data type of labels: int64\n"
     ]
    }
   ],
   "source": [
    "print(f\"Data type of images: {images.dtype}\")\n",
    "print(f\"Data type of labels: {labels.dtype}\")"
   ]
  },
  {
   "cell_type": "code",
   "execution_count": 62,
   "metadata": {
    "id": "wRl6k-ZsGNj1"
   },
   "outputs": [],
   "source": [
    "# TODO: can we keep generic? what if it's a string?\n",
    "def labels_description(data: NDArray[np.int64]) -> None:\n",
    "  df = pd.DataFrame(data)\n",
    "  print(df.describe())\n",
    "  print(df.info())\n",
    "\n",
    "def slice_description(data: NDArray[np.float64]) -> None:\n",
    "  slice = data[0, :, :].reshape(256,)\n",
    "  df = pd.DataFrame(slice)\n",
    "  print(df.describe())\n",
    "  print(df.info())"
   ]
  },
  {
   "cell_type": "code",
   "execution_count": 63,
   "metadata": {
    "colab": {
     "base_uri": "https://localhost:8080/"
    },
    "id": "Bd3sMnZrHLfc",
    "outputId": "66a5d0fd-a1f3-44db-ae14-c7a098474a21"
   },
   "outputs": [
    {
     "name": "stdout",
     "output_type": "stream",
     "text": [
      "                0\n",
      "count  256.000000\n",
      "mean     0.955877\n",
      "std      0.908362\n",
      "min      0.007223\n",
      "25%      0.306411\n",
      "50%      0.691741\n",
      "75%      1.343379\n",
      "max      6.263326\n",
      "<class 'pandas.core.frame.DataFrame'>\n",
      "RangeIndex: 256 entries, 0 to 255\n",
      "Data columns (total 1 columns):\n",
      " #   Column  Non-Null Count  Dtype  \n",
      "---  ------  --------------  -----  \n",
      " 0   0       256 non-null    float64\n",
      "dtypes: float64(1)\n",
      "memory usage: 2.1 KB\n",
      "None\n"
     ]
    }
   ],
   "source": [
    "slice_description(images)"
   ]
  },
  {
   "cell_type": "code",
   "execution_count": 64,
   "metadata": {
    "colab": {
     "base_uri": "https://localhost:8080/"
    },
    "id": "sblEW_tCH5NE",
    "outputId": "3c29cd4d-7c73-4502-9b60-1b74c6b5df16"
   },
   "outputs": [
    {
     "name": "stdout",
     "output_type": "stream",
     "text": [
      "                0\n",
      "count  1000.00000\n",
      "mean      0.50000\n",
      "std       0.50025\n",
      "min       0.00000\n",
      "25%       0.00000\n",
      "50%       0.50000\n",
      "75%       1.00000\n",
      "max       1.00000\n",
      "<class 'pandas.core.frame.DataFrame'>\n",
      "RangeIndex: 1000 entries, 0 to 999\n",
      "Data columns (total 1 columns):\n",
      " #   Column  Non-Null Count  Dtype\n",
      "---  ------  --------------  -----\n",
      " 0   0       1000 non-null   int64\n",
      "dtypes: int64(1)\n",
      "memory usage: 7.9 KB\n",
      "None\n"
     ]
    }
   ],
   "source": [
    "labels_description(labels)"
   ]
  },
  {
   "cell_type": "code",
   "execution_count": 65,
   "metadata": {},
   "outputs": [],
   "source": [
    "images_train_val, images_test, labels_train_val, labels_test = train_test_split(\n",
    "    images, labels, test_size=0.2, random_state=42,)\n",
    "images_train, images_val, labels_train, labels_val = train_test_split(\n",
    "    images_train_val, labels_train_val, test_size=0.2, random_state=42,)"
   ]
  },
  {
   "cell_type": "markdown",
   "metadata": {
    "id": "KN7o6TRXZ06W"
   },
   "source": [
    "### Data Visualization"
   ]
  },
  {
   "cell_type": "code",
   "execution_count": 13,
   "metadata": {
    "id": "Wvu6-rp2E78t"
   },
   "outputs": [],
   "source": [
    "# TODO: check the type of pixels\n",
    "def print_random_image(images: NDArray[np.float64], labels: NDArray[np.int64]) -> None:\n",
    "  index = np.random.randint(0, images.shape[0])\n",
    "  plt.imshow(images[index])\n",
    "  plt.title(f'Label: {labels[index]}')\n",
    "  plt.show()\n",
    "\n",
    "def print_image_distribution(images: NDArray[np.float64], labels: NDArray[np.int64]) -> None:\n",
    "  index = np.random.randint(0, images.shape[0])\n",
    "  ax = isns.imghist(images[index])\n",
    "  plt.title(f'Index: {index}, Label: {labels[index]}')"
   ]
  },
  {
   "cell_type": "code",
   "execution_count": 22,
   "metadata": {
    "colab": {
     "base_uri": "https://localhost:8080/",
     "height": 446
    },
    "id": "y2iRSD_lE3vu",
    "outputId": "3fb5770e-b958-40bb-f307-30c6f57d5b1c"
   },
   "outputs": [
    {
     "data": {
      "image/png": "[encoded data removed]",
      "text/plain": [
       "<Figure size 875x500 with 3 Axes>"
      ]
     },
     "metadata": {},
     "output_type": "display_data"
    }
   ],
   "source": [
    "# TODO: histogram of pixel intensities using seaborn (or alternatives)\n",
    "print_image_distribution(images, labels)"
   ]
  },
  {
   "cell_type": "markdown",
   "metadata": {},
   "source": [
    "### (Tentative) Data Augmentation"
   ]
  },
  {
   "cell_type": "code",
   "execution_count": null,
   "metadata": {},
   "outputs": [],
   "source": [
    "data_augmentation = tf.keras.Sequential([\n",
    "    tf.keras.layers.RandomFlip(\"horizontal_and_vertical\"),  # Flip horizontally and vertically\n",
    "    tf.keras.layers.RandomRotation(0.2),  # Rotate up to 20%\n",
    "    tf.keras.layers.RandomZoom(0.2),  # Zoom up to 20%\n",
    "    tf.keras.layers.RandomContrast(0.2),  # Change contrast\n",
    "    tf.keras.layers.RandomBrightness(0.2),\n",
    "])"
   ]
  },
  {
   "cell_type": "code",
   "execution_count": 189,
   "metadata": {},
   "outputs": [],
   "source": [
    "augmented_images = []\n",
    "for image in images_train:\n",
    "    for _ in range(10):\n",
    "        augmented = data_augmentation(tf.expand_dims(image, axis=0))\n",
    "        augmented_images.append(tf.squeeze(augmented).numpy())\n",
    "augmented_images = np.array(augmented_images)"
   ]
  },
  {
   "cell_type": "code",
   "execution_count": null,
   "metadata": {},
   "outputs": [],
   "source": [
    "augmented_img = data_augmentation(tf.expand_dims(images[100], axis=0))\n",
    "augmented_img = tf.squeeze(augmented_img)"
   ]
  },
  {
   "cell_type": "code",
   "execution_count": 187,
   "metadata": {},
   "outputs": [
    {
     "data": {
      "image/png": "[encoded data removed]",
      "text/plain": [
       "<Figure size 600x300 with 2 Axes>"
      ]
     },
     "metadata": {},
     "output_type": "display_data"
    }
   ],
   "source": [
    "plt.figure(figsize=(6, 3))\n",
    "plt.subplot(1, 2, 1)\n",
    "plt.title(\"Original\")\n",
    "plt.imshow(images[100])\n",
    "plt.axis(\"off\")\n",
    "\n",
    "plt.subplot(1, 2, 2)\n",
    "plt.title(\"Augmented\")\n",
    "plt.imshow(augmented_img[0, :, :])\n",
    "plt.axis(\"off\")\n",
    "\n",
    "plt.show()"
   ]
  },
  {
   "cell_type": "markdown",
   "metadata": {
    "id": "KBbJPAaNaCIy"
   },
   "source": [
    "### Provided Model's Predictions"
   ]
  },
  {
   "cell_type": "code",
   "execution_count": 168,
   "metadata": {
    "id": "cHPGsCR4XDDS"
   },
   "outputs": [],
   "source": [
    "# TODO: again be coherent with the same format, especially if we consider quantization\n",
    "# TODO: move in utils.py\n",
    "def predict(model: tf.keras.Model, images: NDArray[np.float64]) -> NDArray[np.float32]:\n",
    "  input_tensor = tf.convert_to_tensor(images, dtype=tf.float32)\n",
    "  output = infer(input_tensor)\n",
    "  return output['lambda'].numpy()\n",
    "\n",
    "def normalize_matrix(matrix: NDArray[np.float32]) -> NDArray[np.float32]:\n",
    "  min_score = np.min(matrix)\n",
    "  max_score = np.max(matrix)\n",
    "  normalized_output = []\n",
    "  for score in matrix:\n",
    "    normalized_output.append((score - min_score)/(max_score-min_score))\n",
    "  return np.array(normalized_output)"
   ]
  },
  {
   "cell_type": "code",
   "execution_count": 177,
   "metadata": {
    "id": "zLqv3zLhXzaH"
   },
   "outputs": [],
   "source": [
    "def plot_roc_curve(labs: NDArray[np.int32], preds: NDArray[np.float32]) -> None:\n",
    "  fpr, tpr, thresholds = roc_curve(labs, preds)\n",
    "  roc_auc = auc(fpr, tpr)\n",
    "  # Plotting the ROC curve\n",
    "  plt.figure(figsize=(8, 6))\n",
    "  plt.plot(fpr, tpr, color='darkorange', lw=2, label='ROC curve (area = {:.2f})'.format(roc_auc))\n",
    "  plt.plot([0, 1], [0, 1], color='navy', lw=2, linestyle='--')  # diagonal line (random classifier)\n",
    "\n",
    "  # Add labels and title\n",
    "  plt.xlim([0.0, 1.0])\n",
    "  plt.ylim([0.0, 1.05])\n",
    "  plt.xlabel('False Positive Rate')\n",
    "  plt.ylabel('True Positive Rate')\n",
    "  plt.title('Receiver Operating Characteristic (ROC) Curve')\n",
    "  plt.legend(loc=\"lower right\")\n",
    "\n",
    "  # Show plot\n",
    "  plt.show()"
   ]
  },
  {
   "cell_type": "code",
   "execution_count": 178,
   "metadata": {
    "id": "7Qky33wXQewH"
   },
   "outputs": [],
   "source": [
    "#keras_model = tf.keras.models.load_model('model')\n",
    "#keras_model = tf.keras.layers.TFSMLayer(model_path, call_endpoint = 'serving_default')ù\n",
    "model = tf.saved_model.load(model_path)\n",
    "infer = model.signatures['serving_default']"
   ]
  },
  {
   "cell_type": "code",
   "execution_count": 179,
   "metadata": {
    "id": "NfEkt3mBN4as"
   },
   "outputs": [
    {
     "data": {
      "image/png": "[encoded data removed]",
      "text/plain": [
       "<Figure size 800x600 with 1 Axes>"
      ]
     },
     "metadata": {},
     "output_type": "display_data"
    }
   ],
   "source": [
    "output = predict(model, images)\n",
    "normalized_output = normalize_matrix(output)\n",
    "plot_roc_curve(labels, normalized_output)\n",
    "# idea: also add MSE "
   ]
  },
  {
   "cell_type": "markdown",
   "metadata": {},
   "source": [
    "### Proposed Model"
   ]
  },
  {
   "cell_type": "code",
   "execution_count": 258,
   "metadata": {},
   "outputs": [],
   "source": [
    "from qkeras import QActivation, QConv2D, QDense, QDenseBatchnorm, quantized_bits\n",
    "from tensorflow import keras, data\n",
    "from keras.models import Model, load_model\n",
    "from keras.layers import (\n",
    "    Activation,\n",
    "    AveragePooling2D,\n",
    "    Conv2D,\n",
    "    Dense,\n",
    "    Dropout,\n",
    "    Flatten,\n",
    "    Input,\n",
    "    Reshape,\n",
    "    UpSampling2D,\n",
    "    Conv2DTranspose\n",
    ")\n",
    "import numpy.typing as npt\n",
    "from keras.callbacks import ModelCheckpoint, CSVLogger\n",
    "from keras.optimizers import Adam"
   ]
  },
  {
   "cell_type": "code",
   "execution_count": 259,
   "metadata": {},
   "outputs": [],
   "source": [
    "class TeacherAutoencoderRevised:\n",
    "    def __init__(self, input_shape: tuple):\n",
    "        self.input_shape = input_shape\n",
    "    # TODO: regularization techniques, learning-rate schedulers, batch_normalization\n",
    "    def get_model(self):\n",
    "        inputs = Input(shape=self.input_shape, name=\"teacher_inputs_\")\n",
    "        x = Reshape((16, 16, 1), name=\"teacher_reshape\")(inputs)\n",
    "        x = Conv2D(20, (3, 3), strides=1, padding=\"same\", name=\"teacher_conv2d_1\")(x)\n",
    "        x = Activation(\"relu\", name=\"teacher_relu_1\")(x)\n",
    "        x = AveragePooling2D((2, 2), name=\"teacher_pool_1\")(x)\n",
    "        x = Conv2D(30, (3, 3), strides=1, padding=\"same\", name=\"teacher_conv2d_2\")(x)\n",
    "        x = Activation(\"relu\", name=\"teacher_relu_2\")(x)\n",
    "        x = Flatten(name=\"teacher_flatten\")(x)\n",
    "        x = Dense(80, activation=\"relu\", name=\"teacher_latent\")(x)\n",
    "        x = Dense(8 * 8 * 30, name=\"teacher_dense\")(x)\n",
    "        x = Reshape((8, 8, 30), name=\"teacher_reshape2\")(x)\n",
    "        x = Activation(\"relu\", name=\"teacher_relu_3\")(x)\n",
    "        x = Conv2D(30, (3, 3), strides=1, padding=\"same\", name=\"teacher_conv2d_3\")(x)\n",
    "        x = Activation(\"relu\", name=\"teacher_relu_4\")(x)\n",
    "        x = Conv2DTranspose(30, (3, 3), strides=2, padding=\"same\", name=\"teacher_conv_transpose\")(x)\n",
    "        x = Conv2D(20, (3, 3), strides=1, padding=\"same\", name=\"teacher_conv2d_4\")(x)\n",
    "        x = Activation(\"relu\", name=\"teacher_relu_5\")(x)\n",
    "        outputs = Conv2D(\n",
    "            1,\n",
    "            (3, 3),\n",
    "            activation=\"relu\",\n",
    "            strides=1,\n",
    "            padding=\"same\",\n",
    "            name=\"teacher_outputs\",\n",
    "        )(x)\n",
    "        return Model(inputs, outputs, name=\"teacher-transpose\")\n",
    "\n",
    "\n",
    "class CicadaV2:\n",
    "    def __init__(self, input_shape: tuple):\n",
    "        self.input_shape = input_shape\n",
    "\n",
    "    def get_model(self):\n",
    "        inputs = Input(shape=self.input_shape, name=\"inputs_\")\n",
    "        x = Reshape((16, 16, 1), name=\"reshape\")(inputs)\n",
    "        # quantized_bits takes the following arguments:\n",
    "        # total number of bits used to represent each weight value\n",
    "        # number of bits used to represent the integer part\n",
    "        # 1 bit if signed\n",
    "        # scaling factor, 1.0 means no scaling\n",
    "        x = QConv2D(\n",
    "            4,\n",
    "            (2, 2),\n",
    "            strides=2,\n",
    "            padding=\"valid\",\n",
    "            use_bias=False,\n",
    "            kernel_quantizer=quantized_bits(12, 3, 1, alpha=1.0),\n",
    "            name=\"conv\",\n",
    "        )(x)\n",
    "        x = QActivation(\"quantized_relu(10, 6)\", name=\"relu0\")(x)\n",
    "        x = Flatten(name=\"flatten\")(x)\n",
    "        x = Dropout(1 / 9)(x)\n",
    "        x = QDenseBatchnorm(\n",
    "            16,\n",
    "            kernel_quantizer=quantized_bits(8, 1, 1, alpha=1.0),\n",
    "            bias_quantizer=quantized_bits(8, 3, 1, alpha=1.0),\n",
    "            name=\"dense1\",\n",
    "        )(x)\n",
    "        x = QActivation(\"quantized_relu(10, 6)\", name=\"relu1\")(x)\n",
    "        x = Dropout(1 / 8)(x)\n",
    "        x = QDense(\n",
    "            1, # single output unit\n",
    "            kernel_quantizer=quantized_bits(12, 3, 1, alpha=1.0),\n",
    "            use_bias=False,\n",
    "            name=\"dense2\",\n",
    "        )(x)\n",
    "        outputs = QActivation(\"quantized_relu(16, 8)\", name=\"outputs\")(x)\n",
    "        return Model(inputs, outputs, name=\"cicada-v2\")\n"
   ]
  },
  {
   "cell_type": "code",
   "execution_count": 302,
   "metadata": {},
   "outputs": [],
   "source": [
    "def loss(y_true: npt.NDArray, y_pred: npt.NDArray) -> npt.NDArray:\n",
    "    return np.mean((y_true - y_pred) ** 2, axis=(1, 2, 3))\n",
    "\n",
    "def quantize(arr: npt.NDArray, precision: tuple = (16, 8)) -> npt.NDArray:\n",
    "    # word contains the number of bits, int_ #bits for the integer part then \n",
    "    # calculates the number of bits for the decimal part and the step size\n",
    "    # next the function calculates the maximum value that can be represented\n",
    "    # finally it quantizes the array and clips the values to the maximum and 0\n",
    "    word, int_ = precision \n",
    "    decimal = word - int_\n",
    "    step = 1 / 2**decimal\n",
    "    max_ = 2**int_ - step\n",
    "    arrq = step * np.round(arr / step)\n",
    "    arrc = np.clip(arrq, 0, max_)\n",
    "    return arrc\n",
    "\n",
    "def get_student_targets(\n",
    "    teacher: Model, gen: RegionETGenerator, X: npt.NDArray\n",
    ") -> data.Dataset:\n",
    "    X = np.expand_dims(X, axis=-1)\n",
    "    X_hat = teacher.predict(X, batch_size=512, verbose=0)\n",
    "    y = loss(X, X_hat) # FP32 loss\n",
    "    y = quantize(np.log(y) * 32)  # Scaled FP32 loss\n",
    "    # arguments: input of the teacher model, quantized loss and batch size\n",
    "    return gen.get_generator(X.reshape((-1, 256, 1)), y, 128, False)\n",
    "\n",
    "def train_model(\n",
    "    model: Model,\n",
    "    training_dataset: data.Dataset,\n",
    "    validation_dataset: data.Dataset,\n",
    "    epoch: int = 1,\n",
    "    steps: int = 1,\n",
    "    callbacks=None,\n",
    "    verbose: bool = False,\n",
    ") -> None:\n",
    "    model.fit(\n",
    "        training_dataset,\n",
    "        steps_per_epoch=len(training_dataset), # the model process the entire dataset\n",
    "        initial_epoch=epoch,\n",
    "        epochs=epoch + steps,\n",
    "        validation_data=validation_dataset,\n",
    "        callbacks=callbacks,\n",
    "        verbose=verbose,\n",
    "    )\n"
   ]
  },
  {
   "cell_type": "code",
   "execution_count": 303,
   "metadata": {},
   "outputs": [
    {
     "name": "stderr",
     "output_type": "stream",
     "text": [
      "WARNING:absl:At this time, the v2.11+ optimizer `tf.keras.optimizers.Adam` runs slowly on M1/M2 Macs, please use the legacy Keras optimizer instead, located at `tf.keras.optimizers.legacy.Adam`.\n",
      "WARNING:absl:At this time, the v2.11+ optimizer `tf.keras.optimizers.Adam` runs slowly on M1/M2 Macs, please use the legacy Keras optimizer instead, located at `tf.keras.optimizers.legacy.Adam`.\n"
     ]
    }
   ],
   "source": [
    "teacher = TeacherAutoencoderRevised((16, 16, 1)).get_model()\n",
    "teacher.compile(optimizer=Adam(learning_rate=0.001), loss=\"mse\")\n",
    "t_mc = ModelCheckpoint(f\"models/{teacher.name}\", save_best_only=True)\n",
    "t_log = CSVLogger(f\"models/{teacher.name}/training.log\", append=True)\n",
    "\n",
    "cicada_v2 = CicadaV2((256,)).get_model()\n",
    "cicada_v2.compile(optimizer=Adam(learning_rate=0.001), loss=\"mae\")\n",
    "cv2_mc = ModelCheckpoint(f\"models/{cicada_v2.name}\", save_best_only=True)\n",
    "cv2_log = CSVLogger(f\"models/{cicada_v2.name}/training.log\", append=True)"
   ]
  },
  {
   "cell_type": "code",
   "execution_count": 304,
   "metadata": {},
   "outputs": [],
   "source": [
    "gen = RegionETGenerator()\n",
    "gen_train = gen.get_generator(augmented_images, augmented_images, 8, True)\n",
    "gen_val = gen.get_generator(images_val, images_val, 8)"
   ]
  },
  {
   "cell_type": "code",
   "execution_count": 305,
   "metadata": {},
   "outputs": [],
   "source": [
    "import warnings\n",
    "\n",
    "# Disable all warnings\n",
    "warnings.filterwarnings(\"ignore\")"
   ]
  },
  {
   "cell_type": "code",
   "execution_count": 306,
   "metadata": {},
   "outputs": [
    {
     "name": "stdout",
     "output_type": "stream",
     "text": [
      "789/800 [============================>.] - ETA: 0s - loss: 0.3430INFO:tensorflow:Assets written to: models/teacher-transpose/assets\n"
     ]
    },
    {
     "name": "stderr",
     "output_type": "stream",
     "text": [
      "INFO:tensorflow:Assets written to: models/teacher-transpose/assets\n"
     ]
    },
    {
     "name": "stdout",
     "output_type": "stream",
     "text": [
      "800/800 [==============================] - 3s 4ms/step - loss: 0.3421 - val_loss: 0.5412\n"
     ]
    },
    {
     "name": "stderr",
     "output_type": "stream",
     "text": [
      "WARNING:absl:At this time, the v2.11+ optimizer `tf.keras.optimizers.Adam` runs slowly on M1/M2 Macs, please use the legacy Keras optimizer instead, located at `tf.keras.optimizers.legacy.Adam`.\n"
     ]
    },
    {
     "name": "stdout",
     "output_type": "stream",
     "text": [
      "Epoch 1/10\n",
      "49/50 [============================>.] - ETA: 0s - loss: 0.2457 INFO:tensorflow:Assets written to: models/cicada-v2/assets\n"
     ]
    },
    {
     "name": "stderr",
     "output_type": "stream",
     "text": [
      "INFO:tensorflow:Assets written to: models/cicada-v2/assets\n"
     ]
    },
    {
     "name": "stdout",
     "output_type": "stream",
     "text": [
      "50/50 [==============================] - 1s 12ms/step - loss: 0.2433 - val_loss: 0.6479\n",
      "Epoch 2/10\n",
      "48/50 [===========================>..] - ETA: 0s - loss: 0.0740INFO:tensorflow:Assets written to: models/cicada-v2/assets\n"
     ]
    },
    {
     "name": "stderr",
     "output_type": "stream",
     "text": [
      "INFO:tensorflow:Assets written to: models/cicada-v2/assets\n"
     ]
    },
    {
     "name": "stdout",
     "output_type": "stream",
     "text": [
      "50/50 [==============================] - 1s 18ms/step - loss: 0.0726 - val_loss: 0.5250\n",
      "Epoch 3/10\n",
      "49/50 [============================>.] - ETA: 0s - loss: 0.0401INFO:tensorflow:Assets written to: models/cicada-v2/assets\n"
     ]
    },
    {
     "name": "stderr",
     "output_type": "stream",
     "text": [
      "INFO:tensorflow:Assets written to: models/cicada-v2/assets\n"
     ]
    },
    {
     "name": "stdout",
     "output_type": "stream",
     "text": [
      "50/50 [==============================] - 0s 10ms/step - loss: 0.0400 - val_loss: 0.5125\n",
      "Epoch 4/10\n",
      "37/50 [=====================>........] - ETA: 0s - loss: 0.0314INFO:tensorflow:Assets written to: models/cicada-v2/assets\n"
     ]
    },
    {
     "name": "stderr",
     "output_type": "stream",
     "text": [
      "INFO:tensorflow:Assets written to: models/cicada-v2/assets\n"
     ]
    },
    {
     "name": "stdout",
     "output_type": "stream",
     "text": [
      "50/50 [==============================] - 1s 11ms/step - loss: 0.0301 - val_loss: 0.5112\n",
      "Epoch 5/10\n",
      "50/50 [==============================] - 0s 2ms/step - loss: 0.0212 - val_loss: 0.5112\n",
      "Epoch 6/10\n",
      "50/50 [==============================] - 0s 1ms/step - loss: 0.0182 - val_loss: 0.5112\n",
      "Epoch 7/10\n",
      "50/50 [==============================] - 0s 1ms/step - loss: 0.0185 - val_loss: 0.5112\n",
      "Epoch 8/10\n",
      "50/50 [==============================] - 0s 1ms/step - loss: 0.0176 - val_loss: 0.5112\n",
      "Epoch 9/10\n",
      "50/50 [==============================] - 0s 1ms/step - loss: 0.0176 - val_loss: 0.5112\n",
      "Epoch 10/10\n",
      "50/50 [==============================] - 0s 1ms/step - loss: 0.0177 - val_loss: 0.5112\n",
      "Epoch 2/2\n",
      "795/800 [============================>.] - ETA: 0s - loss: 0.2370INFO:tensorflow:Assets written to: models/teacher-transpose/assets\n"
     ]
    },
    {
     "name": "stderr",
     "output_type": "stream",
     "text": [
      "INFO:tensorflow:Assets written to: models/teacher-transpose/assets\n"
     ]
    },
    {
     "name": "stdout",
     "output_type": "stream",
     "text": [
      "800/800 [==============================] - 4s 4ms/step - loss: 0.2367 - val_loss: 0.4961\n"
     ]
    },
    {
     "name": "stderr",
     "output_type": "stream",
     "text": [
      "WARNING:absl:At this time, the v2.11+ optimizer `tf.keras.optimizers.Adam` runs slowly on M1/M2 Macs, please use the legacy Keras optimizer instead, located at `tf.keras.optimizers.legacy.Adam`.\n"
     ]
    },
    {
     "name": "stdout",
     "output_type": "stream",
     "text": [
      "Epoch 11/20\n",
      "47/50 [===========================>..] - ETA: 0s - loss: 0.0056INFO:tensorflow:Assets written to: models/cicada-v2/assets\n"
     ]
    },
    {
     "name": "stderr",
     "output_type": "stream",
     "text": [
      "INFO:tensorflow:Assets written to: models/cicada-v2/assets\n"
     ]
    },
    {
     "name": "stdout",
     "output_type": "stream",
     "text": [
      "50/50 [==============================] - 1s 10ms/step - loss: 0.0054 - val_loss: 0.1693\n",
      "Epoch 12/20\n",
      "50/50 [==============================] - 0s 1ms/step - loss: 0.0050 - val_loss: 0.1693\n",
      "Epoch 13/20\n",
      "50/50 [==============================] - 0s 1ms/step - loss: 0.0048 - val_loss: 0.1693\n",
      "Epoch 14/20\n",
      "50/50 [==============================] - 0s 1ms/step - loss: 0.0048 - val_loss: 0.1693\n",
      "Epoch 15/20\n",
      "50/50 [==============================] - 0s 1ms/step - loss: 0.0045 - val_loss: 0.1693\n",
      "Epoch 16/20\n",
      "50/50 [==============================] - 0s 1ms/step - loss: 0.0048 - val_loss: 0.1693\n",
      "Epoch 17/20\n",
      "50/50 [==============================] - 0s 1ms/step - loss: 0.0043 - val_loss: 0.1693\n",
      "Epoch 18/20\n",
      "50/50 [==============================] - 0s 1ms/step - loss: 0.0044 - val_loss: 0.1693\n",
      "Epoch 19/20\n",
      "50/50 [==============================] - 0s 1ms/step - loss: 0.0041 - val_loss: 0.1693\n",
      "Epoch 20/20\n",
      "50/50 [==============================] - 0s 1ms/step - loss: 0.0041 - val_loss: 0.1693\n"
     ]
    }
   ],
   "source": [
    "for epoch in range(2):\n",
    "    train_model(\n",
    "        teacher,\n",
    "        gen_train,\n",
    "        gen_val,\n",
    "        epoch=epoch,\n",
    "        callbacks=[t_mc, t_log],\n",
    "        verbose=1,\n",
    "    )\n",
    "    tmp_teacher = load_model(f\"models/{teacher.name}\")\n",
    "    #s_gen_train = get_student_targets(tmp_teacher, gen, X_train_student)\n",
    "    #s_gen_val = get_student_targets(tmp_teacher, gen, X_val_student)\n",
    "    s_gen_train = get_student_targets(tmp_teacher, gen, augmented_images)\n",
    "    s_gen_val = get_student_targets(tmp_teacher, gen, images_val)\n",
    "    train_model(\n",
    "            cicada_v2,\n",
    "            s_gen_train,\n",
    "            s_gen_val,\n",
    "            epoch=10 * epoch,\n",
    "            steps=10,\n",
    "            callbacks=[cv2_mc, cv2_log],\n",
    "            verbose=1,\n",
    "        )"
   ]
  },
  {
   "cell_type": "code",
   "execution_count": null,
   "metadata": {},
   "outputs": [],
   "source": [
    "import importlib\n",
    "import drawing\n",
    "importlib.reload(drawing)\n",
    "from drawing import Draw\n",
    "draw = Draw(output_dir='plots', interactive=False)"
   ]
  },
  {
   "cell_type": "code",
   "execution_count": 273,
   "metadata": {},
   "outputs": [
    {
     "name": "stdout",
     "output_type": "stream",
     "text": [
      "1/1 [==============================] - 0s 11ms/step\n",
      "1.6601254835595078\n"
     ]
    }
   ],
   "source": [
    "image_example = images_test[:1]\n",
    "y_example = teacher.predict(image_example, verbose=1)\n",
    "print(loss(image_example, y_example)[0])\n",
    "draw.plot_reconstruction_results(\n",
    "        image_example,\n",
    "        y_example,\n",
    "        loss=loss(image_example, y_example)[0],\n",
    "        name=\"comparison-background\",\n",
    "    )"
   ]
  },
  {
   "cell_type": "code",
   "execution_count": 281,
   "metadata": {},
   "outputs": [
    {
     "name": "stdout",
     "output_type": "stream",
     "text": [
      "7/7 [==============================] - 0s 3ms/step\n",
      "7/7 [==============================] - 0s 486us/step\n"
     ]
    }
   ],
   "source": [
    "y_pred_teacher = teacher.predict(images_test, verbose=1)\n",
    "y_loss_teacher = loss(images_test[:, :, :, None], y_pred_teacher)\n",
    "y_loss_cicada = cicada_v2.predict(images_test.reshape((-1, 256)), verbose=1)"
   ]
  }
 ],
 "metadata": {
  "colab": {
   "provenance": []
  },
  "kernelspec": {
   "display_name": "cicada",
   "language": "python",
   "name": "python3"
  },
  "language_info": {
   "codemirror_mode": {
    "name": "ipython",
    "version": 3
   },
   "file_extension": ".py",
   "mimetype": "text/x-python",
   "name": "python",
   "nbconvert_exporter": "python",
   "pygments_lexer": "ipython3",
   "version": "3.9.16"
  }
 },
 "nbformat": 4,
 "nbformat_minor": 0
}
