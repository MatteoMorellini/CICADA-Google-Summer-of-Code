{
  "nbformat": 4,
  "nbformat_minor": 0,
  "metadata": {
    "colab": {
      "provenance": []
    },
    "kernelspec": {
      "name": "python3",
      "display_name": "Python 3"
    },
    "language_info": {
      "name": "python"
    }
  },
  "cells": [
    {
      "cell_type": "code",
      "source": [
        "# TODO: change from mounting drive to local files\n",
        "# TODO: add tests"
      ],
      "metadata": {
        "id": "M9Z3-wLJD3WK"
      },
      "execution_count": null,
      "outputs": []
    },
    {
      "cell_type": "code",
      "execution_count": 1,
      "metadata": {
        "colab": {
          "base_uri": "https://localhost:8080/"
        },
        "id": "31eRAU4zDb7p",
        "outputId": "4e25beac-74b9-4b7e-f386-406ef06dddf2"
      },
      "outputs": [
        {
          "output_type": "stream",
          "name": "stdout",
          "text": [
            "Mounted at /content/drive\n"
          ]
        }
      ],
      "source": [
        "from google.colab import drive\n",
        "drive.mount('/content/drive')"
      ]
    },
    {
      "cell_type": "code",
      "source": [
        "%cd drive/MyDrive/gsoc-evaluation-task/"
      ],
      "metadata": {
        "colab": {
          "base_uri": "https://localhost:8080/"
        },
        "id": "ETWiMkajD6gk",
        "outputId": "4f117cc4-d57e-4cbb-f5f1-a6a21bafdc19"
      },
      "execution_count": 2,
      "outputs": [
        {
          "output_type": "stream",
          "name": "stdout",
          "text": [
            "/content/drive/MyDrive/gsoc-evaluation-task\n"
          ]
        }
      ]
    },
    {
      "cell_type": "code",
      "source": [
        "%ls"
      ],
      "metadata": {
        "colab": {
          "base_uri": "https://localhost:8080/"
        },
        "id": "6B8OyeeCD-dK",
        "outputId": "1f59a01a-5acb-43d8-afe2-797a73524fbf"
      },
      "execution_count": 3,
      "outputs": [
        {
          "output_type": "stream",
          "name": "stdout",
          "text": [
            "\u001b[0m\u001b[01;34mdata\u001b[0m/  \u001b[01;34mmodel\u001b[0m/  README.md\n"
          ]
        }
      ]
    },
    {
      "cell_type": "code",
      "source": [
        "%pip install -q seaborn_image"
      ],
      "metadata": {
        "colab": {
          "base_uri": "https://localhost:8080/"
        },
        "id": "95kOjxKqKhu0",
        "outputId": "58c9c62d-f0f3-4c57-bc75-b4f7a7f0df0d"
      },
      "execution_count": 51,
      "outputs": [
        {
          "output_type": "stream",
          "name": "stdout",
          "text": [
            "\u001b[?25l   \u001b[90m━━━━━━━━━━━━━━━━━━━━━━━━━━━━━━━━━━━━━━━━\u001b[0m \u001b[32m0.0/332.3 kB\u001b[0m \u001b[31m?\u001b[0m eta \u001b[36m-:--:--\u001b[0m\r\u001b[2K   \u001b[91m━━━━━━━━━━━━━━━━━━━━━━━━━━━━━━━━━━━━━━━\u001b[0m\u001b[90m╺\u001b[0m \u001b[32m327.7/332.3 kB\u001b[0m \u001b[31m13.0 MB/s\u001b[0m eta \u001b[36m0:00:01\u001b[0m\r\u001b[2K   \u001b[90m━━━━━━━━━━━━━━━━━━━━━━━━━━━━━━━━━━━━━━━━\u001b[0m \u001b[32m332.3/332.3 kB\u001b[0m \u001b[31m8.1 MB/s\u001b[0m eta \u001b[36m0:00:00\u001b[0m\n",
            "\u001b[?25h"
          ]
        }
      ]
    },
    {
      "cell_type": "code",
      "source": [
        "import numpy as np\n",
        "import tensorflow as tf\n",
        "import pandas as pd\n",
        "import matplotlib.pyplot as plt\n",
        "from pathlib import Path\n",
        "from numpy.typing import NDArray\n",
        "import seaborn as sns\n",
        "import seaborn_image as isns\n",
        "from sklearn.metrics import roc_curve, auc"
      ],
      "metadata": {
        "id": "QJ_lHFdND_E_"
      },
      "execution_count": 52,
      "outputs": []
    },
    {
      "cell_type": "code",
      "source": [
        "data_path = Path('data')\n",
        "model_path = Path('model')"
      ],
      "metadata": {
        "id": "4RdmTsFHEncC"
      },
      "execution_count": 5,
      "outputs": []
    },
    {
      "cell_type": "code",
      "source": [
        "images = np.load(data_path / 'images.npy')\n",
        "labels = np.load(data_path / 'labels.npy')"
      ],
      "metadata": {
        "id": "7xDeQoEoEuPj"
      },
      "execution_count": 6,
      "outputs": []
    },
    {
      "cell_type": "code",
      "source": [
        "# TODO: can we keep generic? what if it's a string?\n",
        "def labels_description(data: NDArray[np.generic]) -> None:\n",
        "  df = pd.DataFrame(data)\n",
        "  print(df.describe())\n",
        "  print(df.info())\n",
        "\n",
        "def slice_description(data: NDArray[np.float64]) -> None:\n",
        "  slice = data[0, :, :].reshape(256,)\n",
        "  df = pd.DataFrame(slice)\n",
        "  print(df.describe())\n",
        "  print(df.info())"
      ],
      "metadata": {
        "id": "wRl6k-ZsGNj1"
      },
      "execution_count": 35,
      "outputs": []
    },
    {
      "cell_type": "code",
      "source": [
        "slice_description(images)"
      ],
      "metadata": {
        "colab": {
          "base_uri": "https://localhost:8080/"
        },
        "id": "Bd3sMnZrHLfc",
        "outputId": "e479e7c4-0893-4c67-d688-baaa0015659c"
      },
      "execution_count": 36,
      "outputs": [
        {
          "output_type": "stream",
          "name": "stdout",
          "text": [
            "                0\n",
            "count  256.000000\n",
            "mean     0.955877\n",
            "std      0.908362\n",
            "min      0.007223\n",
            "25%      0.306411\n",
            "50%      0.691741\n",
            "75%      1.343379\n",
            "max      6.263326\n",
            "<class 'pandas.core.frame.DataFrame'>\n",
            "RangeIndex: 256 entries, 0 to 255\n",
            "Data columns (total 1 columns):\n",
            " #   Column  Non-Null Count  Dtype  \n",
            "---  ------  --------------  -----  \n",
            " 0   0       256 non-null    float64\n",
            "dtypes: float64(1)\n",
            "memory usage: 2.1 KB\n",
            "None\n"
          ]
        }
      ]
    },
    {
      "cell_type": "code",
      "source": [
        "df = pd.DataFrame(images[0, :, :])\n",
        "print(df.info())"
      ],
      "metadata": {
        "colab": {
          "base_uri": "https://localhost:8080/"
        },
        "id": "sblEW_tCH5NE",
        "outputId": "669d3b67-8c7d-4007-a3a2-d4e69c3ef33b"
      },
      "execution_count": 27,
      "outputs": [
        {
          "output_type": "stream",
          "name": "stdout",
          "text": [
            "<class 'pandas.core.frame.DataFrame'>\n",
            "RangeIndex: 16 entries, 0 to 15\n",
            "Data columns (total 16 columns):\n",
            " #   Column  Non-Null Count  Dtype  \n",
            "---  ------  --------------  -----  \n",
            " 0   0       16 non-null     float64\n",
            " 1   1       16 non-null     float64\n",
            " 2   2       16 non-null     float64\n",
            " 3   3       16 non-null     float64\n",
            " 4   4       16 non-null     float64\n",
            " 5   5       16 non-null     float64\n",
            " 6   6       16 non-null     float64\n",
            " 7   7       16 non-null     float64\n",
            " 8   8       16 non-null     float64\n",
            " 9   9       16 non-null     float64\n",
            " 10  10      16 non-null     float64\n",
            " 11  11      16 non-null     float64\n",
            " 12  12      16 non-null     float64\n",
            " 13  13      16 non-null     float64\n",
            " 14  14      16 non-null     float64\n",
            " 15  15      16 non-null     float64\n",
            "dtypes: float64(16)\n",
            "memory usage: 2.1 KB\n",
            "None\n"
          ]
        }
      ]
    },
    {
      "cell_type": "code",
      "source": [
        "# TODO: check the type of pixels\n",
        "def print_random_image(images: NDArray[np.float64], labels: NDArray[np.int64]) -> None:\n",
        "  index = np.random.randint(0, images.shape[0])\n",
        "  plt.imshow(images[index])\n",
        "  plt.title(f'Label: {labels[index]}')\n",
        "  plt.show()\n",
        "\n",
        "def print_image_distribution(images: NDArray[np.float64], labels: NDArray[np.int64]) -> None:\n",
        "  index = np.random.randint(0, images.shape[0])\n",
        "  ax = isns.imghist(images[index])\n",
        "  plt.title(f'Index: {index}, Label: {labels[index]}')"
      ],
      "metadata": {
        "id": "Wvu6-rp2E78t"
      },
      "execution_count": 68,
      "outputs": []
    },
    {
      "cell_type": "code",
      "source": [
        "# TODO: histogram of pixel intensities using seaborn (or alternatives)\n",
        "print_image_distribution(images, labels)"
      ],
      "metadata": {
        "colab": {
          "base_uri": "https://localhost:8080/",
          "height": 446
        },
        "id": "y2iRSD_lE3vu",
        "outputId": "c28ea8b2-8b61-4601-cfbd-50de9b75dd1e"
      },
      "execution_count": 69,
      "outputs": [
        {
          "output_type": "display_data",
          "data": {
            "text/plain": [
              "<Figure size 875x500 with 3 Axes>"
            ],
            "image/png": "[encoded data removed]"
          },
          "metadata": {}
        }
      ]
    },
    {
      "cell_type": "code",
      "source": [
        "model = tf.saved_model.load(model_path)"
      ],
      "metadata": {
        "colab": {
          "base_uri": "https://localhost:8080/",
          "height": 156
        },
        "id": "8oOyycNKKYNM",
        "outputId": "9884d0db-e630-4c8f-f470-850402ad5125"
      },
      "execution_count": 85,
      "outputs": [
        {
          "output_type": "error",
          "ename": "AttributeError",
          "evalue": "'_UserObject' object has no attribute 'summary'",
          "traceback": [
            "\u001b[0;31m---------------------------------------------------------------------------\u001b[0m",
            "\u001b[0;31mAttributeError\u001b[0m                            Traceback (most recent call last)",
            "\u001b[0;32m<ipython-input-85-213cf54fe2d8>\u001b[0m in \u001b[0;36m<cell line: 0>\u001b[0;34m()\u001b[0m\n\u001b[1;32m      1\u001b[0m \u001b[0mmodel\u001b[0m \u001b[0;34m=\u001b[0m \u001b[0mtf\u001b[0m\u001b[0;34m.\u001b[0m\u001b[0msaved_model\u001b[0m\u001b[0;34m.\u001b[0m\u001b[0mload\u001b[0m\u001b[0;34m(\u001b[0m\u001b[0mmodel_path\u001b[0m\u001b[0;34m)\u001b[0m\u001b[0;34m\u001b[0m\u001b[0;34m\u001b[0m\u001b[0m\n\u001b[0;32m----> 2\u001b[0;31m \u001b[0mprint\u001b[0m\u001b[0;34m(\u001b[0m\u001b[0mmodel\u001b[0m\u001b[0;34m.\u001b[0m\u001b[0msummary\u001b[0m\u001b[0;34m(\u001b[0m\u001b[0;34m)\u001b[0m\u001b[0;34m)\u001b[0m\u001b[0;34m\u001b[0m\u001b[0;34m\u001b[0m\u001b[0m\n\u001b[0m",
            "\u001b[0;31mAttributeError\u001b[0m: '_UserObject' object has no attribute 'summary'"
          ]
        }
      ]
    },
    {
      "cell_type": "code",
      "source": [
        "#keras_model = tf.keras.models.load_model('model')\n",
        "keras_model = tf.keras.layers.TFSMLayer(model_path, call_endpoint = 'serving_default')"
      ],
      "metadata": {
        "id": "7Qky33wXQewH"
      },
      "execution_count": 88,
      "outputs": []
    },
    {
      "cell_type": "code",
      "source": [
        "print(keras_model.summary())"
      ],
      "metadata": {
        "colab": {
          "base_uri": "https://localhost:8080/",
          "height": 139
        },
        "id": "YBIK127aRguo",
        "outputId": "7ce0212d-34c6-4f91-9d7a-c0a2ffe8c21b"
      },
      "execution_count": 89,
      "outputs": [
        {
          "output_type": "error",
          "ename": "AttributeError",
          "evalue": "'TFSMLayer' object has no attribute 'summary'",
          "traceback": [
            "\u001b[0;31m---------------------------------------------------------------------------\u001b[0m",
            "\u001b[0;31mAttributeError\u001b[0m                            Traceback (most recent call last)",
            "\u001b[0;32m<ipython-input-89-012d60618ebe>\u001b[0m in \u001b[0;36m<cell line: 0>\u001b[0;34m()\u001b[0m\n\u001b[0;32m----> 1\u001b[0;31m \u001b[0mprint\u001b[0m\u001b[0;34m(\u001b[0m\u001b[0mkeras_model\u001b[0m\u001b[0;34m.\u001b[0m\u001b[0msummary\u001b[0m\u001b[0;34m(\u001b[0m\u001b[0;34m)\u001b[0m\u001b[0;34m)\u001b[0m\u001b[0;34m\u001b[0m\u001b[0;34m\u001b[0m\u001b[0m\n\u001b[0m",
            "\u001b[0;31mAttributeError\u001b[0m: 'TFSMLayer' object has no attribute 'summary'"
          ]
        }
      ]
    },
    {
      "cell_type": "code",
      "source": [
        "infer = model.signatures['serving_default']"
      ],
      "metadata": {
        "id": "wlI6p7GRLuJF"
      },
      "execution_count": 75,
      "outputs": []
    },
    {
      "cell_type": "code",
      "source": [
        "print(images[0, :, :][None, :].shape)"
      ],
      "metadata": {
        "colab": {
          "base_uri": "https://localhost:8080/"
        },
        "id": "fDNpQcA6PM3z",
        "outputId": "dda607f6-b963-443f-daab-17db347e830e"
      },
      "execution_count": 81,
      "outputs": [
        {
          "output_type": "stream",
          "name": "stdout",
          "text": [
            "(1, 16, 16)\n"
          ]
        }
      ]
    },
    {
      "cell_type": "code",
      "source": [
        "input_tensor = tf.convert_to_tensor(images, dtype=tf.float32)"
      ],
      "metadata": {
        "id": "HfNeg7YgPFhj"
      },
      "execution_count": 94,
      "outputs": []
    },
    {
      "cell_type": "code",
      "source": [
        "output = infer(input_tensor)\n",
        "output = output['lambda'].numpy()"
      ],
      "metadata": {
        "id": "NfEkt3mBN4as"
      },
      "execution_count": 113,
      "outputs": []
    },
    {
      "cell_type": "code",
      "source": [
        "print(output[:10], type(output[0]))"
      ],
      "metadata": {
        "colab": {
          "base_uri": "https://localhost:8080/"
        },
        "id": "BZwXlWkVT55J",
        "outputId": "75012e27-9a0c-44c5-acc3-bd5e16cb327f"
      },
      "execution_count": 117,
      "outputs": [
        {
          "output_type": "stream",
          "name": "stdout",
          "text": [
            "[244.7044  246.41003 266.45758 287.88647 289.0215  273.17194 278.84222\n",
            " 281.30765 251.8764  282.83258] <class 'numpy.float32'>\n"
          ]
        }
      ]
    },
    {
      "cell_type": "code",
      "source": [],
      "metadata": {
        "id": "tuiLlWONT_S-"
      },
      "execution_count": null,
      "outputs": []
    },
    {
      "cell_type": "code",
      "source": [
        "min_score = np.min(output)\n",
        "max_score = np.max(output)"
      ],
      "metadata": {
        "id": "IJc0ESDJS0Je"
      },
      "execution_count": 114,
      "outputs": []
    },
    {
      "cell_type": "code",
      "source": [
        "output[0]-min_score"
      ],
      "metadata": {
        "colab": {
          "base_uri": "https://localhost:8080/"
        },
        "id": "s6wSgtvFUAFf",
        "outputId": "0ee14c7e-9d03-475a-dae7-ac222f915c46"
      },
      "execution_count": 118,
      "outputs": [
        {
          "output_type": "execute_result",
          "data": {
            "text/plain": [
              "np.float32(34.27954)"
            ]
          },
          "metadata": {},
          "execution_count": 118
        }
      ]
    },
    {
      "cell_type": "code",
      "source": [
        "normalized_output = []\n",
        "for score in output:\n",
        "  normalized_output.append((score - min_score)/(max_score-min_score))"
      ],
      "metadata": {
        "id": "Zsv3A7A3UGoh"
      },
      "execution_count": 122,
      "outputs": []
    },
    {
      "cell_type": "code",
      "source": [],
      "metadata": {
        "id": "ZXrfTDv8Thx2"
      },
      "execution_count": 123,
      "outputs": []
    },
    {
      "cell_type": "code",
      "source": [
        "fpr, tpr, thresholds = roc_curve(labels, normalized_output)"
      ],
      "metadata": {
        "id": "7yuRe9SPUZwi"
      },
      "execution_count": 124,
      "outputs": []
    },
    {
      "cell_type": "code",
      "source": [
        "roc_auc = auc(fpr, tpr)"
      ],
      "metadata": {
        "id": "-8Z6XM5vUdFI"
      },
      "execution_count": 125,
      "outputs": []
    },
    {
      "cell_type": "code",
      "source": [
        "# Plotting the ROC curve\n",
        "plt.figure(figsize=(8, 6))\n",
        "plt.plot(fpr, tpr, color='darkorange', lw=2, label='ROC curve (area = {:.2f})'.format(roc_auc))\n",
        "plt.plot([0, 1], [0, 1], color='navy', lw=2, linestyle='--')  # diagonal line (random classifier)\n",
        "\n",
        "# Add labels and title\n",
        "plt.xlim([0.0, 1.0])\n",
        "plt.ylim([0.0, 1.05])\n",
        "plt.xlabel('False Positive Rate')\n",
        "plt.ylabel('True Positive Rate')\n",
        "plt.title('Receiver Operating Characteristic (ROC) Curve')\n",
        "plt.legend(loc=\"lower right\")\n",
        "\n",
        "# Show plot\n",
        "plt.show()"
      ],
      "metadata": {
        "colab": {
          "base_uri": "https://localhost:8080/",
          "height": 572
        },
        "id": "MXWbVUrDUet3",
        "outputId": "4bcfa6ee-f844-4887-b84a-3bf1daabca82"
      },
      "execution_count": 126,
      "outputs": [
        {
          "output_type": "display_data",
          "data": {
            "text/plain": [
              "<Figure size 800x600 with 1 Axes>"
            ],
            "image/png": "[encoded data removed]"
          },
          "metadata": {}
        }
      ]
    },
    {
      "cell_type": "code",
      "source": [],
      "metadata": {
        "id": "Y6lolGevUgf0"
      },
      "execution_count": null,
      "outputs": []
    }
  ]
}