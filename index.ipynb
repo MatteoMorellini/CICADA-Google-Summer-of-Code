{
 "cells": [
  {
   "cell_type": "markdown",
   "metadata": {
    "id": "oDJW6BCjZlsl"
   },
   "source": [
    "### Configurations and Libraries\n",
    "\n"
   ]
  },
  {
   "cell_type": "code",
   "execution_count": 1,
   "metadata": {
    "id": "M9Z3-wLJD3WK"
   },
   "outputs": [],
   "source": [
    "# TODO: change from mounting drive to local files\n",
    "# TODO: add tests"
   ]
  },
  {
   "cell_type": "code",
   "execution_count": 2,
   "metadata": {
    "id": "QJ_lHFdND_E_"
   },
   "outputs": [],
   "source": [
    "import numpy as np\n",
    "import tensorflow as tf\n",
    "import pandas as pd\n",
    "import matplotlib.pyplot as plt\n",
    "from pathlib import Path\n",
    "from numpy.typing import NDArray\n",
    "import seaborn as sns\n",
    "import seaborn_image as isns\n",
    "from sklearn.metrics import roc_curve, auc\n",
    "from sklearn.model_selection import train_test_split\n",
    "from generator import RegionETGenerator\n",
    "import time"
   ]
  },
  {
   "cell_type": "code",
   "execution_count": 3,
   "metadata": {},
   "outputs": [],
   "source": [
    "import os\n",
    "\n",
    "os.environ[\"TF_CPP_MIN_LOG_LEVEL\"] = \"3\"\n",
    "os.environ[\"TF_ENABLE_ONEDNN_OPTS\"] = \"0\""
   ]
  },
  {
   "cell_type": "markdown",
   "metadata": {
    "id": "eLb8pL5rZt5R"
   },
   "source": [
    "### Load & Describe Data"
   ]
  },
  {
   "cell_type": "code",
   "execution_count": 78,
   "metadata": {
    "id": "4RdmTsFHEncC"
   },
   "outputs": [],
   "source": [
    "data_path = Path('data')\n",
    "model_path = Path('model')"
   ]
  },
  {
   "cell_type": "code",
   "execution_count": 79,
   "metadata": {
    "id": "7xDeQoEoEuPj"
   },
   "outputs": [],
   "source": [
    "images = np.load(data_path / 'images.npy')\n",
    "labels = np.load(data_path / 'labels.npy')"
   ]
  },
  {
   "cell_type": "code",
   "execution_count": 6,
   "metadata": {
    "colab": {
     "base_uri": "https://localhost:8080/"
    },
    "id": "lKCAZSPZY23W",
    "outputId": "5a5e1011-2e2c-429a-d0df-97e9d0746389"
   },
   "outputs": [
    {
     "name": "stdout",
     "output_type": "stream",
     "text": [
      "Data type of images: float64\n",
      "Data type of labels: int64\n"
     ]
    }
   ],
   "source": [
    "print(f\"Data type of images: {images.dtype}\")\n",
    "print(f\"Data type of labels: {labels.dtype}\")"
   ]
  },
  {
   "cell_type": "code",
   "execution_count": 7,
   "metadata": {
    "id": "wRl6k-ZsGNj1"
   },
   "outputs": [],
   "source": [
    "# TODO: can we keep generic? what if it's a string?\n",
    "def labels_description(data: NDArray[np.int64]) -> None:\n",
    "  df = pd.DataFrame(data)\n",
    "  print(df.describe())\n",
    "  print(df.info())\n",
    "\n",
    "def slice_description(data: NDArray[np.float64]) -> None:\n",
    "  slice = data[0, :, :].reshape(256,)\n",
    "  df = pd.DataFrame(slice)\n",
    "  print(df.describe())\n",
    "  print(df.info())"
   ]
  },
  {
   "cell_type": "code",
   "execution_count": 8,
   "metadata": {
    "colab": {
     "base_uri": "https://localhost:8080/"
    },
    "id": "Bd3sMnZrHLfc",
    "outputId": "66a5d0fd-a1f3-44db-ae14-c7a098474a21"
   },
   "outputs": [
    {
     "name": "stdout",
     "output_type": "stream",
     "text": [
      "                0\n",
      "count  256.000000\n",
      "mean     0.955877\n",
      "std      0.908362\n",
      "min      0.007223\n",
      "25%      0.306411\n",
      "50%      0.691741\n",
      "75%      1.343379\n",
      "max      6.263326\n",
      "<class 'pandas.core.frame.DataFrame'>\n",
      "RangeIndex: 256 entries, 0 to 255\n",
      "Data columns (total 1 columns):\n",
      " #   Column  Non-Null Count  Dtype  \n",
      "---  ------  --------------  -----  \n",
      " 0   0       256 non-null    float64\n",
      "dtypes: float64(1)\n",
      "memory usage: 2.1 KB\n",
      "None\n"
     ]
    }
   ],
   "source": [
    "slice_description(images)"
   ]
  },
  {
   "cell_type": "code",
   "execution_count": 64,
   "metadata": {
    "colab": {
     "base_uri": "https://localhost:8080/"
    },
    "id": "sblEW_tCH5NE",
    "outputId": "3c29cd4d-7c73-4502-9b60-1b74c6b5df16"
   },
   "outputs": [
    {
     "name": "stdout",
     "output_type": "stream",
     "text": [
      "                0\n",
      "count  1000.00000\n",
      "mean      0.50000\n",
      "std       0.50025\n",
      "min       0.00000\n",
      "25%       0.00000\n",
      "50%       0.50000\n",
      "75%       1.00000\n",
      "max       1.00000\n",
      "<class 'pandas.core.frame.DataFrame'>\n",
      "RangeIndex: 1000 entries, 0 to 999\n",
      "Data columns (total 1 columns):\n",
      " #   Column  Non-Null Count  Dtype\n",
      "---  ------  --------------  -----\n",
      " 0   0       1000 non-null   int64\n",
      "dtypes: int64(1)\n",
      "memory usage: 7.9 KB\n",
      "None\n"
     ]
    }
   ],
   "source": [
    "labels_description(labels)"
   ]
  },
  {
   "cell_type": "code",
   "execution_count": 80,
   "metadata": {},
   "outputs": [],
   "source": [
    "images_train_val, images_test, labels_train_val, labels_test = train_test_split(\n",
    "    images, labels, test_size=0.2, random_state=42,)\n",
    "images_train, images_val, labels_train, labels_val = train_test_split(\n",
    "    images_train_val, labels_train_val, test_size=0.2, random_state=42,)"
   ]
  },
  {
   "cell_type": "markdown",
   "metadata": {
    "id": "KN7o6TRXZ06W"
   },
   "source": [
    "### Data Visualization"
   ]
  },
  {
   "cell_type": "code",
   "execution_count": 315,
   "metadata": {
    "id": "Wvu6-rp2E78t"
   },
   "outputs": [],
   "source": [
    "# TODO: check the type of pixels\n",
    "def print_random_image(images: NDArray[np.float64], labels: NDArray[np.int64]) -> None:\n",
    "  index = np.random.randint(0, images.shape[0])\n",
    "  plt.imshow(images[index])\n",
    "  plt.title(f'Label: {labels[index]}')\n",
    "  plt.show()\n",
    "\n",
    "def print_image_distribution(images: NDArray[np.float64], labels: NDArray[np.int64]) -> None:\n",
    "  index = np.random.randint(0, images.shape[0])\n",
    "  ax = isns.imghist(images[index])\n",
    "  plt.title(f'Index: {index}, Label: {labels[index]}')"
   ]
  },
  {
   "cell_type": "code",
   "execution_count": 316,
   "metadata": {
    "colab": {
     "base_uri": "https://localhost:8080/",
     "height": 446
    },
    "id": "y2iRSD_lE3vu",
    "outputId": "3fb5770e-b958-40bb-f307-30c6f57d5b1c"
   },
   "outputs": [
    {
     "data": {
      "image/png": "[encoded data removed]",
      "text/plain": [
       "<Figure size 875x500 with 3 Axes>"
      ]
     },
     "metadata": {},
     "output_type": "display_data"
    }
   ],
   "source": [
    "# TODO: histogram of pixel intensities using seaborn (or alternatives)\n",
    "print_image_distribution(images, labels)"
   ]
  },
  {
   "cell_type": "markdown",
   "metadata": {},
   "source": [
    "### Separate Positive and Negative Labels"
   ]
  },
  {
   "cell_type": "code",
   "execution_count": 81,
   "metadata": {},
   "outputs": [],
   "source": [
    "X_train = [img for img, label in zip(images_train, labels_train) if label == 0]\n",
    "y_train = [label for label in labels_train if label == 0]\n",
    "# keep the outliers in the training since they will join the training set for the student\n",
    "outlier_train = [img for img, label in zip(images_train, labels_train) if label == 1]\n",
    "outlier_train_labels = [label for label in labels_train if label == 1]"
   ]
  },
  {
   "cell_type": "code",
   "execution_count": 264,
   "metadata": {},
   "outputs": [
    {
     "data": {
      "text/plain": [
       "(-0.5, 15.5, 15.5, -0.5)"
      ]
     },
     "execution_count": 264,
     "metadata": {},
     "output_type": "execute_result"
    },
    {
     "data": {
      "image/png": "[encoded data removed]",
      "text/plain": [
       "<Figure size 600x300 with 2 Axes>"
      ]
     },
     "metadata": {},
     "output_type": "display_data"
    }
   ],
   "source": [
    "plt.figure(figsize=(6, 3))\n",
    "\n",
    "plt.subplot(1, 2, 1)\n",
    "plt.title(\"Normal\")\n",
    "plt.imshow(X_train[0])\n",
    "plt.axis(\"off\")\n",
    "\n",
    "plt.subplot(1, 2, 2)\n",
    "plt.title(\"Outlier\")\n",
    "plt.imshow(outlier_train[0])\n",
    "plt.axis(\"off\")"
   ]
  },
  {
   "cell_type": "code",
   "execution_count": 85,
   "metadata": {},
   "outputs": [
    {
     "data": {
      "text/plain": [
       "(317, 317, 323, 323, 640)"
      ]
     },
     "execution_count": 85,
     "metadata": {},
     "output_type": "execute_result"
    }
   ],
   "source": [
    "len(X_train), len(y_train), len(outlier_train), len(outlier_train_labels), len(images_train)"
   ]
  },
  {
   "cell_type": "code",
   "execution_count": 82,
   "metadata": {},
   "outputs": [],
   "source": [
    "X_val = [img for img, label in zip(images_val, labels_val) if label == 0]\n",
    "y_val = [label for label in labels_val if label == 0]\n",
    "outlier_val = [img for img, label in zip(images_val, labels_val) if label == 1]\n",
    "outlier_val_labels = [label for label in labels_val if label == 1]"
   ]
  },
  {
   "cell_type": "code",
   "execution_count": 83,
   "metadata": {},
   "outputs": [
    {
     "data": {
      "text/plain": [
       "(86, 86, 74, 74, 160)"
      ]
     },
     "execution_count": 83,
     "metadata": {},
     "output_type": "execute_result"
    }
   ],
   "source": [
    "len(X_val), len(y_val), len(outlier_val), len(outlier_val_labels), len(images_val)"
   ]
  },
  {
   "cell_type": "code",
   "execution_count": 84,
   "metadata": {},
   "outputs": [],
   "source": [
    "X_test = [img for img, label in zip(images_test, labels_test) if label == 0]\n",
    "y_test = [label for label in labels_test if label == 0]\n",
    "outlier_test = [img for img, label in zip(images_test, labels_test) if label == 1]\n",
    "outlier_test_labels = [label for label in labels_test if label == 1]"
   ]
  },
  {
   "cell_type": "markdown",
   "metadata": {},
   "source": [
    "### (Tentative) Data Augmentation"
   ]
  },
  {
   "cell_type": "code",
   "execution_count": 21,
   "metadata": {},
   "outputs": [],
   "source": [
    "data_augmentation = tf.keras.Sequential([\n",
    "    tf.keras.layers.RandomFlip(\"horizontal_and_vertical\"),  # Flip horizontally and vertically\n",
    "    #tf.keras.layers.RandomRotation(0.3),  # Rotate up to 20%\n",
    "    #tf.keras.layers.RandomZoom(0.3),  # Zoom up to 20%\n",
    "])"
   ]
  },
  {
   "cell_type": "code",
   "execution_count": 22,
   "metadata": {},
   "outputs": [],
   "source": [
    "augmented_images = []\n",
    "for image in X_train:\n",
    "    for _ in range(4):\n",
    "        augmented = data_augmentation(tf.expand_dims(image, axis=0))\n",
    "        augmented_images.append(tf.squeeze(augmented).numpy())\n",
    "X_train_aug = np.array(augmented_images)\n",
    "y_train_aug = np.repeat(y_train, 100)"
   ]
  },
  {
   "cell_type": "code",
   "execution_count": 132,
   "metadata": {},
   "outputs": [
    {
     "data": {
      "image/png": "[encoded data removed]",
      "text/plain": [
       "<Figure size 600x300 with 2 Axes>"
      ]
     },
     "metadata": {},
     "output_type": "display_data"
    }
   ],
   "source": [
    "plt.figure(figsize=(6, 3))\n",
    "plt.subplot(1, 2, 1)\n",
    "plt.title(\"Original\")\n",
    "plt.imshow(X_train[0])\n",
    "plt.axis(\"off\")\n",
    "\n",
    "plt.subplot(1, 2, 2)\n",
    "plt.title(\"Augmented\")\n",
    "plt.imshow(X_train_aug[3])\n",
    "plt.axis(\"off\")\n",
    "\n",
    "\n",
    "plt.show()"
   ]
  },
  {
   "cell_type": "markdown",
   "metadata": {
    "id": "KBbJPAaNaCIy"
   },
   "source": [
    "### Provided Model's Predictions"
   ]
  },
  {
   "cell_type": "code",
   "execution_count": 64,
   "metadata": {},
   "outputs": [],
   "source": [
    "def timer_decorator(func):\n",
    "    def wrapper(*args, **kwargs):\n",
    "        start_time = time.time()  # Record the start time\n",
    "        result = func(*args, **kwargs)  # Call the original function\n",
    "        end_time = time.time()  # Record the end time\n",
    "        execution_time = end_time - start_time  # Calculate the execution time\n",
    "        print(f\"Execution time of {func.__name__}: {execution_time:.4f} seconds\")\n",
    "        return result  # Return the result of the function\n",
    "    return wrapper"
   ]
  },
  {
   "cell_type": "code",
   "execution_count": 65,
   "metadata": {
    "id": "cHPGsCR4XDDS"
   },
   "outputs": [],
   "source": [
    "# TODO: again be coherent with the same format, especially if we consider quantization\n",
    "# TODO: move in utils.py\n",
    "@timer_decorator\n",
    "def predict(images: NDArray[np.float64]) -> NDArray[np.float32]:\n",
    "  output = infer(images)\n",
    "  return output\n",
    "\n",
    "def normalize_matrix(matrix: NDArray[np.float32]) -> NDArray[np.float32]:\n",
    "  min_score = np.min(matrix)\n",
    "  max_score = np.max(matrix)\n",
    "  normalized_output = []\n",
    "  for score in matrix:\n",
    "    normalized_output.append((score - min_score)/(max_score-min_score))\n",
    "  return np.array(normalized_output)"
   ]
  },
  {
   "cell_type": "code",
   "execution_count": 66,
   "metadata": {
    "id": "zLqv3zLhXzaH"
   },
   "outputs": [],
   "source": [
    "def plot_roc_curve(labs: NDArray[np.int32], preds: NDArray[np.float32]) -> None:\n",
    "  fpr, tpr, thresholds = roc_curve(labs, preds)\n",
    "  roc_auc = auc(fpr, tpr)\n",
    "  # Plotting the ROC curve\n",
    "  plt.figure(figsize=(8, 6))\n",
    "  plt.plot(fpr, tpr, color='darkorange', lw=2, label='ROC curve (area = {:.2f})'.format(roc_auc))\n",
    "  plt.plot([0, 1], [0, 1], color='navy', lw=2, linestyle='--')  # diagonal line (random classifier)\n",
    "\n",
    "  # Add labels and title\n",
    "  plt.xlim([0.0, 1.0])\n",
    "  plt.ylim([0.0, 1.05])\n",
    "  plt.xlabel('False Positive Rate')\n",
    "  plt.ylabel('True Positive Rate')\n",
    "  plt.title('Receiver Operating Characteristic (ROC) Curve')\n",
    "  plt.legend(loc=\"lower right\")\n",
    "\n",
    "  # Show plot\n",
    "  plt.show()"
   ]
  },
  {
   "cell_type": "code",
   "execution_count": 7,
   "metadata": {
    "id": "7Qky33wXQewH"
   },
   "outputs": [],
   "source": [
    "#keras_model = tf.keras.models.load_model('model')\n",
    "#keras_model = tf.keras.layers.TFSMLayer(model_path, call_endpoint = 'serving_default')ù\n",
    "model = tf.saved_model.load(model_path)\n",
    "infer = model.signatures['serving_default']\n",
    "input_tensor = tf.convert_to_tensor(images_test, dtype=tf.float32)"
   ]
  },
  {
   "cell_type": "code",
   "execution_count": 15,
   "metadata": {
    "id": "NfEkt3mBN4as"
   },
   "outputs": [
    {
     "name": "stdout",
     "output_type": "stream",
     "text": [
      "Execution time of predict: 0.0020 seconds\n"
     ]
    },
    {
     "data": {
      "image/png": "[encoded data removed]",
      "text/plain": [
       "<Figure size 800x600 with 1 Axes>"
      ]
     },
     "metadata": {},
     "output_type": "display_data"
    }
   ],
   "source": [
    "output = predict(input_tensor)\n",
    "output = output['lambda'].numpy()\n",
    "normalized_output = normalize_matrix(output)\n",
    "plot_roc_curve(labels_test, normalized_output)\n",
    "# idea: also add MSE "
   ]
  },
  {
   "cell_type": "markdown",
   "metadata": {},
   "source": [
    "### Proposed Model"
   ]
  },
  {
   "cell_type": "code",
   "execution_count": 11,
   "metadata": {},
   "outputs": [],
   "source": [
    "from qkeras import QActivation, QConv2D, QDense, QDenseBatchnorm, quantized_bits\n",
    "from tensorflow import keras, data\n",
    "from keras.models import Model, load_model\n",
    "from keras.layers import (\n",
    "    Activation,\n",
    "    AveragePooling2D,\n",
    "    Conv2D,\n",
    "    Dense,\n",
    "    Dropout,\n",
    "    Flatten,\n",
    "    Input,\n",
    "    Reshape,\n",
    "    UpSampling2D,\n",
    "    Conv2DTranspose\n",
    ")\n",
    "import numpy.typing as npt\n",
    "from keras.callbacks import ModelCheckpoint, CSVLogger\n",
    "from keras.optimizers import Adam\n",
    "from tensorflow.keras.regularizers import l2"
   ]
  },
  {
   "cell_type": "code",
   "execution_count": 12,
   "metadata": {},
   "outputs": [],
   "source": [
    "from tensorflow.keras import layers, Model\n",
    "\n",
    "class TeacherAutoencoder:\n",
    "    def __init__(self, input_shape: tuple):\n",
    "        self.input_shape = input_shape\n",
    "\n",
    "    def get_model(self):\n",
    "        inputs = Input(shape=self.input_shape, name=\"teacher_inputs_\")\n",
    "        x1 = layers.Conv2D(32, (3, 3), activation='relu', padding='same')(inputs)\n",
    "        x1 = layers.Conv2D(32, (3, 3), activation='relu', padding='same')(x1)\n",
    "        p1 = layers.MaxPooling2D((2, 2))(x1)\n",
    "\n",
    "        x2 = layers.Conv2D(64, (3, 3), activation='relu', padding='same')(p1)\n",
    "        x2 = layers.Conv2D(64, (3, 3), activation='relu', padding='same')(x2)\n",
    "        p2 = layers.MaxPooling2D((2, 2))(x2)\n",
    "\n",
    "        # Bottleneck\n",
    "        b = layers.Conv2D(128, (3, 3), activation='relu', padding='same')(p2)\n",
    "        b = layers.Conv2D(128, (3, 3), activation='relu', padding='same')(b)\n",
    "\n",
    "        # Decoder\n",
    "        u1 = layers.Conv2DTranspose(64, (2, 2), strides=(2, 2), padding='same')(b)\n",
    "        u1 = layers.concatenate([u1, x2])\n",
    "        u1 = layers.Conv2D(64, (3, 3), activation='relu', padding='same')(u1)\n",
    "        u1 = layers.Conv2D(64, (3, 3), activation='relu', padding='same')(u1)\n",
    "\n",
    "        u2 = layers.Conv2DTranspose(32, (2, 2), strides=(2, 2), padding='same')(u1)\n",
    "        u2 = layers.concatenate([u2, x1])\n",
    "        u2 = layers.Conv2D(32, (3, 3), activation='relu', padding='same')(u2)\n",
    "        u2 = layers.Conv2D(32, (3, 3), activation='relu', padding='same')(u2)\n",
    "        outputs = Conv2D(\n",
    "            1,\n",
    "            (3, 3),\n",
    "            activation=\"relu\",\n",
    "            strides=1,\n",
    "            padding=\"same\",\n",
    "            name=\"teacher_outputs\",\n",
    "        )(u2)\n",
    "        return Model(inputs, outputs, name=\"teacher\")\n",
    "\n",
    "class TeacherAutoencoderRevised:\n",
    "    def __init__(self, input_shape: tuple):\n",
    "        self.input_shape = input_shape\n",
    "    # TODO: regularization techniques, learning-rate schedulers, batch_normalization\n",
    "    def get_model(self):\n",
    "        inputs = Input(shape=self.input_shape, name=\"teacher_inputs_\")\n",
    "        x = Reshape((16, 16, 1), name=\"teacher_reshape\")(inputs)\n",
    "        x = Conv2D(20, (3, 3), strides=1, padding=\"same\", name=\"teacher_conv2d_1\")(x)\n",
    "        x = Activation(\"relu\", name=\"teacher_relu_1\")(x)\n",
    "        x = AveragePooling2D((2, 2), name=\"teacher_pool_1\")(x)\n",
    "        x = Conv2D(30, (3, 3), strides=1, padding=\"same\", name=\"teacher_conv2d_2\")(x)\n",
    "        x = Activation(\"relu\", name=\"teacher_relu_2\")(x)\n",
    "        x = Flatten(name=\"teacher_flatten\")(x)\n",
    "        x = Dense(80, activation=\"relu\", name=\"teacher_latent\")(x)\n",
    "        x = Dense(8 * 8 * 30, name=\"teacher_dense\")(x)\n",
    "        x = Reshape((8, 8, 30), name=\"teacher_reshape2\")(x)\n",
    "        x = Activation(\"relu\", name=\"teacher_relu_3\")(x)\n",
    "        x = Conv2D(30, (3, 3), strides=1, padding=\"same\", name=\"teacher_conv2d_3\")(x)\n",
    "        x = Activation(\"relu\", name=\"teacher_relu_4\")(x)\n",
    "        x = Conv2DTranspose(30, (3, 3), strides=2, padding=\"same\", name=\"teacher_conv_transpose\")(x)\n",
    "        x = Conv2D(20, (3, 3), strides=1, padding=\"same\", name=\"teacher_conv2d_4\")(x)\n",
    "        x = Activation(\"relu\", name=\"teacher_relu_5\")(x)\n",
    "        outputs = Conv2D(\n",
    "            1,\n",
    "            (3, 3),\n",
    "            activation=\"relu\",\n",
    "            strides=1,\n",
    "            padding=\"same\",\n",
    "            name=\"teacher_outputs\",\n",
    "        )(x)\n",
    "        return Model(inputs, outputs, name=\"teacher-transpose\")\n",
    "\n",
    "\n",
    "class CicadaV2:\n",
    "    def __init__(self, input_shape: tuple):\n",
    "        self.input_shape = input_shape\n",
    "\n",
    "    def get_model(self):\n",
    "        inputs = Input(shape=self.input_shape, name=\"inputs_\")\n",
    "        x = Reshape((16, 16, 1), name=\"reshape\")(inputs)\n",
    "        # quantized_bits takes the following arguments:\n",
    "        # total number of bits used to represent each weight value\n",
    "        # number of bits used to represent the integer part\n",
    "        # 1 bit if signed\n",
    "        # scaling factor, 1.0 means no scaling\n",
    "        x = QConv2D(\n",
    "            4,\n",
    "            (2, 2),\n",
    "            strides=2,\n",
    "            padding=\"valid\",\n",
    "            use_bias=False,\n",
    "            kernel_quantizer=quantized_bits(12, 3, 1, alpha=1.0),\n",
    "            name=\"conv\",\n",
    "        )(x)\n",
    "        x = QActivation(\"quantized_relu(10, 6)\", name=\"relu0\")(x)\n",
    "        x = Flatten(name=\"flatten\")(x)\n",
    "        x = Dropout(1 / 9)(x)\n",
    "        x = QDenseBatchnorm(\n",
    "            16,\n",
    "            kernel_quantizer=quantized_bits(8, 1, 1, alpha=1.0),\n",
    "            bias_quantizer=quantized_bits(8, 3, 1, alpha=1.0),\n",
    "            name=\"dense1\",\n",
    "        )(x)\n",
    "        x = QActivation(\"quantized_relu(10, 6)\", name=\"relu1\")(x)\n",
    "        x = Dropout(1 / 8)(x)\n",
    "        x = QDense(\n",
    "            1, # single output unit\n",
    "            kernel_quantizer=quantized_bits(12, 3, 1, alpha=1.0),\n",
    "            use_bias=False,\n",
    "            name=\"dense2\",\n",
    "        )(x)\n",
    "        outputs = QActivation(\"quantized_relu(16, 8)\", name=\"outputs\")(x)\n",
    "        return Model(inputs, outputs, name=\"cicada-v2\")\n"
   ]
  },
  {
   "cell_type": "markdown",
   "metadata": {},
   "source": [
    "### Training"
   ]
  },
  {
   "cell_type": "code",
   "execution_count": 13,
   "metadata": {},
   "outputs": [],
   "source": [
    "def loss(y_true: npt.NDArray, y_pred: npt.NDArray) -> npt.NDArray:\n",
    "    return np.mean((y_true - y_pred) ** 2, axis=(1, 2, 3))\n",
    "\n",
    "def quantize(arr: npt.NDArray, precision: tuple = (16, 8)) -> npt.NDArray:\n",
    "    # word contains the number of bits, int_ #bits for the integer part then \n",
    "    # calculates the number of bits for the decimal part and the step size\n",
    "    # next the function calculates the maximum value that can be represented\n",
    "    # finally it quantizes the array and clips the values to the maximum and 0\n",
    "    word, int_ = precision \n",
    "    decimal = word - int_\n",
    "    step = 1 / 2**decimal\n",
    "    max_ = 2**int_ - step\n",
    "    arrq = step * np.round(arr / step)\n",
    "    arrc = np.clip(arrq, 0, max_)\n",
    "    return arrc\n",
    "\n",
    "def train_model(\n",
    "    model: Model,\n",
    "    training_dataset: data.Dataset,\n",
    "    validation_dataset: data.Dataset,\n",
    "    epoch: int = 1,\n",
    "    steps: int = 1,\n",
    "    callbacks=None,\n",
    "    verbose: bool = False,\n",
    ") -> None:\n",
    "    model.fit(\n",
    "        training_dataset,\n",
    "        steps_per_epoch=len(training_dataset), # the model process the entire dataset\n",
    "        initial_epoch=epoch,\n",
    "        epochs=epoch + steps,\n",
    "        validation_data=validation_dataset,\n",
    "        callbacks=callbacks,\n",
    "        verbose=verbose,\n",
    "    )\n"
   ]
  },
  {
   "cell_type": "code",
   "execution_count": 86,
   "metadata": {},
   "outputs": [
    {
     "name": "stderr",
     "output_type": "stream",
     "text": [
      "WARNING:absl:At this time, the v2.11+ optimizer `tf.keras.optimizers.Adam` runs slowly on M1/M2 Macs, please use the legacy Keras optimizer instead, located at `tf.keras.optimizers.legacy.Adam`.\n"
     ]
    }
   ],
   "source": [
    "teacher = TeacherAutoencoder((16, 16, 1)).get_model()\n",
    "teacher.compile(optimizer=Adam(learning_rate=0.001), loss=\"mse\")\n",
    "#t_mc = ModelCheckpoint(f\"models/{teacher.name}\", save_best_only=True)\n",
    "#t_log = CSVLogger(f\"models/{teacher.name}/training.log\", append=True)"
   ]
  },
  {
   "cell_type": "code",
   "execution_count": 87,
   "metadata": {},
   "outputs": [
    {
     "name": "stderr",
     "output_type": "stream",
     "text": [
      "WARNING:absl:At this time, the v2.11+ optimizer `tf.keras.optimizers.Adam` runs slowly on M1/M2 Macs, please use the legacy Keras optimizer instead, located at `tf.keras.optimizers.legacy.Adam`.\n"
     ]
    }
   ],
   "source": [
    "cicada_v2 = CicadaV2((256,)).get_model()\n",
    "cicada_v2.compile(optimizer=Adam(learning_rate=0.001), loss=\"mse\")\n",
    "#cv2_mc = ModelCheckpoint(f\"models/{cicada_v2.name}\", save_best_only=True)\n",
    "#cv2_log = CSVLogger(f\"models/{cicada_v2.name}/training.log\", append=True)"
   ]
  },
  {
   "cell_type": "code",
   "execution_count": 103,
   "metadata": {},
   "outputs": [],
   "source": [
    "gen = RegionETGenerator()\n",
    "gen_train = gen.get_generator(X_train, X_train, 512, False)\n",
    "gen_val = gen.get_generator(X_val, X_val, 512, False)\n",
    "negative_test = gen.get_generator(np.array(X_test), np.array(X_test), 512, False)\n",
    "positive_test = gen.get_generator(np.array(outlier_test), np.array(outlier_test), 512, False)\n",
    "negative_test_student = gen.get_generator(np.array(X_test).reshape((-1, 256, 1)), y_test, 512, False)\n",
    "positive_test_student = gen.get_generator(np.array(outlier_test).reshape((-1, 256, 1)), outlier_test_labels, 512, False)\n",
    "X_train_student = np.concatenate([X_train, outlier_train])\n",
    "#X_val_student = np.concatenate([X_val, outlier_val])\n",
    "X_val_student = outlier_val"
   ]
  },
  {
   "cell_type": "code",
   "execution_count": 90,
   "metadata": {},
   "outputs": [],
   "source": [
    "def get_student_targets(\n",
    "    teacher: Model, gen: RegionETGenerator, X: npt.NDArray\n",
    ") -> data.Dataset:\n",
    "    X = np.expand_dims(X, axis=-1)\n",
    "    X_hat = teacher.predict(X, batch_size=512, verbose=0)\n",
    "    y = loss(X, X_hat) # FP32 loss\n",
    "    y = quantize(y)\n",
    "    #y = quantize(np.log(y) * 32)  # Scaled FP32 loss\n",
    "    # arguments: input of the teacher model, quantized loss and batch size\n",
    "    return gen.get_generator(X.reshape((-1, 256, 1)), y, 128, False)"
   ]
  },
  {
   "cell_type": "code",
   "execution_count": 92,
   "metadata": {},
   "outputs": [
    {
     "name": "stdout",
     "output_type": "stream",
     "text": [
      "1/1 [==============================] - 0s 196ms/step - loss: 0.5226 - val_loss: 0.4821\n",
      "Epoch 2/2\n",
      "1/1 [==============================] - 0s 183ms/step - loss: 0.4706 - val_loss: 0.4280\n",
      "Epoch 3/3\n",
      "1/1 [==============================] - 0s 183ms/step - loss: 0.4169 - val_loss: 0.3743\n",
      "Epoch 4/4\n",
      "1/1 [==============================] - 0s 182ms/step - loss: 0.3638 - val_loss: 0.3238\n",
      "Epoch 5/5\n",
      "1/1 [==============================] - 0s 183ms/step - loss: 0.3139 - val_loss: 0.2751\n",
      "Epoch 6/6\n",
      "1/1 [==============================] - 0s 182ms/step - loss: 0.2659 - val_loss: 0.2312\n",
      "Epoch 7/7\n",
      "1/1 [==============================] - 0s 190ms/step - loss: 0.2230 - val_loss: 0.1980\n",
      "Epoch 8/8\n",
      "1/1 [==============================] - 0s 224ms/step - loss: 0.1908 - val_loss: 0.1747\n",
      "Epoch 9/9\n",
      "1/1 [==============================] - 0s 213ms/step - loss: 0.1684 - val_loss: 0.1610\n",
      "Epoch 10/10\n",
      "1/1 [==============================] - 0s 250ms/step - loss: 0.1553 - val_loss: 0.1552\n",
      "Epoch 11/11\n",
      "1/1 [==============================] - 0s 199ms/step - loss: 0.1497 - val_loss: 0.1507\n",
      "Epoch 12/12\n",
      "1/1 [==============================] - 0s 184ms/step - loss: 0.1453 - val_loss: 0.1443\n",
      "Epoch 13/13\n",
      "1/1 [==============================] - 0s 188ms/step - loss: 0.1389 - val_loss: 0.1361\n",
      "Epoch 14/14\n",
      "1/1 [==============================] - 0s 186ms/step - loss: 0.1308 - val_loss: 0.1285\n",
      "Epoch 15/15\n",
      "1/1 [==============================] - 0s 186ms/step - loss: 0.1232 - val_loss: 0.1229\n",
      "Epoch 16/16\n",
      "1/1 [==============================] - 0s 185ms/step - loss: 0.1175 - val_loss: 0.1182\n",
      "Epoch 17/17\n",
      "1/1 [==============================] - 0s 186ms/step - loss: 0.1129 - val_loss: 0.1134\n",
      "Epoch 18/18\n",
      "1/1 [==============================] - 0s 186ms/step - loss: 0.1083 - val_loss: 0.1088\n",
      "Epoch 19/19\n",
      "1/1 [==============================] - 0s 187ms/step - loss: 0.1038 - val_loss: 0.1042\n",
      "Epoch 20/20\n",
      "1/1 [==============================] - 0s 187ms/step - loss: 0.0993 - val_loss: 0.1003\n"
     ]
    }
   ],
   "source": [
    "for epoch in range(20):\n",
    "    train_model(\n",
    "        teacher,\n",
    "        gen_train,\n",
    "        gen_val,\n",
    "        epoch=epoch,\n",
    "        #callbacks=[t_mc, t_log],\n",
    "        verbose=1,\n",
    "    )"
   ]
  },
  {
   "cell_type": "code",
   "execution_count": 42,
   "metadata": {},
   "outputs": [
    {
     "name": "stdout",
     "output_type": "stream",
     "text": [
      "Epoch 1/10\n",
      "5/5 [==============================] - 0s 24ms/step - loss: 0.2294 - val_loss: 0.1727\n",
      "Epoch 2/10\n",
      "5/5 [==============================] - 0s 2ms/step - loss: 0.1960 - val_loss: 0.3849\n",
      "Epoch 3/10\n",
      "5/5 [==============================] - 0s 2ms/step - loss: 0.1244 - val_loss: 0.4525\n",
      "Epoch 4/10\n",
      "5/5 [==============================] - 0s 2ms/step - loss: 0.1037 - val_loss: 0.3502\n",
      "Epoch 5/10\n",
      "5/5 [==============================] - 0s 2ms/step - loss: 0.0776 - val_loss: 0.3400\n",
      "Epoch 6/10\n",
      "5/5 [==============================] - 0s 2ms/step - loss: 0.0523 - val_loss: 0.2487\n",
      "Epoch 7/10\n",
      "5/5 [==============================] - 0s 2ms/step - loss: 0.0461 - val_loss: 0.2283\n",
      "Epoch 8/10\n",
      "5/5 [==============================] - 0s 2ms/step - loss: 0.0516 - val_loss: 0.1570\n",
      "Epoch 9/10\n",
      "5/5 [==============================] - 0s 2ms/step - loss: 0.0424 - val_loss: 0.1303\n",
      "Epoch 10/10\n",
      "5/5 [==============================] - 0s 2ms/step - loss: 0.0408 - val_loss: 0.1061\n",
      "Epoch 11/20\n",
      "5/5 [==============================] - 0s 2ms/step - loss: 0.0440 - val_loss: 0.0919\n",
      "Epoch 12/20\n",
      "5/5 [==============================] - 0s 2ms/step - loss: 0.0400 - val_loss: 0.0725\n",
      "Epoch 13/20\n",
      "5/5 [==============================] - 0s 2ms/step - loss: 0.0350 - val_loss: 0.0551\n",
      "Epoch 14/20\n",
      "5/5 [==============================] - 0s 2ms/step - loss: 0.0243 - val_loss: 0.0605\n",
      "Epoch 15/20\n",
      "5/5 [==============================] - 0s 2ms/step - loss: 0.0231 - val_loss: 0.0434\n",
      "Epoch 16/20\n",
      "5/5 [==============================] - 0s 2ms/step - loss: 0.0221 - val_loss: 0.0279\n",
      "Epoch 17/20\n",
      "5/5 [==============================] - 0s 2ms/step - loss: 0.0244 - val_loss: 0.0225\n",
      "Epoch 18/20\n",
      "5/5 [==============================] - 0s 2ms/step - loss: 0.0246 - val_loss: 0.0274\n",
      "Epoch 19/20\n",
      "5/5 [==============================] - 0s 2ms/step - loss: 0.0199 - val_loss: 0.0253\n",
      "Epoch 20/20\n",
      "5/5 [==============================] - 0s 2ms/step - loss: 0.0261 - val_loss: 0.0215\n",
      "Epoch 21/30\n",
      "5/5 [==============================] - 0s 2ms/step - loss: 0.0231 - val_loss: 0.0179\n",
      "Epoch 22/30\n",
      "5/5 [==============================] - 0s 2ms/step - loss: 0.0170 - val_loss: 0.0176\n",
      "Epoch 23/30\n",
      "5/5 [==============================] - 0s 2ms/step - loss: 0.0191 - val_loss: 0.0163\n",
      "Epoch 24/30\n",
      "5/5 [==============================] - 0s 2ms/step - loss: 0.0161 - val_loss: 0.0131\n",
      "Epoch 25/30\n",
      "5/5 [==============================] - 0s 2ms/step - loss: 0.0160 - val_loss: 0.0148\n",
      "Epoch 26/30\n",
      "5/5 [==============================] - 0s 2ms/step - loss: 0.0173 - val_loss: 0.0173\n",
      "Epoch 27/30\n",
      "5/5 [==============================] - 0s 2ms/step - loss: 0.0246 - val_loss: 0.0187\n",
      "Epoch 28/30\n",
      "5/5 [==============================] - 0s 2ms/step - loss: 0.0166 - val_loss: 0.0194\n",
      "Epoch 29/30\n",
      "5/5 [==============================] - 0s 2ms/step - loss: 0.0159 - val_loss: 0.0189\n",
      "Epoch 30/30\n",
      "5/5 [==============================] - 0s 2ms/step - loss: 0.0175 - val_loss: 0.0161\n",
      "Epoch 31/40\n",
      "5/5 [==============================] - 0s 2ms/step - loss: 0.0158 - val_loss: 0.0148\n",
      "Epoch 32/40\n",
      "5/5 [==============================] - 0s 2ms/step - loss: 0.0148 - val_loss: 0.0138\n",
      "Epoch 33/40\n",
      "5/5 [==============================] - 0s 2ms/step - loss: 0.0139 - val_loss: 0.0135\n",
      "Epoch 34/40\n",
      "5/5 [==============================] - 0s 2ms/step - loss: 0.0170 - val_loss: 0.0135\n",
      "Epoch 35/40\n",
      "5/5 [==============================] - 0s 2ms/step - loss: 0.0169 - val_loss: 0.0127\n",
      "Epoch 36/40\n",
      "5/5 [==============================] - 0s 2ms/step - loss: 0.0149 - val_loss: 0.0135\n",
      "Epoch 37/40\n",
      "5/5 [==============================] - 0s 2ms/step - loss: 0.0224 - val_loss: 0.0125\n",
      "Epoch 38/40\n",
      "5/5 [==============================] - 0s 2ms/step - loss: 0.0190 - val_loss: 0.0128\n",
      "Epoch 39/40\n",
      "5/5 [==============================] - 0s 2ms/step - loss: 0.0160 - val_loss: 0.0127\n",
      "Epoch 40/40\n",
      "5/5 [==============================] - 0s 2ms/step - loss: 0.0155 - val_loss: 0.0119\n",
      "Epoch 41/50\n",
      "5/5 [==============================] - 0s 2ms/step - loss: 0.0146 - val_loss: 0.0124\n",
      "Epoch 42/50\n",
      "5/5 [==============================] - 0s 2ms/step - loss: 0.0165 - val_loss: 0.0122\n",
      "Epoch 43/50\n",
      "5/5 [==============================] - 0s 2ms/step - loss: 0.0137 - val_loss: 0.0116\n",
      "Epoch 44/50\n",
      "5/5 [==============================] - 0s 2ms/step - loss: 0.0140 - val_loss: 0.0116\n",
      "Epoch 45/50\n",
      "5/5 [==============================] - 0s 2ms/step - loss: 0.0153 - val_loss: 0.0116\n",
      "Epoch 46/50\n",
      "5/5 [==============================] - 0s 2ms/step - loss: 0.0130 - val_loss: 0.0118\n",
      "Epoch 47/50\n",
      "5/5 [==============================] - 0s 2ms/step - loss: 0.0144 - val_loss: 0.0116\n",
      "Epoch 48/50\n",
      "5/5 [==============================] - 0s 2ms/step - loss: 0.0140 - val_loss: 0.0115\n",
      "Epoch 49/50\n",
      "5/5 [==============================] - 0s 2ms/step - loss: 0.0139 - val_loss: 0.0115\n",
      "Epoch 50/50\n",
      "5/5 [==============================] - 0s 2ms/step - loss: 0.0141 - val_loss: 0.0116\n",
      "Epoch 51/60\n",
      "5/5 [==============================] - 0s 2ms/step - loss: 0.0144 - val_loss: 0.0114\n",
      "Epoch 52/60\n",
      "5/5 [==============================] - 0s 2ms/step - loss: 0.0133 - val_loss: 0.0114\n",
      "Epoch 53/60\n",
      "5/5 [==============================] - 0s 2ms/step - loss: 0.0132 - val_loss: 0.0112\n",
      "Epoch 54/60\n",
      "5/5 [==============================] - 0s 2ms/step - loss: 0.0129 - val_loss: 0.0111\n",
      "Epoch 55/60\n",
      "5/5 [==============================] - 0s 2ms/step - loss: 0.0142 - val_loss: 0.0112\n",
      "Epoch 56/60\n",
      "5/5 [==============================] - 0s 2ms/step - loss: 0.0131 - val_loss: 0.0112\n",
      "Epoch 57/60\n",
      "5/5 [==============================] - 0s 2ms/step - loss: 0.0133 - val_loss: 0.0107\n",
      "Epoch 58/60\n",
      "5/5 [==============================] - 0s 2ms/step - loss: 0.0139 - val_loss: 0.0105\n",
      "Epoch 59/60\n",
      "5/5 [==============================] - 0s 2ms/step - loss: 0.0121 - val_loss: 0.0107\n",
      "Epoch 60/60\n",
      "5/5 [==============================] - 0s 2ms/step - loss: 0.0135 - val_loss: 0.0109\n",
      "Epoch 61/70\n",
      "5/5 [==============================] - 0s 2ms/step - loss: 0.0126 - val_loss: 0.0108\n",
      "Epoch 62/70\n",
      "5/5 [==============================] - 0s 2ms/step - loss: 0.0127 - val_loss: 0.0109\n",
      "Epoch 63/70\n",
      "5/5 [==============================] - 0s 2ms/step - loss: 0.0132 - val_loss: 0.0108\n",
      "Epoch 64/70\n",
      "5/5 [==============================] - 0s 2ms/step - loss: 0.0122 - val_loss: 0.0107\n",
      "Epoch 65/70\n",
      "5/5 [==============================] - 0s 2ms/step - loss: 0.0121 - val_loss: 0.0106\n",
      "Epoch 66/70\n",
      "5/5 [==============================] - 0s 2ms/step - loss: 0.0133 - val_loss: 0.0106\n",
      "Epoch 67/70\n",
      "5/5 [==============================] - 0s 2ms/step - loss: 0.0129 - val_loss: 0.0105\n",
      "Epoch 68/70\n",
      "5/5 [==============================] - 0s 2ms/step - loss: 0.0122 - val_loss: 0.0106\n",
      "Epoch 69/70\n",
      "5/5 [==============================] - 0s 2ms/step - loss: 0.0130 - val_loss: 0.0103\n",
      "Epoch 70/70\n",
      "5/5 [==============================] - 0s 2ms/step - loss: 0.0122 - val_loss: 0.0105\n",
      "Epoch 71/80\n",
      "5/5 [==============================] - 0s 2ms/step - loss: 0.0130 - val_loss: 0.0105\n",
      "Epoch 72/80\n",
      "5/5 [==============================] - 0s 2ms/step - loss: 0.0133 - val_loss: 0.0104\n",
      "Epoch 73/80\n",
      "5/5 [==============================] - 0s 2ms/step - loss: 0.0127 - val_loss: 0.0104\n",
      "Epoch 74/80\n",
      "5/5 [==============================] - 0s 2ms/step - loss: 0.0121 - val_loss: 0.0104\n",
      "Epoch 75/80\n",
      "5/5 [==============================] - 0s 2ms/step - loss: 0.0121 - val_loss: 0.0107\n",
      "Epoch 76/80\n",
      "5/5 [==============================] - 0s 2ms/step - loss: 0.0125 - val_loss: 0.0106\n",
      "Epoch 77/80\n",
      "5/5 [==============================] - 0s 2ms/step - loss: 0.0120 - val_loss: 0.0107\n",
      "Epoch 78/80\n",
      "5/5 [==============================] - 0s 2ms/step - loss: 0.0125 - val_loss: 0.0106\n",
      "Epoch 79/80\n",
      "5/5 [==============================] - 0s 2ms/step - loss: 0.0118 - val_loss: 0.0107\n",
      "Epoch 80/80\n",
      "5/5 [==============================] - 0s 2ms/step - loss: 0.0126 - val_loss: 0.0107\n",
      "Epoch 81/90\n",
      "5/5 [==============================] - 0s 2ms/step - loss: 0.0124 - val_loss: 0.0107\n",
      "Epoch 82/90\n",
      "5/5 [==============================] - 0s 2ms/step - loss: 0.0133 - val_loss: 0.0108\n",
      "Epoch 83/90\n",
      "5/5 [==============================] - 0s 8ms/step - loss: 0.0120 - val_loss: 0.0105\n",
      "Epoch 84/90\n",
      "5/5 [==============================] - 0s 2ms/step - loss: 0.0130 - val_loss: 0.0107\n",
      "Epoch 85/90\n",
      "5/5 [==============================] - 0s 2ms/step - loss: 0.0127 - val_loss: 0.0108\n",
      "Epoch 86/90\n",
      "5/5 [==============================] - 0s 2ms/step - loss: 0.0127 - val_loss: 0.0109\n",
      "Epoch 87/90\n",
      "5/5 [==============================] - 0s 2ms/step - loss: 0.0120 - val_loss: 0.0109\n",
      "Epoch 88/90\n",
      "5/5 [==============================] - 0s 2ms/step - loss: 0.0123 - val_loss: 0.0108\n",
      "Epoch 89/90\n",
      "5/5 [==============================] - 0s 2ms/step - loss: 0.0121 - val_loss: 0.0106\n",
      "Epoch 90/90\n",
      "5/5 [==============================] - 0s 2ms/step - loss: 0.0126 - val_loss: 0.0105\n",
      "Epoch 91/100\n",
      "5/5 [==============================] - 0s 2ms/step - loss: 0.0124 - val_loss: 0.0107\n",
      "Epoch 92/100\n",
      "5/5 [==============================] - 0s 2ms/step - loss: 0.0130 - val_loss: 0.0107\n",
      "Epoch 93/100\n",
      "5/5 [==============================] - 0s 2ms/step - loss: 0.0120 - val_loss: 0.0104\n",
      "Epoch 94/100\n",
      "5/5 [==============================] - 0s 2ms/step - loss: 0.0121 - val_loss: 0.0103\n",
      "Epoch 95/100\n",
      "5/5 [==============================] - 0s 2ms/step - loss: 0.0122 - val_loss: 0.0101\n",
      "Epoch 96/100\n",
      "5/5 [==============================] - 0s 2ms/step - loss: 0.0116 - val_loss: 0.0099\n",
      "Epoch 97/100\n",
      "5/5 [==============================] - 0s 2ms/step - loss: 0.0122 - val_loss: 0.0101\n",
      "Epoch 98/100\n",
      "5/5 [==============================] - 0s 2ms/step - loss: 0.0118 - val_loss: 0.0098\n",
      "Epoch 99/100\n",
      "5/5 [==============================] - 0s 2ms/step - loss: 0.0117 - val_loss: 0.0095\n",
      "Epoch 100/100\n",
      "5/5 [==============================] - 0s 2ms/step - loss: 0.0114 - val_loss: 0.0092\n"
     ]
    }
   ],
   "source": [
    "for epoch in range(10):\n",
    "    \"\"\"\n",
    "    train_model(\n",
    "        teacher,\n",
    "        gen_train,\n",
    "        gen_val,\n",
    "        epoch=epoch,\n",
    "        #callbacks=[t_mc, t_log],\n",
    "        verbose=1,\n",
    "    )\n",
    "    #tmp_teacher = load_model(f\"models/{teacher.name}\")\n",
    "    tmp_teacher = teacher\"\n",
    "    \"\"\"\n",
    "    #s_gen_train = get_student_targets(tmp_teacher, gen, X_train_student)\n",
    "    #s_gen_val = get_student_targets(tmp_teacher, gen, X_val_student)\n",
    "\n",
    "    s_gen_train = get_student_targets(teacher, gen, X_train_student)\n",
    "    s_gen_val = get_student_targets(teacher, gen, X_val_student)\n",
    "    train_model(\n",
    "            cicada_v2,\n",
    "            s_gen_train,\n",
    "            s_gen_val,\n",
    "            epoch=10 * epoch,\n",
    "            steps=10,\n",
    "            #callbacks=[cv2_mc, cv2_log],\n",
    "            verbose=1,\n",
    "        )"
   ]
  },
  {
   "cell_type": "code",
   "execution_count": 105,
   "metadata": {},
   "outputs": [
    {
     "name": "stdout",
     "output_type": "stream",
     "text": [
      "1/1 [==============================] - 0s 40ms/step - loss: 0.1015\n"
     ]
    },
    {
     "data": {
      "text/plain": [
       "0.10149317979812622"
      ]
     },
     "execution_count": 105,
     "metadata": {},
     "output_type": "execute_result"
    }
   ],
   "source": [
    "teacher.evaluate(negative_test, verbose=1)"
   ]
  },
  {
   "cell_type": "code",
   "execution_count": 100,
   "metadata": {},
   "outputs": [
    {
     "name": "stdout",
     "output_type": "stream",
     "text": [
      "1/1 [==============================] - 0s 9ms/step - loss: 0.9758\n"
     ]
    },
    {
     "data": {
      "text/plain": [
       "0.9758080244064331"
      ]
     },
     "execution_count": 100,
     "metadata": {},
     "output_type": "execute_result"
    }
   ],
   "source": [
    "cicada_v2.evaluate(positive_test, verbose=1)"
   ]
  },
  {
   "cell_type": "code",
   "execution_count": 44,
   "metadata": {},
   "outputs": [],
   "source": [
    "import importlib\n",
    "import drawing\n",
    "importlib.reload(drawing)\n",
    "from drawing import Draw\n",
    "draw = Draw(output_dir='plots', interactive=False)"
   ]
  },
  {
   "cell_type": "code",
   "execution_count": 49,
   "metadata": {},
   "outputs": [
    {
     "data": {
      "text/plain": [
       "(317, 16, 16)"
      ]
     },
     "execution_count": 49,
     "metadata": {},
     "output_type": "execute_result"
    }
   ],
   "source": [
    "np.array(X_train).shape"
   ]
  },
  {
   "cell_type": "code",
   "execution_count": 51,
   "metadata": {},
   "outputs": [],
   "source": [
    "X_train = np.array(X_train)[:, :, :, None]"
   ]
  },
  {
   "cell_type": "code",
   "execution_count": null,
   "metadata": {},
   "outputs": [],
   "source": [
    "# NOT WORKING, CHECK WHY"
   ]
  },
  {
   "cell_type": "code",
   "execution_count": 113,
   "metadata": {},
   "outputs": [],
   "source": [
    "def plot_reconstruction(index: int, dataset, model):\n",
    "    # Extract a single example from the augmented training set\n",
    "    image_example = dataset[index][np.newaxis, ...]\n",
    "\n",
    "    # Get the model's prediction\n",
    "    y_pred = model.predict(image_example)\n",
    "\n",
    "    # Calculate the error\n",
    "    error = loss(dataset[index][..., np.newaxis], y_pred)\n",
    "    print(error)\n",
    "\n",
    "    # Plot the reconstruction results\n",
    "    draw.plot_reconstruction_results(\n",
    "        dataset[index],\n",
    "        y_pred,\n",
    "        loss=error[0],\n",
    "        name=\"comparison-background\",\n",
    "    )\n"
   ]
  },
  {
   "cell_type": "code",
   "execution_count": null,
   "metadata": {},
   "outputs": [
    {
     "name": "stdout",
     "output_type": "stream",
     "text": [
      "1/1 [==============================] - 0s 8ms/step\n",
      "[0.06305907]\n"
     ]
    }
   ],
   "source": [
    "# it acts as if it's been trained also on the outliers. I can find only 2 reasons:\n",
    "# 1. the teacher model is too good at generalizing\n",
    "# 2. dataset also contained outliers\n",
    "plot_reconstruction(10, outlier_test, teacher)"
   ]
  },
  {
   "cell_type": "code",
   "execution_count": 232,
   "metadata": {},
   "outputs": [
    {
     "name": "stdout",
     "output_type": "stream",
     "text": [
      "1/1 [==============================] - 0s 10ms/step\n"
     ]
    }
   ],
   "source": [
    "index = 50\n",
    "# Extract a single example from the augmented training set\n",
    "image_example = X_val[index].astype(np.float32)[np.newaxis, ...]\n",
    "\n",
    "# Get the model's prediction\n",
    "y_pred = teacher.predict(image_example)\n",
    "\n",
    "# Calculate the error\n",
    "error = loss(X_val[index][..., np.newaxis], y_pred)\n",
    "\n",
    "# Plot the reconstruction results\n",
    "draw.plot_reconstruction_results(\n",
    "    X_val[index],\n",
    "    y_pred,\n",
    "    loss=error[0],\n",
    "    name=\"comparison-background\",\n",
    ")"
   ]
  },
  {
   "cell_type": "code",
   "execution_count": 56,
   "metadata": {},
   "outputs": [
    {
     "name": "stdout",
     "output_type": "stream",
     "text": [
      "7/7 [==============================] - 0s 8ms/step\n"
     ]
    }
   ],
   "source": [
    "y_pred_teacher = teacher.predict(np.array(images_test)[:, :, :, None], verbose=1)"
   ]
  },
  {
   "cell_type": "code",
   "execution_count": 68,
   "metadata": {},
   "outputs": [
    {
     "name": "stdout",
     "output_type": "stream",
     "text": [
      "7/7 [==============================] - 0s 7ms/step\n",
      "7/7 [==============================] - 0s 507us/step\n"
     ]
    }
   ],
   "source": [
    "y_pred_teacher = teacher.predict(np.array(images_test)[:, :, :, None], verbose=1)\n",
    "y_loss_teacher = loss(images_test[:, :, :, None], y_pred_teacher)\n",
    "y_loss_cicada = cicada_v2.predict(np.array(images_test).reshape((-1, 256)), verbose=1)"
   ]
  },
  {
   "cell_type": "code",
   "execution_count": 36,
   "metadata": {},
   "outputs": [
    {
     "name": "stdout",
     "output_type": "stream",
     "text": [
      "1/1 - 0s - 11ms/epoch - 11ms/step\n"
     ]
    },
    {
     "data": {
      "text/plain": [
       "array([[0.]], dtype=float32)"
      ]
     },
     "execution_count": 36,
     "metadata": {},
     "output_type": "execute_result"
    }
   ],
   "source": [
    "cicada_v2.predict(np.array(outlier_val[0]).reshape((-1, 256)), verbose=2)"
   ]
  },
  {
   "cell_type": "code",
   "execution_count": 60,
   "metadata": {},
   "outputs": [],
   "source": [
    "def plot_roc_curve(labs: NDArray[np.int32], preds: NDArray[np.float32]) -> None:\n",
    "  fpr, tpr, thresholds = roc_curve(labs, preds)\n",
    "  roc_auc = auc(fpr, tpr)\n",
    "  # Plotting the ROC curve\n",
    "  plt.figure(figsize=(8, 6))\n",
    "  plt.plot(fpr, tpr, color='darkorange', lw=2, label='ROC curve (area = {:.2f})'.format(roc_auc))\n",
    "  plt.plot([0, 1], [0, 1], color='navy', lw=2, linestyle='--')  # diagonal line (random classifier)\n",
    "\n",
    "  # Add labels and title\n",
    "  plt.xlim([0.0, 1.0])\n",
    "  plt.ylim([0.0, 1.05])\n",
    "  plt.xlabel('False Positive Rate')\n",
    "  plt.ylabel('True Positive Rate')\n",
    "  plt.title('Receiver Operating Characteristic (ROC) Curve')\n",
    "  plt.legend(loc=\"lower right\")\n",
    "\n",
    "  # Show plot\n",
    "  plt.show()"
   ]
  },
  {
   "cell_type": "code",
   "execution_count": 61,
   "metadata": {},
   "outputs": [],
   "source": [
    "y_loss_cicada.resize((len(y_loss_cicada),))"
   ]
  },
  {
   "cell_type": "code",
   "execution_count": 70,
   "metadata": {},
   "outputs": [
    {
     "name": "stdout",
     "output_type": "stream",
     "text": [
      "(array([0.], dtype=float32), 0)\n",
      "(array([0.], dtype=float32), 0)\n",
      "(array([0.], dtype=float32), 0)\n",
      "(array([0.11328125], dtype=float32), 1)\n",
      "(array([0.], dtype=float32), 1)\n",
      "(array([0.], dtype=float32), 1)\n",
      "(array([0.], dtype=float32), 0)\n",
      "(array([0.], dtype=float32), 0)\n",
      "(array([0.], dtype=float32), 0)\n",
      "(array([0.08984375], dtype=float32), 1)\n",
      "(array([0.1171875], dtype=float32), 1)\n",
      "(array([0.], dtype=float32), 1)\n",
      "(array([0.], dtype=float32), 1)\n",
      "(array([0.], dtype=float32), 0)\n",
      "(array([0.], dtype=float32), 1)\n",
      "(array([0.], dtype=float32), 0)\n",
      "(array([0.], dtype=float32), 1)\n",
      "(array([0.08984375], dtype=float32), 1)\n",
      "(array([0.], dtype=float32), 0)\n",
      "(array([0.], dtype=float32), 1)\n",
      "(array([0.], dtype=float32), 0)\n",
      "(array([0.], dtype=float32), 1)\n",
      "(array([0.], dtype=float32), 1)\n",
      "(array([0.], dtype=float32), 1)\n",
      "(array([0.], dtype=float32), 0)\n",
      "(array([0.], dtype=float32), 0)\n",
      "(array([0.], dtype=float32), 0)\n",
      "(array([0.], dtype=float32), 1)\n",
      "(array([0.], dtype=float32), 0)\n",
      "(array([0.], dtype=float32), 0)\n",
      "(array([0.], dtype=float32), 0)\n",
      "(array([0.], dtype=float32), 0)\n",
      "(array([0.], dtype=float32), 0)\n",
      "(array([0.], dtype=float32), 1)\n",
      "(array([0.], dtype=float32), 0)\n",
      "(array([0.13671875], dtype=float32), 1)\n",
      "(array([0.], dtype=float32), 1)\n",
      "(array([0.], dtype=float32), 0)\n",
      "(array([0.], dtype=float32), 0)\n",
      "(array([0.], dtype=float32), 0)\n",
      "(array([0.], dtype=float32), 1)\n",
      "(array([0.], dtype=float32), 1)\n",
      "(array([0.09765625], dtype=float32), 1)\n",
      "(array([0.], dtype=float32), 0)\n",
      "(array([0.], dtype=float32), 1)\n",
      "(array([0.], dtype=float32), 1)\n",
      "(array([0.], dtype=float32), 1)\n",
      "(array([0.], dtype=float32), 1)\n",
      "(array([0.], dtype=float32), 0)\n",
      "(array([0.], dtype=float32), 1)\n",
      "(array([0.1171875], dtype=float32), 1)\n",
      "(array([0.], dtype=float32), 1)\n",
      "(array([0.], dtype=float32), 0)\n",
      "(array([0.], dtype=float32), 0)\n",
      "(array([0.], dtype=float32), 1)\n",
      "(array([0.], dtype=float32), 1)\n",
      "(array([0.], dtype=float32), 0)\n",
      "(array([0.], dtype=float32), 0)\n",
      "(array([0.], dtype=float32), 0)\n",
      "(array([0.], dtype=float32), 0)\n",
      "(array([0.], dtype=float32), 1)\n",
      "(array([0.], dtype=float32), 1)\n",
      "(array([0.], dtype=float32), 1)\n",
      "(array([0.], dtype=float32), 0)\n",
      "(array([0.], dtype=float32), 1)\n",
      "(array([0.], dtype=float32), 1)\n",
      "(array([0.15625], dtype=float32), 1)\n",
      "(array([0.], dtype=float32), 0)\n",
      "(array([0.13671875], dtype=float32), 1)\n",
      "(array([0.], dtype=float32), 0)\n",
      "(array([0.], dtype=float32), 1)\n",
      "(array([0.], dtype=float32), 0)\n",
      "(array([0.], dtype=float32), 1)\n",
      "(array([0.], dtype=float32), 0)\n",
      "(array([0.], dtype=float32), 1)\n",
      "(array([0.], dtype=float32), 1)\n",
      "(array([0.], dtype=float32), 0)\n",
      "(array([0.], dtype=float32), 0)\n",
      "(array([0.], dtype=float32), 0)\n",
      "(array([0.06640625], dtype=float32), 1)\n",
      "(array([0.], dtype=float32), 0)\n",
      "(array([0.], dtype=float32), 1)\n",
      "(array([0.], dtype=float32), 0)\n",
      "(array([0.09375], dtype=float32), 1)\n",
      "(array([0.15234375], dtype=float32), 1)\n",
      "(array([0.078125], dtype=float32), 1)\n",
      "(array([0.], dtype=float32), 1)\n",
      "(array([0.], dtype=float32), 0)\n",
      "(array([0.015625], dtype=float32), 1)\n",
      "(array([0.], dtype=float32), 0)\n",
      "(array([0.], dtype=float32), 1)\n",
      "(array([0.], dtype=float32), 0)\n",
      "(array([0.], dtype=float32), 0)\n",
      "(array([0.1015625], dtype=float32), 1)\n",
      "(array([0.], dtype=float32), 1)\n",
      "(array([0.], dtype=float32), 0)\n",
      "(array([0.], dtype=float32), 1)\n",
      "(array([0.1171875], dtype=float32), 1)\n",
      "(array([0.], dtype=float32), 0)\n",
      "(array([0.], dtype=float32), 0)\n",
      "(array([0.], dtype=float32), 0)\n",
      "(array([0.09375], dtype=float32), 1)\n",
      "(array([0.], dtype=float32), 0)\n",
      "(array([0.], dtype=float32), 0)\n",
      "(array([0.12890625], dtype=float32), 1)\n",
      "(array([0.], dtype=float32), 1)\n",
      "(array([0.], dtype=float32), 1)\n",
      "(array([0.], dtype=float32), 0)\n",
      "(array([0.], dtype=float32), 0)\n",
      "(array([0.], dtype=float32), 0)\n",
      "(array([0.], dtype=float32), 0)\n",
      "(array([0.], dtype=float32), 1)\n",
      "(array([0.29296875], dtype=float32), 1)\n",
      "(array([0.15234375], dtype=float32), 1)\n",
      "(array([0.], dtype=float32), 0)\n",
      "(array([0.], dtype=float32), 0)\n",
      "(array([0.15234375], dtype=float32), 1)\n",
      "(array([0.], dtype=float32), 0)\n",
      "(array([0.], dtype=float32), 0)\n",
      "(array([0.09765625], dtype=float32), 1)\n",
      "(array([0.], dtype=float32), 0)\n",
      "(array([0.], dtype=float32), 0)\n",
      "(array([0.], dtype=float32), 0)\n",
      "(array([0.], dtype=float32), 1)\n",
      "(array([0.1015625], dtype=float32), 1)\n",
      "(array([0.], dtype=float32), 0)\n",
      "(array([0.], dtype=float32), 0)\n",
      "(array([0.], dtype=float32), 1)\n",
      "(array([0.], dtype=float32), 0)\n",
      "(array([0.], dtype=float32), 1)\n",
      "(array([0.], dtype=float32), 0)\n",
      "(array([0.09375], dtype=float32), 1)\n",
      "(array([0.12109375], dtype=float32), 1)\n",
      "(array([0.], dtype=float32), 0)\n",
      "(array([0.], dtype=float32), 1)\n",
      "(array([0.1953125], dtype=float32), 1)\n",
      "(array([0.1484375], dtype=float32), 1)\n",
      "(array([0.], dtype=float32), 0)\n",
      "(array([0.], dtype=float32), 0)\n",
      "(array([0.], dtype=float32), 0)\n",
      "(array([0.], dtype=float32), 1)\n",
      "(array([0.], dtype=float32), 0)\n",
      "(array([0.0625], dtype=float32), 1)\n",
      "(array([0.], dtype=float32), 0)\n",
      "(array([0.], dtype=float32), 0)\n",
      "(array([0.], dtype=float32), 0)\n",
      "(array([0.], dtype=float32), 1)\n",
      "(array([0.], dtype=float32), 0)\n",
      "(array([0.], dtype=float32), 0)\n",
      "(array([0.], dtype=float32), 1)\n",
      "(array([0.], dtype=float32), 1)\n",
      "(array([0.], dtype=float32), 0)\n",
      "(array([0.03515625], dtype=float32), 1)\n",
      "(array([0.], dtype=float32), 0)\n",
      "(array([0.], dtype=float32), 0)\n",
      "(array([0.], dtype=float32), 0)\n",
      "(array([0.], dtype=float32), 0)\n",
      "(array([0.1484375], dtype=float32), 1)\n",
      "(array([0.], dtype=float32), 0)\n",
      "(array([0.], dtype=float32), 0)\n",
      "(array([0.0703125], dtype=float32), 1)\n",
      "(array([0.], dtype=float32), 1)\n",
      "(array([0.], dtype=float32), 0)\n",
      "(array([0.], dtype=float32), 0)\n",
      "(array([0.], dtype=float32), 0)\n",
      "(array([0.16015625], dtype=float32), 1)\n",
      "(array([0.], dtype=float32), 1)\n",
      "(array([0.0703125], dtype=float32), 1)\n",
      "(array([0.], dtype=float32), 0)\n",
      "(array([0.], dtype=float32), 0)\n",
      "(array([0.], dtype=float32), 0)\n",
      "(array([0.], dtype=float32), 1)\n",
      "(array([0.], dtype=float32), 1)\n",
      "(array([0.16015625], dtype=float32), 1)\n",
      "(array([0.171875], dtype=float32), 1)\n",
      "(array([0.], dtype=float32), 0)\n",
      "(array([0.], dtype=float32), 1)\n",
      "(array([0.], dtype=float32), 1)\n",
      "(array([0.15625], dtype=float32), 1)\n",
      "(array([0.], dtype=float32), 0)\n",
      "(array([0.], dtype=float32), 0)\n",
      "(array([0.], dtype=float32), 0)\n",
      "(array([0.], dtype=float32), 0)\n",
      "(array([0.15234375], dtype=float32), 1)\n",
      "(array([0.], dtype=float32), 0)\n",
      "(array([0.08203125], dtype=float32), 1)\n",
      "(array([0.12109375], dtype=float32), 1)\n",
      "(array([0.], dtype=float32), 0)\n",
      "(array([0.], dtype=float32), 1)\n",
      "(array([0.15625], dtype=float32), 1)\n",
      "(array([0.10546875], dtype=float32), 1)\n",
      "(array([0.14453125], dtype=float32), 1)\n",
      "(array([0.140625], dtype=float32), 1)\n",
      "(array([0.], dtype=float32), 1)\n",
      "(array([0.], dtype=float32), 1)\n",
      "(array([0.12109375], dtype=float32), 1)\n",
      "(array([0.03125], dtype=float32), 1)\n",
      "(array([0.], dtype=float32), 0)\n",
      "(array([0.], dtype=float32), 0)\n",
      "(array([0.0625], dtype=float32), 1)\n"
     ]
    }
   ],
   "source": [
    "for couple in zip(y_loss_cicada, labels_test):\n",
    "    print(couple)"
   ]
  },
  {
   "cell_type": "code",
   "execution_count": 71,
   "metadata": {},
   "outputs": [
    {
     "data": {
      "image/png": "[encoded data removed]",
      "text/plain": [
       "<Figure size 800x600 with 1 Axes>"
      ]
     },
     "metadata": {},
     "output_type": "display_data"
    }
   ],
   "source": [
    "normalized_output = normalize_matrix(1-y_loss_cicada)\n",
    "plot_roc_curve(labels_test, normalized_output)"
   ]
  },
  {
   "cell_type": "code",
   "execution_count": 261,
   "metadata": {},
   "outputs": [
    {
     "name": "stdout",
     "output_type": "stream",
     "text": [
      "(0.3203125, 0)\n",
      "(0.234375, 0)\n",
      "(0.32421875, 0)\n",
      "(0.83984375, 1)\n",
      "(0.98046875, 1)\n",
      "(1.0, 1)\n",
      "(0.1796875, 0)\n",
      "(0.42578125, 0)\n",
      "(0.44140625, 0)\n",
      "(1.0, 1)\n",
      "(0.921875, 1)\n",
      "(0.93359375, 1)\n",
      "(1.0, 1)\n",
      "(0.48046875, 0)\n",
      "(1.0, 1)\n",
      "(0.19921875, 0)\n",
      "(1.0, 1)\n",
      "(1.0, 1)\n",
      "(0.4296875, 0)\n",
      "(1.0, 1)\n",
      "(0.32421875, 0)\n",
      "(0.82421875, 1)\n",
      "(1.0, 1)\n",
      "(1.0, 1)\n",
      "(0.26171875, 0)\n",
      "(0.453125, 0)\n",
      "(0.29296875, 0)\n",
      "(1.0, 1)\n",
      "(0.296875, 0)\n",
      "(0.421875, 0)\n",
      "(0.4921875, 0)\n",
      "(0.33203125, 0)\n",
      "(0.3203125, 0)\n",
      "(1.0, 1)\n",
      "(0.125, 0)\n",
      "(1.0, 1)\n",
      "(0.95703125, 1)\n",
      "(0.37109375, 0)\n",
      "(0.5625, 0)\n",
      "(0.33984375, 0)\n",
      "(1.0, 1)\n",
      "(1.0, 1)\n",
      "(0.93359375, 1)\n",
      "(0.32421875, 0)\n",
      "(1.0, 1)\n",
      "(0.94921875, 1)\n",
      "(0.984375, 1)\n",
      "(1.0, 1)\n",
      "(0.375, 0)\n",
      "(1.0, 1)\n",
      "(0.89453125, 1)\n",
      "(1.0, 1)\n",
      "(0.1875, 0)\n",
      "(0.46484375, 0)\n",
      "(0.80078125, 1)\n",
      "(1.0, 1)\n",
      "(0.2421875, 0)\n",
      "(0.36328125, 0)\n",
      "(0.43359375, 0)\n",
      "(0.234375, 0)\n",
      "(0.96875, 1)\n",
      "(1.0, 1)\n",
      "(1.0, 1)\n",
      "(0.3125, 0)\n",
      "(1.0, 1)\n",
      "(1.0, 1)\n",
      "(0.97265625, 1)\n",
      "(0.35546875, 0)\n",
      "(0.94140625, 1)\n",
      "(0.13671875, 0)\n",
      "(1.0, 1)\n",
      "(0.234375, 0)\n",
      "(1.0, 1)\n",
      "(0.484375, 0)\n",
      "(1.0, 1)\n",
      "(1.0, 1)\n",
      "(0.484375, 0)\n",
      "(0.3359375, 0)\n",
      "(0.46875, 0)\n",
      "(1.0, 1)\n",
      "(0.4140625, 0)\n",
      "(0.96875, 1)\n",
      "(0.23046875, 0)\n",
      "(0.8828125, 1)\n",
      "(0.76953125, 1)\n",
      "(1.0, 1)\n",
      "(1.0, 1)\n",
      "(0.3671875, 0)\n",
      "(1.0, 1)\n",
      "(0.3984375, 0)\n",
      "(1.0, 1)\n",
      "(0.44140625, 0)\n",
      "(0.3984375, 0)\n",
      "(0.85546875, 1)\n",
      "(0.9921875, 1)\n",
      "(0.42578125, 0)\n",
      "(1.0, 1)\n",
      "(1.0, 1)\n",
      "(0.5, 0)\n",
      "(0.2890625, 0)\n",
      "(0.50390625, 0)\n",
      "(1.0, 1)\n",
      "(0.296875, 0)\n",
      "(0.234375, 0)\n",
      "(0.8828125, 1)\n",
      "(0.82421875, 1)\n",
      "(1.0, 1)\n",
      "(0.26953125, 0)\n",
      "(0.2421875, 0)\n",
      "(0.37109375, 0)\n",
      "(0.37890625, 0)\n",
      "(0.9921875, 1)\n",
      "(0.93359375, 1)\n",
      "(0.97265625, 1)\n",
      "(0.45703125, 0)\n",
      "(0.46484375, 0)\n",
      "(0.9140625, 1)\n",
      "(0.3984375, 0)\n",
      "(0.15625, 0)\n",
      "(0.84765625, 1)\n",
      "(0.09375, 0)\n",
      "(0.38671875, 0)\n",
      "(0.33203125, 0)\n",
      "(1.0, 1)\n",
      "(1.0, 1)\n",
      "(0.30078125, 0)\n",
      "(0.3671875, 0)\n",
      "(1.0, 1)\n",
      "(0.40625, 0)\n",
      "(1.0, 1)\n",
      "(0.3203125, 0)\n",
      "(1.0, 1)\n",
      "(0.94921875, 1)\n",
      "(0.203125, 0)\n",
      "(1.0, 1)\n",
      "(0.95703125, 1)\n",
      "(0.91796875, 1)\n",
      "(0.265625, 0)\n",
      "(0.3828125, 0)\n",
      "(0.37890625, 0)\n",
      "(0.9765625, 1)\n",
      "(0.1171875, 0)\n",
      "(0.8125, 1)\n",
      "(0.32421875, 0)\n",
      "(0.265625, 0)\n",
      "(0.296875, 0)\n",
      "(1.0, 1)\n",
      "(0.375, 0)\n",
      "(0.2109375, 0)\n",
      "(1.0, 1)\n",
      "(0.984375, 1)\n",
      "(0.4453125, 0)\n",
      "(1.0, 1)\n",
      "(0.3046875, 0)\n",
      "(0.4375, 0)\n",
      "(0.3828125, 0)\n",
      "(0.4921875, 0)\n",
      "(1.0, 1)\n",
      "(0.171875, 0)\n",
      "(0.3203125, 0)\n",
      "(1.0, 1)\n",
      "(1.0, 1)\n",
      "(0.23828125, 0)\n",
      "(0.1953125, 0)\n",
      "(0.44921875, 0)\n",
      "(0.87109375, 1)\n",
      "(1.0, 1)\n",
      "(0.953125, 1)\n",
      "(0.63671875, 0)\n",
      "(0.1953125, 0)\n",
      "(0.20703125, 0)\n",
      "(1.0, 1)\n",
      "(1.0, 1)\n",
      "(0.98828125, 1)\n",
      "(0.96875, 1)\n",
      "(0.16015625, 0)\n",
      "(1.0, 1)\n",
      "(1.0, 1)\n",
      "(1.0, 1)\n",
      "(0.2890625, 0)\n",
      "(0.3203125, 0)\n",
      "(0.33203125, 0)\n",
      "(0.390625, 0)\n",
      "(1.0, 1)\n",
      "(0.57421875, 0)\n",
      "(1.0, 1)\n",
      "(1.0, 1)\n",
      "(0.109375, 0)\n",
      "(1.0, 1)\n",
      "(0.90234375, 1)\n",
      "(0.8203125, 1)\n",
      "(0.94921875, 1)\n",
      "(1.0, 1)\n",
      "(0.92578125, 1)\n",
      "(1.0, 1)\n",
      "(0.91015625, 1)\n",
      "(1.0, 1)\n",
      "(0.21875, 0)\n",
      "(0.3125, 0)\n",
      "(0.90625, 1)\n"
     ]
    }
   ],
   "source": [
    "for couple in zip(1-y_loss_cicada, labels_test):\n",
    "    print(couple)"
   ]
  },
  {
   "cell_type": "code",
   "execution_count": null,
   "metadata": {},
   "outputs": [],
   "source": []
  }
 ],
 "metadata": {
  "colab": {
   "provenance": []
  },
  "kernelspec": {
   "display_name": "cicada",
   "language": "python",
   "name": "python3"
  },
  "language_info": {
   "codemirror_mode": {
    "name": "ipython",
    "version": 3
   },
   "file_extension": ".py",
   "mimetype": "text/x-python",
   "name": "python",
   "nbconvert_exporter": "python",
   "pygments_lexer": "ipython3",
   "version": "3.9.16"
  }
 },
 "nbformat": 4,
 "nbformat_minor": 0
}
