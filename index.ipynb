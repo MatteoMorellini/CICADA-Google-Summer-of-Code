{
  "nbformat": 4,
  "nbformat_minor": 0,
  "metadata": {
    "colab": {
      "provenance": []
    },
    "kernelspec": {
      "name": "python3",
      "display_name": "Python 3"
    },
    "language_info": {
      "name": "python"
    }
  },
  "cells": [
    {
      "cell_type": "markdown",
      "source": [
        "### Configurations and Libraries\n",
        "\n"
      ],
      "metadata": {
        "id": "oDJW6BCjZlsl"
      }
    },
    {
      "cell_type": "code",
      "source": [
        "# TODO: change from mounting drive to local files\n",
        "# TODO: add tests"
      ],
      "metadata": {
        "id": "M9Z3-wLJD3WK"
      },
      "execution_count": null,
      "outputs": []
    },
    {
      "cell_type": "code",
      "execution_count": 1,
      "metadata": {
        "colab": {
          "base_uri": "https://localhost:8080/"
        },
        "id": "31eRAU4zDb7p",
        "outputId": "4e25beac-74b9-4b7e-f386-406ef06dddf2"
      },
      "outputs": [
        {
          "output_type": "stream",
          "name": "stdout",
          "text": [
            "Mounted at /content/drive\n"
          ]
        }
      ],
      "source": [
        "from google.colab import drive\n",
        "drive.mount('/content/drive')"
      ]
    },
    {
      "cell_type": "code",
      "source": [
        "%cd drive/MyDrive/gsoc-evaluation-task/"
      ],
      "metadata": {
        "colab": {
          "base_uri": "https://localhost:8080/"
        },
        "id": "ETWiMkajD6gk",
        "outputId": "4f117cc4-d57e-4cbb-f5f1-a6a21bafdc19"
      },
      "execution_count": 2,
      "outputs": [
        {
          "output_type": "stream",
          "name": "stdout",
          "text": [
            "/content/drive/MyDrive/gsoc-evaluation-task\n"
          ]
        }
      ]
    },
    {
      "cell_type": "code",
      "source": [
        "%ls"
      ],
      "metadata": {
        "colab": {
          "base_uri": "https://localhost:8080/"
        },
        "id": "6B8OyeeCD-dK",
        "outputId": "1f59a01a-5acb-43d8-afe2-797a73524fbf"
      },
      "execution_count": 3,
      "outputs": [
        {
          "output_type": "stream",
          "name": "stdout",
          "text": [
            "\u001b[0m\u001b[01;34mdata\u001b[0m/  \u001b[01;34mmodel\u001b[0m/  README.md\n"
          ]
        }
      ]
    },
    {
      "cell_type": "code",
      "source": [
        "%pip install -q seaborn_image"
      ],
      "metadata": {
        "colab": {
          "base_uri": "https://localhost:8080/"
        },
        "id": "95kOjxKqKhu0",
        "outputId": "58c9c62d-f0f3-4c57-bc75-b4f7a7f0df0d"
      },
      "execution_count": 51,
      "outputs": [
        {
          "output_type": "stream",
          "name": "stdout",
          "text": [
            "\u001b[?25l   \u001b[90m━━━━━━━━━━━━━━━━━━━━━━━━━━━━━━━━━━━━━━━━\u001b[0m \u001b[32m0.0/332.3 kB\u001b[0m \u001b[31m?\u001b[0m eta \u001b[36m-:--:--\u001b[0m\r\u001b[2K   \u001b[91m━━━━━━━━━━━━━━━━━━━━━━━━━━━━━━━━━━━━━━━\u001b[0m\u001b[90m╺\u001b[0m \u001b[32m327.7/332.3 kB\u001b[0m \u001b[31m13.0 MB/s\u001b[0m eta \u001b[36m0:00:01\u001b[0m\r\u001b[2K   \u001b[90m━━━━━━━━━━━━━━━━━━━━━━━━━━━━━━━━━━━━━━━━\u001b[0m \u001b[32m332.3/332.3 kB\u001b[0m \u001b[31m8.1 MB/s\u001b[0m eta \u001b[36m0:00:00\u001b[0m\n",
            "\u001b[?25h"
          ]
        }
      ]
    },
    {
      "cell_type": "code",
      "source": [
        "import numpy as np\n",
        "import tensorflow as tf\n",
        "import pandas as pd\n",
        "import matplotlib.pyplot as plt\n",
        "from pathlib import Path\n",
        "from numpy.typing import NDArray\n",
        "import seaborn as sns\n",
        "import seaborn_image as isns\n",
        "from sklearn.metrics import roc_curve, auc"
      ],
      "metadata": {
        "id": "QJ_lHFdND_E_"
      },
      "execution_count": 52,
      "outputs": []
    },
    {
      "cell_type": "markdown",
      "source": [
        "### Load & Describe Data"
      ],
      "metadata": {
        "id": "eLb8pL5rZt5R"
      }
    },
    {
      "cell_type": "code",
      "source": [
        "data_path = Path('data')\n",
        "model_path = Path('model')"
      ],
      "metadata": {
        "id": "4RdmTsFHEncC"
      },
      "execution_count": 144,
      "outputs": []
    },
    {
      "cell_type": "code",
      "source": [
        "images = np.load(data_path / 'images.npy')\n",
        "labels = np.load(data_path / 'labels.npy')"
      ],
      "metadata": {
        "id": "7xDeQoEoEuPj"
      },
      "execution_count": 145,
      "outputs": []
    },
    {
      "cell_type": "code",
      "source": [
        "print(f\"Data type of images: {images.dtype}\")\n",
        "print(f\"Data type of labels: {labels.dtype}\")"
      ],
      "metadata": {
        "colab": {
          "base_uri": "https://localhost:8080/"
        },
        "id": "lKCAZSPZY23W",
        "outputId": "5a5e1011-2e2c-429a-d0df-97e9d0746389"
      },
      "execution_count": 151,
      "outputs": [
        {
          "output_type": "stream",
          "name": "stdout",
          "text": [
            "Data type of images: float64\n",
            "Data type of labels: int64\n"
          ]
        }
      ]
    },
    {
      "cell_type": "code",
      "source": [
        "# TODO: can we keep generic? what if it's a string?\n",
        "def labels_description(data: NDArray[np.int64]) -> None:\n",
        "  df = pd.DataFrame(data)\n",
        "  print(df.describe())\n",
        "  print(df.info())\n",
        "\n",
        "def slice_description(data: NDArray[np.float64]) -> None:\n",
        "  slice = data[0, :, :].reshape(256,)\n",
        "  df = pd.DataFrame(slice)\n",
        "  print(df.describe())\n",
        "  print(df.info())"
      ],
      "metadata": {
        "id": "wRl6k-ZsGNj1"
      },
      "execution_count": 152,
      "outputs": []
    },
    {
      "cell_type": "code",
      "source": [
        "slice_description(images)"
      ],
      "metadata": {
        "colab": {
          "base_uri": "https://localhost:8080/"
        },
        "id": "Bd3sMnZrHLfc",
        "outputId": "66a5d0fd-a1f3-44db-ae14-c7a098474a21"
      },
      "execution_count": 153,
      "outputs": [
        {
          "output_type": "stream",
          "name": "stdout",
          "text": [
            "                0\n",
            "count  256.000000\n",
            "mean     0.955877\n",
            "std      0.908362\n",
            "min      0.007223\n",
            "25%      0.306411\n",
            "50%      0.691741\n",
            "75%      1.343379\n",
            "max      6.263326\n",
            "<class 'pandas.core.frame.DataFrame'>\n",
            "RangeIndex: 256 entries, 0 to 255\n",
            "Data columns (total 1 columns):\n",
            " #   Column  Non-Null Count  Dtype  \n",
            "---  ------  --------------  -----  \n",
            " 0   0       256 non-null    float64\n",
            "dtypes: float64(1)\n",
            "memory usage: 2.1 KB\n",
            "None\n"
          ]
        }
      ]
    },
    {
      "cell_type": "code",
      "source": [
        "labels_description(labels)"
      ],
      "metadata": {
        "colab": {
          "base_uri": "https://localhost:8080/"
        },
        "id": "sblEW_tCH5NE",
        "outputId": "3c29cd4d-7c73-4502-9b60-1b74c6b5df16"
      },
      "execution_count": 155,
      "outputs": [
        {
          "output_type": "stream",
          "name": "stdout",
          "text": [
            "                0\n",
            "count  1000.00000\n",
            "mean      0.50000\n",
            "std       0.50025\n",
            "min       0.00000\n",
            "25%       0.00000\n",
            "50%       0.50000\n",
            "75%       1.00000\n",
            "max       1.00000\n",
            "<class 'pandas.core.frame.DataFrame'>\n",
            "RangeIndex: 1000 entries, 0 to 999\n",
            "Data columns (total 1 columns):\n",
            " #   Column  Non-Null Count  Dtype\n",
            "---  ------  --------------  -----\n",
            " 0   0       1000 non-null   int64\n",
            "dtypes: int64(1)\n",
            "memory usage: 7.9 KB\n",
            "None\n"
          ]
        }
      ]
    },
    {
      "cell_type": "markdown",
      "source": [
        "### Data Visualization"
      ],
      "metadata": {
        "id": "KN7o6TRXZ06W"
      }
    },
    {
      "cell_type": "code",
      "source": [
        "# TODO: check the type of pixels\n",
        "def print_random_image(images: NDArray[np.float64], labels: NDArray[np.int64]) -> None:\n",
        "  index = np.random.randint(0, images.shape[0])\n",
        "  plt.imshow(images[index])\n",
        "  plt.title(f'Label: {labels[index]}')\n",
        "  plt.show()\n",
        "\n",
        "def print_image_distribution(images: NDArray[np.float64], labels: NDArray[np.int64]) -> None:\n",
        "  index = np.random.randint(0, images.shape[0])\n",
        "  ax = isns.imghist(images[index])\n",
        "  plt.title(f'Index: {index}, Label: {labels[index]}')"
      ],
      "metadata": {
        "id": "Wvu6-rp2E78t"
      },
      "execution_count": 156,
      "outputs": []
    },
    {
      "cell_type": "code",
      "source": [
        "# TODO: histogram of pixel intensities using seaborn (or alternatives)\n",
        "print_image_distribution(images, labels)"
      ],
      "metadata": {
        "colab": {
          "base_uri": "https://localhost:8080/",
          "height": 446
        },
        "id": "y2iRSD_lE3vu",
        "outputId": "3fb5770e-b958-40bb-f307-30c6f57d5b1c"
      },
      "execution_count": 157,
      "outputs": [
        {
          "output_type": "display_data",
          "data": {
            "text/plain": [
              "<Figure size 875x500 with 3 Axes>"
            ],
            "image/png": "[encoded data removed]"
          },
          "metadata": {}
        }
      ]
    },
    {
      "cell_type": "markdown",
      "source": [
        "### Provided Model's Predictions"
      ],
      "metadata": {
        "id": "KBbJPAaNaCIy"
      }
    },
    {
      "cell_type": "code",
      "source": [
        "# TODO: again be coherent with the same format, especially if we consider quantization\n",
        "# TODO: move in utils.py\n",
        "def predict(model: tf.keras.Model, images: NDArray[np.float64]) -> NDArray[np.float32]:\n",
        "  input_tensor = tf.convert_to_tensor(images, dtype=tf.float32)\n",
        "  output = infer(input_tensor)\n",
        "  return output['lambda'].numpy()\n",
        "\n",
        "def normalize_matrix(matrix: NDArray[np.float32]) -> NDArray[np.float32]:\n",
        "  min_score = np.min(output)\n",
        "  max_score = np.max(output)\n",
        "  normalized_output = []\n",
        "  for score in output:\n",
        "    normalized_output.append((score - min_score)/(max_score-min_score))\n",
        "  return normalized_output"
      ],
      "metadata": {
        "id": "cHPGsCR4XDDS"
      },
      "execution_count": 158,
      "outputs": []
    },
    {
      "cell_type": "code",
      "source": [
        "def plot_roc_curve(labels: NDArray[np.int32], output: NDArray[np.float32]) -> None:\n",
        "  fpr, tpr, thresholds = roc_curve(labels, output)\n",
        "  roc_auc = auc(fpr, tpr)\n",
        "  # Plotting the ROC curve\n",
        "  plt.figure(figsize=(8, 6))\n",
        "  plt.plot(fpr, tpr, color='darkorange', lw=2, label='ROC curve (area = {:.2f})'.format(roc_auc))\n",
        "  plt.plot([0, 1], [0, 1], color='navy', lw=2, linestyle='--')  # diagonal line (random classifier)\n",
        "\n",
        "  # Add labels and title\n",
        "  plt.xlim([0.0, 1.0])\n",
        "  plt.ylim([0.0, 1.05])\n",
        "  plt.xlabel('False Positive Rate')\n",
        "  plt.ylabel('True Positive Rate')\n",
        "  plt.title('Receiver Operating Characteristic (ROC) Curve')\n",
        "  plt.legend(loc=\"lower right\")\n",
        "\n",
        "  # Show plot\n",
        "  plt.show()"
      ],
      "metadata": {
        "id": "zLqv3zLhXzaH"
      },
      "execution_count": 159,
      "outputs": []
    },
    {
      "cell_type": "code",
      "source": [
        "#keras_model = tf.keras.models.load_model('model')\n",
        "#keras_model = tf.keras.layers.TFSMLayer(model_path, call_endpoint = 'serving_default')ù\n",
        "model = tf.saved_model.load(model_path)\n",
        "infer = model.signatures['serving_default']"
      ],
      "metadata": {
        "id": "7Qky33wXQewH"
      },
      "execution_count": 160,
      "outputs": []
    },
    {
      "cell_type": "code",
      "source": [
        "output = predict(model, images)"
      ],
      "metadata": {
        "id": "NfEkt3mBN4as"
      },
      "execution_count": 168,
      "outputs": []
    },
    {
      "cell_type": "code",
      "source": [
        "normalized_output = normalize_matrix(output)"
      ],
      "metadata": {
        "id": "_WRQH1n8aLO_"
      },
      "execution_count": 169,
      "outputs": []
    },
    {
      "cell_type": "code",
      "source": [
        "plot_roc_curve(labels, normalized_output)"
      ],
      "metadata": {
        "colab": {
          "base_uri": "https://localhost:8080/",
          "height": 572
        },
        "id": "Y6lolGevUgf0",
        "outputId": "1d56213f-e84b-47d2-82b0-7a1791f7da76"
      },
      "execution_count": 170,
      "outputs": [
        {
          "output_type": "display_data",
          "data": {
            "text/plain": [
              "<Figure size 800x600 with 1 Axes>"
            ],
            "image/png": "[encoded data removed]"
          },
          "metadata": {}
        }
      ]
    },
    {
      "cell_type": "code",
      "source": [],
      "metadata": {
        "id": "Kz-UtZ1MaSJt"
      },
      "execution_count": null,
      "outputs": []
    }
  ]
}