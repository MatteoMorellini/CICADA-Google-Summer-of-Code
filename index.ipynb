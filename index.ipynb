{
 "cells": [
  {
   "cell_type": "markdown",
   "metadata": {
    "id": "oDJW6BCjZlsl"
   },
   "source": [
    "### Configurations and Libraries\n",
    "\n"
   ]
  },
  {
   "cell_type": "code",
   "execution_count": 1,
   "metadata": {
    "id": "M9Z3-wLJD3WK"
   },
   "outputs": [],
   "source": [
    "# TODO: change from mounting drive to local files\n",
    "# TODO: add tests"
   ]
  },
  {
   "cell_type": "code",
   "execution_count": 300,
   "metadata": {
    "id": "QJ_lHFdND_E_"
   },
   "outputs": [],
   "source": [
    "import numpy as np\n",
    "import tensorflow as tf\n",
    "import pandas as pd\n",
    "import matplotlib.pyplot as plt\n",
    "from pathlib import Path\n",
    "from numpy.typing import NDArray\n",
    "import seaborn as sns\n",
    "import seaborn_image as isns\n",
    "from sklearn.metrics import roc_curve, auc\n",
    "from sklearn.model_selection import train_test_split\n",
    "from generator import RegionETGenerator\n",
    "import time"
   ]
  },
  {
   "cell_type": "code",
   "execution_count": 3,
   "metadata": {},
   "outputs": [],
   "source": [
    "import os\n",
    "\n",
    "os.environ[\"TF_CPP_MIN_LOG_LEVEL\"] = \"3\"\n",
    "os.environ[\"TF_ENABLE_ONEDNN_OPTS\"] = \"0\""
   ]
  },
  {
   "cell_type": "markdown",
   "metadata": {
    "id": "eLb8pL5rZt5R"
   },
   "source": [
    "### Load & Describe Data"
   ]
  },
  {
   "cell_type": "code",
   "execution_count": 78,
   "metadata": {
    "id": "4RdmTsFHEncC"
   },
   "outputs": [],
   "source": [
    "data_path = Path('data')\n",
    "model_path = Path('model')"
   ]
  },
  {
   "cell_type": "code",
   "execution_count": 79,
   "metadata": {
    "id": "7xDeQoEoEuPj"
   },
   "outputs": [],
   "source": [
    "images = np.load(data_path / 'images.npy')\n",
    "labels = np.load(data_path / 'labels.npy')"
   ]
  },
  {
   "cell_type": "code",
   "execution_count": 6,
   "metadata": {
    "colab": {
     "base_uri": "https://localhost:8080/"
    },
    "id": "lKCAZSPZY23W",
    "outputId": "5a5e1011-2e2c-429a-d0df-97e9d0746389"
   },
   "outputs": [
    {
     "name": "stdout",
     "output_type": "stream",
     "text": [
      "Data type of images: float64\n",
      "Data type of labels: int64\n"
     ]
    }
   ],
   "source": [
    "print(f\"Data type of images: {images.dtype}\")\n",
    "print(f\"Data type of labels: {labels.dtype}\")"
   ]
  },
  {
   "cell_type": "code",
   "execution_count": 7,
   "metadata": {
    "id": "wRl6k-ZsGNj1"
   },
   "outputs": [],
   "source": [
    "# TODO: can we keep generic? what if it's a string?\n",
    "def labels_description(data: NDArray[np.int64]) -> None:\n",
    "  df = pd.DataFrame(data)\n",
    "  print(df.describe())\n",
    "  print(df.info())\n",
    "\n",
    "def slice_description(data: NDArray[np.float64]) -> None:\n",
    "  slice = data[0, :, :].reshape(256,)\n",
    "  df = pd.DataFrame(slice)\n",
    "  print(df.describe())\n",
    "  print(df.info())"
   ]
  },
  {
   "cell_type": "code",
   "execution_count": 8,
   "metadata": {
    "colab": {
     "base_uri": "https://localhost:8080/"
    },
    "id": "Bd3sMnZrHLfc",
    "outputId": "66a5d0fd-a1f3-44db-ae14-c7a098474a21"
   },
   "outputs": [
    {
     "name": "stdout",
     "output_type": "stream",
     "text": [
      "                0\n",
      "count  256.000000\n",
      "mean     0.955877\n",
      "std      0.908362\n",
      "min      0.007223\n",
      "25%      0.306411\n",
      "50%      0.691741\n",
      "75%      1.343379\n",
      "max      6.263326\n",
      "<class 'pandas.core.frame.DataFrame'>\n",
      "RangeIndex: 256 entries, 0 to 255\n",
      "Data columns (total 1 columns):\n",
      " #   Column  Non-Null Count  Dtype  \n",
      "---  ------  --------------  -----  \n",
      " 0   0       256 non-null    float64\n",
      "dtypes: float64(1)\n",
      "memory usage: 2.1 KB\n",
      "None\n"
     ]
    }
   ],
   "source": [
    "slice_description(images)"
   ]
  },
  {
   "cell_type": "code",
   "execution_count": 64,
   "metadata": {
    "colab": {
     "base_uri": "https://localhost:8080/"
    },
    "id": "sblEW_tCH5NE",
    "outputId": "3c29cd4d-7c73-4502-9b60-1b74c6b5df16"
   },
   "outputs": [
    {
     "name": "stdout",
     "output_type": "stream",
     "text": [
      "                0\n",
      "count  1000.00000\n",
      "mean      0.50000\n",
      "std       0.50025\n",
      "min       0.00000\n",
      "25%       0.00000\n",
      "50%       0.50000\n",
      "75%       1.00000\n",
      "max       1.00000\n",
      "<class 'pandas.core.frame.DataFrame'>\n",
      "RangeIndex: 1000 entries, 0 to 999\n",
      "Data columns (total 1 columns):\n",
      " #   Column  Non-Null Count  Dtype\n",
      "---  ------  --------------  -----\n",
      " 0   0       1000 non-null   int64\n",
      "dtypes: int64(1)\n",
      "memory usage: 7.9 KB\n",
      "None\n"
     ]
    }
   ],
   "source": [
    "labels_description(labels)"
   ]
  },
  {
   "cell_type": "code",
   "execution_count": 319,
   "metadata": {},
   "outputs": [],
   "source": [
    "images_train_val, images_test, labels_train_val, labels_test = train_test_split(\n",
    "    images, labels, test_size=0.2, random_state=101,)\n",
    "images_train, images_val, labels_train, labels_val = train_test_split(\n",
    "    images_train_val, labels_train_val, test_size=0.2, random_state=101,)"
   ]
  },
  {
   "cell_type": "markdown",
   "metadata": {
    "id": "KN7o6TRXZ06W"
   },
   "source": [
    "### Data Visualization"
   ]
  },
  {
   "cell_type": "code",
   "execution_count": 315,
   "metadata": {
    "id": "Wvu6-rp2E78t"
   },
   "outputs": [],
   "source": [
    "# TODO: check the type of pixels\n",
    "def print_random_image(images: NDArray[np.float64], labels: NDArray[np.int64]) -> None:\n",
    "  index = np.random.randint(0, images.shape[0])\n",
    "  plt.imshow(images[index])\n",
    "  plt.title(f'Label: {labels[index]}')\n",
    "  plt.show()\n",
    "\n",
    "def print_image_distribution(images: NDArray[np.float64], labels: NDArray[np.int64]) -> None:\n",
    "  index = np.random.randint(0, images.shape[0])\n",
    "  ax = isns.imghist(images[index])\n",
    "  plt.title(f'Index: {index}, Label: {labels[index]}')"
   ]
  },
  {
   "cell_type": "code",
   "execution_count": 316,
   "metadata": {
    "colab": {
     "base_uri": "https://localhost:8080/",
     "height": 446
    },
    "id": "y2iRSD_lE3vu",
    "outputId": "3fb5770e-b958-40bb-f307-30c6f57d5b1c"
   },
   "outputs": [
    {
     "data": {
      "image/png": "[encoded data removed]",
      "text/plain": [
       "<Figure size 875x500 with 3 Axes>"
      ]
     },
     "metadata": {},
     "output_type": "display_data"
    }
   ],
   "source": [
    "# TODO: histogram of pixel intensities using seaborn (or alternatives)\n",
    "print_image_distribution(images, labels)"
   ]
  },
  {
   "cell_type": "markdown",
   "metadata": {},
   "source": [
    "### Separate Positive and Negative Labels"
   ]
  },
  {
   "cell_type": "code",
   "execution_count": 320,
   "metadata": {},
   "outputs": [],
   "source": [
    "X_train = [img for img, label in zip(images_train, labels_train) if label == 0]\n",
    "y_train = [label for label in labels_train if label == 0]\n",
    "# keep the outliers in the training since they will join the training set for the student\n",
    "outlier_train = [img for img, label in zip(images_train, labels_train) if label == 1]\n",
    "outlier_train_labels = [label for label in labels_train if label == 1]"
   ]
  },
  {
   "cell_type": "code",
   "execution_count": 321,
   "metadata": {},
   "outputs": [
    {
     "data": {
      "text/plain": [
       "(list, list, list, list)"
      ]
     },
     "execution_count": 321,
     "metadata": {},
     "output_type": "execute_result"
    }
   ],
   "source": [
    "type(X_train), type(y_train), type(outlier_train), type(outlier_train_labels)"
   ]
  },
  {
   "cell_type": "code",
   "execution_count": 322,
   "metadata": {},
   "outputs": [
    {
     "data": {
      "text/plain": [
       "(-0.5, 15.5, 15.5, -0.5)"
      ]
     },
     "execution_count": 322,
     "metadata": {},
     "output_type": "execute_result"
    },
    {
     "data": {
      "image/png": "[encoded data removed]",
      "text/plain": [
       "<Figure size 600x300 with 2 Axes>"
      ]
     },
     "metadata": {},
     "output_type": "display_data"
    }
   ],
   "source": [
    "plt.figure(figsize=(6, 3))\n",
    "\n",
    "plt.subplot(1, 2, 1)\n",
    "plt.title(\"Normal\")\n",
    "plt.imshow(X_train[0])\n",
    "plt.axis(\"off\")\n",
    "\n",
    "plt.subplot(1, 2, 2)\n",
    "plt.title(\"Outlier\")\n",
    "plt.imshow(outlier_train[0])\n",
    "plt.axis(\"off\")"
   ]
  },
  {
   "cell_type": "code",
   "execution_count": 323,
   "metadata": {},
   "outputs": [
    {
     "data": {
      "text/plain": [
       "(326, 326, 314, 314, 640)"
      ]
     },
     "execution_count": 323,
     "metadata": {},
     "output_type": "execute_result"
    }
   ],
   "source": [
    "len(X_train), len(y_train), len(outlier_train), len(outlier_train_labels), len(images_train)"
   ]
  },
  {
   "cell_type": "code",
   "execution_count": 324,
   "metadata": {},
   "outputs": [],
   "source": [
    "X_val = [img for img, label in zip(images_val, labels_val) if label == 0]\n",
    "y_val = [label for label in labels_val if label == 0]\n",
    "outlier_val = [img for img, label in zip(images_val, labels_val) if label == 1]\n",
    "outlier_val_labels = [label for label in labels_val if label == 1]"
   ]
  },
  {
   "cell_type": "code",
   "execution_count": 325,
   "metadata": {},
   "outputs": [
    {
     "data": {
      "text/plain": [
       "(90, 90, 70, 70, 160)"
      ]
     },
     "execution_count": 325,
     "metadata": {},
     "output_type": "execute_result"
    }
   ],
   "source": [
    "len(X_val), len(y_val), len(outlier_val), len(outlier_val_labels), len(images_val)"
   ]
  },
  {
   "cell_type": "code",
   "execution_count": 326,
   "metadata": {},
   "outputs": [],
   "source": [
    "X_test = [img for img, label in zip(images_test, labels_test) if label == 0]\n",
    "y_test = [label for label in labels_test if label == 0]\n",
    "outlier_test = [img for img, label in zip(images_test, labels_test) if label == 1]\n",
    "outlier_test_labels = [label for label in labels_test if label == 1]"
   ]
  },
  {
   "cell_type": "markdown",
   "metadata": {},
   "source": [
    "### (Tentative) Data Augmentation"
   ]
  },
  {
   "cell_type": "code",
   "execution_count": 327,
   "metadata": {},
   "outputs": [],
   "source": [
    "data_augmentation = tf.keras.Sequential([\n",
    "    tf.keras.layers.RandomFlip(\"horizontal_and_vertical\"),  # Flip horizontally and vertically\n",
    "    tf.keras.layers.RandomRotation(0.3),  # Rotate up to 20%\n",
    "    tf.keras.layers.RandomZoom(0.3),  # Zoom up to 20%\n",
    "])"
   ]
  },
  {
   "cell_type": "code",
   "execution_count": 404,
   "metadata": {},
   "outputs": [],
   "source": [
    "augmented_images = []\n",
    "for image in X_train:\n",
    "    for _ in range(10):\n",
    "        augmented = data_augmentation(tf.expand_dims(image, axis=0))\n",
    "        augmented_images.append(tf.squeeze(augmented).numpy())\n",
    "X_train_aug = np.array(augmented_images)\n",
    "y_train_aug = np.repeat(y_train, 100)"
   ]
  },
  {
   "cell_type": "code",
   "execution_count": 405,
   "metadata": {},
   "outputs": [
    {
     "data": {
      "image/png": "[encoded data removed]",
      "text/plain": [
       "<Figure size 600x300 with 2 Axes>"
      ]
     },
     "metadata": {},
     "output_type": "display_data"
    }
   ],
   "source": [
    "plt.figure(figsize=(6, 3))\n",
    "plt.subplot(1, 2, 1)\n",
    "plt.title(\"Original\")\n",
    "plt.imshow(X_train[0])\n",
    "plt.axis(\"off\")\n",
    "\n",
    "plt.subplot(1, 2, 2)\n",
    "plt.title(\"Augmented\")\n",
    "plt.imshow(X_train_aug[1])\n",
    "plt.axis(\"off\")\n",
    "\n",
    "\n",
    "plt.show()"
   ]
  },
  {
   "cell_type": "markdown",
   "metadata": {
    "id": "KBbJPAaNaCIy"
   },
   "source": [
    "### Provided Model's Predictions"
   ]
  },
  {
   "cell_type": "code",
   "execution_count": 64,
   "metadata": {},
   "outputs": [],
   "source": [
    "def timer_decorator(func):\n",
    "    def wrapper(*args, **kwargs):\n",
    "        start_time = time.time()  # Record the start time\n",
    "        result = func(*args, **kwargs)  # Call the original function\n",
    "        end_time = time.time()  # Record the end time\n",
    "        execution_time = end_time - start_time  # Calculate the execution time\n",
    "        print(f\"Execution time of {func.__name__}: {execution_time:.4f} seconds\")\n",
    "        return result  # Return the result of the function\n",
    "    return wrapper"
   ]
  },
  {
   "cell_type": "code",
   "execution_count": 65,
   "metadata": {
    "id": "cHPGsCR4XDDS"
   },
   "outputs": [],
   "source": [
    "# TODO: again be coherent with the same format, especially if we consider quantization\n",
    "# TODO: move in utils.py\n",
    "@timer_decorator\n",
    "def predict(images: NDArray[np.float64]) -> NDArray[np.float32]:\n",
    "  output = infer(images)\n",
    "  return output\n",
    "\n",
    "def normalize_matrix(matrix: NDArray[np.float32]) -> NDArray[np.float32]:\n",
    "  min_score = np.min(matrix)\n",
    "  max_score = np.max(matrix)\n",
    "  normalized_output = []\n",
    "  for score in matrix:\n",
    "    normalized_output.append((score - min_score)/(max_score-min_score))\n",
    "  return np.array(normalized_output)"
   ]
  },
  {
   "cell_type": "code",
   "execution_count": 66,
   "metadata": {
    "id": "zLqv3zLhXzaH"
   },
   "outputs": [],
   "source": [
    "def plot_roc_curve(labs: NDArray[np.int32], preds: NDArray[np.float32]) -> None:\n",
    "  fpr, tpr, thresholds = roc_curve(labs, preds)\n",
    "  roc_auc = auc(fpr, tpr)\n",
    "  # Plotting the ROC curve\n",
    "  plt.figure(figsize=(8, 6))\n",
    "  plt.plot(fpr, tpr, color='darkorange', lw=2, label='ROC curve (area = {:.2f})'.format(roc_auc))\n",
    "  plt.plot([0, 1], [0, 1], color='navy', lw=2, linestyle='--')  # diagonal line (random classifier)\n",
    "\n",
    "  # Add labels and title\n",
    "  plt.xlim([0.0, 1.0])\n",
    "  plt.ylim([0.0, 1.05])\n",
    "  plt.xlabel('False Positive Rate')\n",
    "  plt.ylabel('True Positive Rate')\n",
    "  plt.title('Receiver Operating Characteristic (ROC) Curve')\n",
    "  plt.legend(loc=\"lower right\")\n",
    "\n",
    "  # Show plot\n",
    "  plt.show()"
   ]
  },
  {
   "cell_type": "code",
   "execution_count": 7,
   "metadata": {
    "id": "7Qky33wXQewH"
   },
   "outputs": [],
   "source": [
    "#keras_model = tf.keras.models.load_model('model')\n",
    "#keras_model = tf.keras.layers.TFSMLayer(model_path, call_endpoint = 'serving_default')ù\n",
    "model = tf.saved_model.load(model_path)\n",
    "infer = model.signatures['serving_default']\n",
    "input_tensor = tf.convert_to_tensor(images_test, dtype=tf.float32)"
   ]
  },
  {
   "cell_type": "code",
   "execution_count": 15,
   "metadata": {
    "id": "NfEkt3mBN4as"
   },
   "outputs": [
    {
     "name": "stdout",
     "output_type": "stream",
     "text": [
      "Execution time of predict: 0.0020 seconds\n"
     ]
    },
    {
     "data": {
      "image/png": "[encoded data removed]",
      "text/plain": [
       "<Figure size 800x600 with 1 Axes>"
      ]
     },
     "metadata": {},
     "output_type": "display_data"
    }
   ],
   "source": [
    "output = predict(input_tensor)\n",
    "output = output['lambda'].numpy()\n",
    "normalized_output = normalize_matrix(output)\n",
    "plot_roc_curve(labels_test, normalized_output)\n",
    "# idea: also add MSE "
   ]
  },
  {
   "cell_type": "markdown",
   "metadata": {},
   "source": [
    "### Proposed Model"
   ]
  },
  {
   "cell_type": "code",
   "execution_count": 434,
   "metadata": {},
   "outputs": [],
   "source": [
    "from qkeras import QActivation, QConv2D, QDense, QDenseBatchnorm, quantized_bits\n",
    "from tensorflow import keras, data\n",
    "from keras.models import Model, load_model\n",
    "from keras.layers import (\n",
    "    Activation,\n",
    "    AveragePooling2D,\n",
    "    Conv2D,\n",
    "    Dense,\n",
    "    Dropout,\n",
    "    Flatten,\n",
    "    Input,\n",
    "    Reshape,\n",
    "    UpSampling2D,\n",
    "    Conv2DTranspose\n",
    ")\n",
    "import numpy.typing as npt\n",
    "from keras.callbacks import ModelCheckpoint, CSVLogger\n",
    "from keras.optimizers import Adam\n",
    "from tensorflow.keras.regularizers import l2\n",
    "from tensorflow.keras import layers, Model"
   ]
  },
  {
   "cell_type": "code",
   "execution_count": 435,
   "metadata": {},
   "outputs": [],
   "source": [
    "class TeacherAutoencoder:\n",
    "    def __init__(self, input_shape: tuple):\n",
    "        self.input_shape = input_shape\n",
    "\n",
    "    def get_model(self):\n",
    "        inputs = Input(shape=self.input_shape, name=\"teacher_inputs_\")\n",
    "        x1 = layers.Conv2D(8, (3, 3), activation='relu', padding='same')(inputs)\n",
    "        p1 = layers.MaxPooling2D((2, 2))(x1)\n",
    "\n",
    "        x2 = layers.Conv2D(16, (3, 3), activation='relu', padding='same')(p1)\n",
    "        p2 = layers.MaxPooling2D((2, 2))(x2)\n",
    "\n",
    "        # Bottleneck\n",
    "        x = Flatten(name=\"teacher_flatten\")(p2)\n",
    "        x = Dense(2, activation=\"relu\", name=\"teacher_latent\")(x)\n",
    "        x = Dense(4 * 4 * 16, name=\"teacher_dense\")(x)\n",
    "        b = Reshape((4, 4, 16), name=\"teacher_reshape2\")(x)\n",
    "        # Decoder\n",
    "        u1 = layers.Conv2DTranspose(16, (2, 2), strides=(2, 2), padding='same')(b)\n",
    "        u1 = layers.concatenate([u1, x2])\n",
    "        u1 = layers.Conv2D(16, (3, 3), activation='relu', padding='same')(u1)\n",
    "\n",
    "        u2 = layers.Conv2DTranspose(32, (2, 2), strides=(2, 2), padding='same')(u1)\n",
    "        u2 = layers.concatenate([u2, x1])\n",
    "        u2 = layers.Conv2D(32, (3, 3), activation='relu', padding='same')(u2)\n",
    "        outputs = Conv2D(\n",
    "            1,\n",
    "            (3, 3),\n",
    "            activation=\"relu\",\n",
    "            strides=1,\n",
    "            padding=\"same\",\n",
    "            name=\"teacher_outputs\",\n",
    "        )(u2)\n",
    "        return Model(inputs, outputs, name=\"teacher\")\n",
    "\n",
    "class TeacherAutoencoderRevised:\n",
    "    def __init__(self, input_shape: tuple):\n",
    "        self.input_shape = input_shape\n",
    "    # TODO: regularization techniques, learning-rate schedulers, batch_normalization\n",
    "    def get_model(self):\n",
    "        inputs = Input(shape=self.input_shape, name=\"teacher_inputs_\")\n",
    "        x = Reshape((16, 16, 1), name=\"teacher_reshape\")(inputs)\n",
    "        x = Conv2D(20, (3, 3), strides=1, padding=\"same\", name=\"teacher_conv2d_1\")(x)\n",
    "        x = Activation(\"relu\", name=\"teacher_relu_1\")(x)\n",
    "        x = AveragePooling2D((2, 2), name=\"teacher_pool_1\")(x)\n",
    "        x = Conv2D(30, (3, 3), strides=1, padding=\"same\", name=\"teacher_conv2d_2\")(x)\n",
    "        x = Activation(\"relu\", name=\"teacher_relu_2\")(x)\n",
    "        x = Flatten(name=\"teacher_flatten\")(x)\n",
    "        x = Dense(80, activation=\"relu\", name=\"teacher_latent\")(x)\n",
    "        x = Dense(8 * 8 * 30, name=\"teacher_dense\")(x)\n",
    "        x = Reshape((8, 8, 30), name=\"teacher_reshape2\")(x)\n",
    "        x = Activation(\"relu\", name=\"teacher_relu_3\")(x)\n",
    "        x = Conv2D(30, (3, 3), strides=1, padding=\"same\", name=\"teacher_conv2d_3\")(x)\n",
    "        x = Activation(\"relu\", name=\"teacher_relu_4\")(x)\n",
    "        x = Conv2DTranspose(30, (3, 3), strides=2, padding=\"same\", name=\"teacher_conv_transpose\")(x)\n",
    "        x = Conv2D(20, (3, 3), strides=1, padding=\"same\", name=\"teacher_conv2d_4\")(x)\n",
    "        x = Activation(\"relu\", name=\"teacher_relu_5\")(x)\n",
    "        outputs = Conv2D(\n",
    "            1,\n",
    "            (3, 3),\n",
    "            activation=\"relu\",\n",
    "            strides=1,\n",
    "            padding=\"same\",\n",
    "            name=\"teacher_outputs\",\n",
    "        )(x)\n",
    "        return Model(inputs, outputs, name=\"teacher-transpose\")\n",
    "\n",
    "\n",
    "class CicadaV2:\n",
    "    def __init__(self, input_shape: tuple):\n",
    "        self.input_shape = input_shape\n",
    "\n",
    "    def get_model(self):\n",
    "        inputs = Input(shape=self.input_shape, name=\"inputs_\")\n",
    "        x = Reshape((16, 16, 1), name=\"reshape\")(inputs)\n",
    "        # quantized_bits takes the following arguments:\n",
    "        # total number of bits used to represent each weight value\n",
    "        # number of bits used to represent the integer part\n",
    "        # 1 bit if signed\n",
    "        # scaling factor, 1.0 means no scaling\n",
    "        x = QConv2D(\n",
    "            4,\n",
    "            (2, 2),\n",
    "            strides=2,\n",
    "            padding=\"valid\",\n",
    "            use_bias=False,\n",
    "            kernel_quantizer=quantized_bits(12, 3, 1, alpha=1.0),\n",
    "            name=\"conv\",\n",
    "        )(x)\n",
    "        x = QActivation(\"quantized_relu(10, 6)\", name=\"relu0\")(x)\n",
    "        x = Flatten(name=\"flatten\")(x)\n",
    "        x = Dropout(1 / 9)(x)\n",
    "        x = QDenseBatchnorm(\n",
    "            16,\n",
    "            kernel_quantizer=quantized_bits(8, 1, 1, alpha=1.0),\n",
    "            bias_quantizer=quantized_bits(8, 3, 1, alpha=1.0),\n",
    "            name=\"dense1\",\n",
    "        )(x)\n",
    "        x = QActivation(\"quantized_relu(10, 6)\", name=\"relu1\")(x)\n",
    "        x = Dropout(1 / 8)(x)\n",
    "        x = QDense(\n",
    "            1, # single output unit\n",
    "            kernel_quantizer=quantized_bits(12, 3, 1, alpha=1.0),\n",
    "            use_bias=False,\n",
    "            name=\"dense2\",\n",
    "        )(x)\n",
    "        outputs = QActivation(\"quantized_relu(16, 8)\", name=\"outputs\")(x)\n",
    "        return Model(inputs, outputs, name=\"cicada-v2\")\n"
   ]
  },
  {
   "cell_type": "markdown",
   "metadata": {},
   "source": [
    "### Training"
   ]
  },
  {
   "cell_type": "code",
   "execution_count": 443,
   "metadata": {},
   "outputs": [],
   "source": [
    "def autoencoder_loss(y_true, y_pred):\n",
    "    return tf.reduce_mean(tf.square(y_true - y_pred))  # Mean Squared Error\n",
    "\n",
    "def adversarial_loss(y_true, y_pred):\n",
    "    return tf.keras.losses.BinaryCrossentropy()(y_true, y_pred)\n",
    "\n",
    "def loss(y_true: npt.NDArray, y_pred: npt.NDArray) -> npt.NDArray:\n",
    "    return np.mean((y_true - y_pred) ** 2, axis=(1, 2, 3))\n",
    "\n",
    "def quantize(arr: npt.NDArray, precision: tuple = (16, 8)) -> npt.NDArray:\n",
    "    # word contains the number of bits, int_ #bits for the integer part then \n",
    "    # calculates the number of bits for the decimal part and the step size\n",
    "    # next the function calculates the maximum value that can be represented\n",
    "    # finally it quantizes the array and clips the values to the maximum and 0\n",
    "    word, int_ = precision \n",
    "    decimal = word - int_\n",
    "    step = 1 / 2**decimal\n",
    "    max_ = 2**int_ - step\n",
    "    arrq = step * np.round(arr / step)\n",
    "    arrc = np.clip(arrq, 0, max_)\n",
    "    return arrc\n",
    "\n",
    "def train_model(\n",
    "    model: Model,\n",
    "    training_dataset: data.Dataset,\n",
    "    validation_dataset: data.Dataset,\n",
    "    epoch: int = 1,\n",
    "    steps: int = 1,\n",
    "    callbacks=None,\n",
    "    verbose: bool = False,\n",
    ") -> None:\n",
    "    model.fit(\n",
    "        training_dataset,\n",
    "        steps_per_epoch=len(training_dataset), # the model process the entire dataset\n",
    "        initial_epoch=epoch,\n",
    "        epochs=epoch + steps,\n",
    "        validation_data=validation_dataset,\n",
    "        callbacks=callbacks,\n",
    "        verbose=verbose,\n",
    "    )\n",
    "def get_student_targets(\n",
    "    model: Model, gen: RegionETGenerator, X: npt.NDArray\n",
    ") -> data.Dataset:\n",
    "    X = np.expand_dims(X, axis=-1)\n",
    "    X_hat = model.predict(X, batch_size=512, verbose=0)\n",
    "    y = loss(X, X_hat) # FP32 loss\n",
    "    y = quantize(y)\n",
    "    #y = quantize(np.log(y) * 32)  # Scaled FP32 loss\n",
    "    # arguments: input of the teacher model, quantized loss and batch size\n",
    "    return gen.get_generator(X.reshape((-1, 256, 1)), y, 128, False)"
   ]
  },
  {
   "cell_type": "code",
   "execution_count": 420,
   "metadata": {},
   "outputs": [
    {
     "name": "stderr",
     "output_type": "stream",
     "text": [
      "WARNING:absl:At this time, the v2.11+ optimizer `tf.keras.optimizers.Adam` runs slowly on M1/M2 Macs, please use the legacy Keras optimizer instead, located at `tf.keras.optimizers.legacy.Adam`.\n"
     ]
    }
   ],
   "source": [
    "teacher = TeacherAutoencoder((16, 16, 1)).get_model()\n",
    "teacher.compile(optimizer=Adam(learning_rate=0.001), loss=\"mse\")\n",
    "#t_mc = ModelCheckpoint(f\"models/{teacher.name}\", save_best_only=True)\n",
    "#t_log = CSVLogger(f\"models/{teacher.name}/training.log\", append=True)"
   ]
  },
  {
   "cell_type": "code",
   "execution_count": 421,
   "metadata": {},
   "outputs": [
    {
     "name": "stdout",
     "output_type": "stream",
     "text": [
      "Model: \"teacher\"\n",
      "__________________________________________________________________________________________________\n",
      " Layer (type)                Output Shape                 Param #   Connected to                  \n",
      "==================================================================================================\n",
      " teacher_inputs_ (InputLaye  [(None, 16, 16, 1)]          0         []                            \n",
      " r)                                                                                               \n",
      "                                                                                                  \n",
      " conv2d_167 (Conv2D)         (None, 16, 16, 8)            80        ['teacher_inputs_[0][0]']     \n",
      "                                                                                                  \n",
      " max_pooling2d_68 (MaxPooli  (None, 8, 8, 8)              0         ['conv2d_167[0][0]']          \n",
      " ng2D)                                                                                            \n",
      "                                                                                                  \n",
      " conv2d_168 (Conv2D)         (None, 8, 8, 16)             1168      ['max_pooling2d_68[0][0]']    \n",
      "                                                                                                  \n",
      " max_pooling2d_69 (MaxPooli  (None, 4, 4, 16)             0         ['conv2d_168[0][0]']          \n",
      " ng2D)                                                                                            \n",
      "                                                                                                  \n",
      " teacher_flatten (Flatten)   (None, 256)                  0         ['max_pooling2d_69[0][0]']    \n",
      "                                                                                                  \n",
      " teacher_latent (Dense)      (None, 2)                    514       ['teacher_flatten[0][0]']     \n",
      "                                                                                                  \n",
      " teacher_dense (Dense)       (None, 256)                  768       ['teacher_latent[0][0]']      \n",
      "                                                                                                  \n",
      " teacher_reshape2 (Reshape)  (None, 4, 4, 16)             0         ['teacher_dense[0][0]']       \n",
      "                                                                                                  \n",
      " conv2d_transpose_63 (Conv2  (None, 8, 8, 16)             1040      ['teacher_reshape2[0][0]']    \n",
      " DTranspose)                                                                                      \n",
      "                                                                                                  \n",
      " concatenate_63 (Concatenat  (None, 8, 8, 32)             0         ['conv2d_transpose_63[0][0]', \n",
      " e)                                                                  'conv2d_168[0][0]']          \n",
      "                                                                                                  \n",
      " conv2d_169 (Conv2D)         (None, 8, 8, 16)             4624      ['concatenate_63[0][0]']      \n",
      "                                                                                                  \n",
      " conv2d_transpose_64 (Conv2  (None, 16, 16, 32)           2080      ['conv2d_169[0][0]']          \n",
      " DTranspose)                                                                                      \n",
      "                                                                                                  \n",
      " concatenate_64 (Concatenat  (None, 16, 16, 40)           0         ['conv2d_transpose_64[0][0]', \n",
      " e)                                                                  'conv2d_167[0][0]']          \n",
      "                                                                                                  \n",
      " conv2d_170 (Conv2D)         (None, 16, 16, 32)           11552     ['concatenate_64[0][0]']      \n",
      "                                                                                                  \n",
      " teacher_outputs (Conv2D)    (None, 16, 16, 1)            289       ['conv2d_170[0][0]']          \n",
      "                                                                                                  \n",
      "==================================================================================================\n",
      "Total params: 22115 (86.39 KB)\n",
      "Trainable params: 22115 (86.39 KB)\n",
      "Non-trainable params: 0 (0.00 Byte)\n",
      "__________________________________________________________________________________________________\n"
     ]
    }
   ],
   "source": [
    "teacher.summary()"
   ]
  },
  {
   "cell_type": "code",
   "execution_count": 533,
   "metadata": {},
   "outputs": [
    {
     "name": "stderr",
     "output_type": "stream",
     "text": [
      "WARNING:absl:At this time, the v2.11+ optimizer `tf.keras.optimizers.Adam` runs slowly on M1/M2 Macs, please use the legacy Keras optimizer instead, located at `tf.keras.optimizers.legacy.Adam`.\n"
     ]
    }
   ],
   "source": [
    "#cicada_v2 = CicadaV2((256,)).get_model()\n",
    "cicada_v2 = CicadaV2((16, 16)).get_model()\n",
    "cicada_v2.compile(optimizer=Adam(learning_rate=0.001), loss=\"mse\")\n",
    "#cv2_mc = ModelCheckpoint(f\"models/{cicada_v2.name}\", save_best_only=True)\n",
    "#cv2_log = CSVLogger(f\"models/{cicada_v2.name}/training.log\", append=True)"
   ]
  },
  {
   "cell_type": "code",
   "execution_count": 473,
   "metadata": {},
   "outputs": [
    {
     "name": "stderr",
     "output_type": "stream",
     "text": [
      "WARNING:absl:At this time, the v2.11+ optimizer `tf.keras.optimizers.Adam` runs slowly on M1/M2 Macs, please use the legacy Keras optimizer instead, located at `tf.keras.optimizers.legacy.Adam`.\n",
      "WARNING:absl:At this time, the v2.11+ optimizer `tf.keras.optimizers.Adam` runs slowly on M1/M2 Macs, please use the legacy Keras optimizer instead, located at `tf.keras.optimizers.legacy.Adam`.\n"
     ]
    }
   ],
   "source": [
    "autoencoder_optimizer = tf.keras.optimizers.Adam(learning_rate=0.0002, beta_1=0.5)\n",
    "discriminator_optimizer = tf.keras.optimizers.Adam(learning_rate=0.0002, beta_1=0.5)"
   ]
  },
  {
   "cell_type": "code",
   "execution_count": 474,
   "metadata": {},
   "outputs": [],
   "source": [
    "def get_student_targets(\n",
    "    model: Model, gen: RegionETGenerator, X: npt.NDArray\n",
    ") -> data.Dataset:\n",
    "    X = np.expand_dims(X, axis=-1)\n",
    "    X_hat = model.predict(X, batch_size=512, verbose=0)\n",
    "    y = loss(X, X_hat) # FP32 loss\n",
    "    y = quantize(y)\n",
    "    #y = quantize(np.log(y) * 32)  # Scaled FP32 loss\n",
    "    # arguments: input of the teacher model, quantized loss and batch size\n",
    "    return gen.get_generator(X.reshape((-1, 256, 1)), y, 128, False)"
   ]
  },
  {
   "cell_type": "code",
   "execution_count": 537,
   "metadata": {},
   "outputs": [],
   "source": [
    "# Custom training step\n",
    "@tf.function\n",
    "def train_step(inputs, targets, train_student):\n",
    "    with tf.GradientTape(persistent=True) as tape:\n",
    "        # Forward pass through autoencoder\n",
    "        reconstructed = teacher(inputs)\n",
    "        # Compute the autoencoder (reconstruction) loss\n",
    "        ae_loss = autoencoder_loss(inputs[:, :, :, None], reconstructed)\n",
    "        adv_loss_sum = tf.constant(0.0, dtype=tf.float32)\n",
    "        adv_loss = tf.constant(0.0, dtype=tf.float32)\n",
    "        for batch in train_student:\n",
    "            input_student, target_student = batch  # Assuming batch is (inputs, targets\n",
    "            teacher_pred = teacher(input_student)\n",
    "            loss_teacher = autoencoder_loss(tf.cast(input_student[:, :, :, None], tf.float32), teacher_pred)\n",
    "            pred_student = cicada_v2(input_student)\n",
    "            adv_loss = adversarial_loss(loss_teacher, pred_student)\n",
    "            adv_loss_sum = tf.math.add(adv_loss_sum, tf.reduce_sum(adv_loss))\n",
    "        \n",
    "        total_loss = ae_loss\n",
    "        #total_loss = ae_loss + 0.1 * adv_loss_sum \n",
    "        print(total_loss)\n",
    "        \n",
    "    # Compute gradients and apply them\n",
    "    ae_gradients = tape.gradient(total_loss, teacher.trainable_variables)\n",
    "    discriminator_gradients = tape.gradient(adv_loss, cicada_v2.trainable_variables)\n",
    "\n",
    "    # Apply gradients\n",
    "    autoencoder_optimizer.apply_gradients(zip(ae_gradients, teacher.trainable_variables))\n",
    "    discriminator_optimizer.apply_gradients(zip(discriminator_gradients, cicada_v2.trainable_variables))\n",
    "\n",
    "    return total_loss\n"
   ]
  },
  {
   "cell_type": "code",
   "execution_count": 499,
   "metadata": {},
   "outputs": [],
   "source": [
    "gen = RegionETGenerator()\n",
    "\n",
    "gen_train = gen.get_generator(np.array(X_train_aug), np.array(X_train_aug), 128, )\n",
    "gen_val = gen.get_generator(images_val, images_val, 512, )\n",
    "\n",
    "negative_test = gen.get_generator(X_test, X_test, 512, )\n",
    "positive_test = gen.get_generator(outlier_test, outlier_test, 512, )\n",
    "\n",
    "negative_test_student = gen.get_generator(np.array(X_test).reshape((-1, 256, 1)), np.array(y_test), 512, )\n",
    "positive_test_student = gen.get_generator(np.array(outlier_test).reshape((-1, 256, 1)), np.array(outlier_test_labels), 512, )\n",
    "#X_train_student = np.concatenate([X_train, outlier_train])\n",
    "train_student = gen.get_generator(images_train, labels_train, 128, )\n",
    "#X_val_student = np.concatenate([X_val, outlier_val])\n",
    "X_val_student = outlier_val"
   ]
  },
  {
   "cell_type": "code",
   "execution_count": null,
   "metadata": {},
   "outputs": [],
   "source": [
    "# Train loop\n",
    "for epoch in range(2):\n",
    "    for batch in gen_train:\n",
    "        inputs, targets = batch  # Assuming batch is (inputs, targets)\n",
    "        loss = train_step(inputs, targets, train_student)\n",
    "    print(f\"Epoch {epoch}, Loss: {loss.numpy()}\")"
   ]
  },
  {
   "cell_type": "code",
   "execution_count": 423,
   "metadata": {},
   "outputs": [
    {
     "name": "stdout",
     "output_type": "stream",
     "text": [
      "26/26 [==============================] - 1s 23ms/step - loss: 0.6756 - val_loss: 0.6533\n",
      "Epoch 2/2\n",
      "26/26 [==============================] - 1s 20ms/step - loss: 0.1719 - val_loss: 0.2668\n",
      "Epoch 3/3\n",
      "26/26 [==============================] - 1s 23ms/step - loss: 0.0668 - val_loss: 0.1001\n",
      "Epoch 4/4\n",
      "26/26 [==============================] - 1s 21ms/step - loss: 0.0336 - val_loss: 0.0550\n",
      "Epoch 5/5\n",
      "26/26 [==============================] - 1s 20ms/step - loss: 0.0229 - val_loss: 0.0400\n",
      "Epoch 6/6\n",
      "26/26 [==============================] - 1s 21ms/step - loss: 0.0172 - val_loss: 0.0327\n",
      "Epoch 7/7\n",
      "26/26 [==============================] - 1s 20ms/step - loss: 0.0133 - val_loss: 0.0284\n",
      "Epoch 8/8\n",
      "26/26 [==============================] - 1s 20ms/step - loss: 0.0107 - val_loss: 0.0252\n",
      "Epoch 9/9\n",
      "26/26 [==============================] - 1s 22ms/step - loss: 0.0088 - val_loss: 0.0228\n",
      "Epoch 10/10\n",
      "26/26 [==============================] - 1s 20ms/step - loss: 0.0073 - val_loss: 0.0206\n"
     ]
    }
   ],
   "source": [
    "for epoch in range(10):\n",
    "    train_model(\n",
    "        teacher,\n",
    "        gen_train,\n",
    "        gen_val,\n",
    "        epoch=epoch,\n",
    "        #callbacks=[t_mc, t_log],\n",
    "        verbose=1,\n",
    "    )"
   ]
  },
  {
   "cell_type": "code",
   "execution_count": 42,
   "metadata": {},
   "outputs": [
    {
     "name": "stdout",
     "output_type": "stream",
     "text": [
      "Epoch 1/10\n",
      "5/5 [==============================] - 0s 24ms/step - loss: 0.2294 - val_loss: 0.1727\n",
      "Epoch 2/10\n",
      "5/5 [==============================] - 0s 2ms/step - loss: 0.1960 - val_loss: 0.3849\n",
      "Epoch 3/10\n",
      "5/5 [==============================] - 0s 2ms/step - loss: 0.1244 - val_loss: 0.4525\n",
      "Epoch 4/10\n",
      "5/5 [==============================] - 0s 2ms/step - loss: 0.1037 - val_loss: 0.3502\n",
      "Epoch 5/10\n",
      "5/5 [==============================] - 0s 2ms/step - loss: 0.0776 - val_loss: 0.3400\n",
      "Epoch 6/10\n",
      "5/5 [==============================] - 0s 2ms/step - loss: 0.0523 - val_loss: 0.2487\n",
      "Epoch 7/10\n",
      "5/5 [==============================] - 0s 2ms/step - loss: 0.0461 - val_loss: 0.2283\n",
      "Epoch 8/10\n",
      "5/5 [==============================] - 0s 2ms/step - loss: 0.0516 - val_loss: 0.1570\n",
      "Epoch 9/10\n",
      "5/5 [==============================] - 0s 2ms/step - loss: 0.0424 - val_loss: 0.1303\n",
      "Epoch 10/10\n",
      "5/5 [==============================] - 0s 2ms/step - loss: 0.0408 - val_loss: 0.1061\n",
      "Epoch 11/20\n",
      "5/5 [==============================] - 0s 2ms/step - loss: 0.0440 - val_loss: 0.0919\n",
      "Epoch 12/20\n",
      "5/5 [==============================] - 0s 2ms/step - loss: 0.0400 - val_loss: 0.0725\n",
      "Epoch 13/20\n",
      "5/5 [==============================] - 0s 2ms/step - loss: 0.0350 - val_loss: 0.0551\n",
      "Epoch 14/20\n",
      "5/5 [==============================] - 0s 2ms/step - loss: 0.0243 - val_loss: 0.0605\n",
      "Epoch 15/20\n",
      "5/5 [==============================] - 0s 2ms/step - loss: 0.0231 - val_loss: 0.0434\n",
      "Epoch 16/20\n",
      "5/5 [==============================] - 0s 2ms/step - loss: 0.0221 - val_loss: 0.0279\n",
      "Epoch 17/20\n",
      "5/5 [==============================] - 0s 2ms/step - loss: 0.0244 - val_loss: 0.0225\n",
      "Epoch 18/20\n",
      "5/5 [==============================] - 0s 2ms/step - loss: 0.0246 - val_loss: 0.0274\n",
      "Epoch 19/20\n",
      "5/5 [==============================] - 0s 2ms/step - loss: 0.0199 - val_loss: 0.0253\n",
      "Epoch 20/20\n",
      "5/5 [==============================] - 0s 2ms/step - loss: 0.0261 - val_loss: 0.0215\n",
      "Epoch 21/30\n",
      "5/5 [==============================] - 0s 2ms/step - loss: 0.0231 - val_loss: 0.0179\n",
      "Epoch 22/30\n",
      "5/5 [==============================] - 0s 2ms/step - loss: 0.0170 - val_loss: 0.0176\n",
      "Epoch 23/30\n",
      "5/5 [==============================] - 0s 2ms/step - loss: 0.0191 - val_loss: 0.0163\n",
      "Epoch 24/30\n",
      "5/5 [==============================] - 0s 2ms/step - loss: 0.0161 - val_loss: 0.0131\n",
      "Epoch 25/30\n",
      "5/5 [==============================] - 0s 2ms/step - loss: 0.0160 - val_loss: 0.0148\n",
      "Epoch 26/30\n",
      "5/5 [==============================] - 0s 2ms/step - loss: 0.0173 - val_loss: 0.0173\n",
      "Epoch 27/30\n",
      "5/5 [==============================] - 0s 2ms/step - loss: 0.0246 - val_loss: 0.0187\n",
      "Epoch 28/30\n",
      "5/5 [==============================] - 0s 2ms/step - loss: 0.0166 - val_loss: 0.0194\n",
      "Epoch 29/30\n",
      "5/5 [==============================] - 0s 2ms/step - loss: 0.0159 - val_loss: 0.0189\n",
      "Epoch 30/30\n",
      "5/5 [==============================] - 0s 2ms/step - loss: 0.0175 - val_loss: 0.0161\n",
      "Epoch 31/40\n",
      "5/5 [==============================] - 0s 2ms/step - loss: 0.0158 - val_loss: 0.0148\n",
      "Epoch 32/40\n",
      "5/5 [==============================] - 0s 2ms/step - loss: 0.0148 - val_loss: 0.0138\n",
      "Epoch 33/40\n",
      "5/5 [==============================] - 0s 2ms/step - loss: 0.0139 - val_loss: 0.0135\n",
      "Epoch 34/40\n",
      "5/5 [==============================] - 0s 2ms/step - loss: 0.0170 - val_loss: 0.0135\n",
      "Epoch 35/40\n",
      "5/5 [==============================] - 0s 2ms/step - loss: 0.0169 - val_loss: 0.0127\n",
      "Epoch 36/40\n",
      "5/5 [==============================] - 0s 2ms/step - loss: 0.0149 - val_loss: 0.0135\n",
      "Epoch 37/40\n",
      "5/5 [==============================] - 0s 2ms/step - loss: 0.0224 - val_loss: 0.0125\n",
      "Epoch 38/40\n",
      "5/5 [==============================] - 0s 2ms/step - loss: 0.0190 - val_loss: 0.0128\n",
      "Epoch 39/40\n",
      "5/5 [==============================] - 0s 2ms/step - loss: 0.0160 - val_loss: 0.0127\n",
      "Epoch 40/40\n",
      "5/5 [==============================] - 0s 2ms/step - loss: 0.0155 - val_loss: 0.0119\n",
      "Epoch 41/50\n",
      "5/5 [==============================] - 0s 2ms/step - loss: 0.0146 - val_loss: 0.0124\n",
      "Epoch 42/50\n",
      "5/5 [==============================] - 0s 2ms/step - loss: 0.0165 - val_loss: 0.0122\n",
      "Epoch 43/50\n",
      "5/5 [==============================] - 0s 2ms/step - loss: 0.0137 - val_loss: 0.0116\n",
      "Epoch 44/50\n",
      "5/5 [==============================] - 0s 2ms/step - loss: 0.0140 - val_loss: 0.0116\n",
      "Epoch 45/50\n",
      "5/5 [==============================] - 0s 2ms/step - loss: 0.0153 - val_loss: 0.0116\n",
      "Epoch 46/50\n",
      "5/5 [==============================] - 0s 2ms/step - loss: 0.0130 - val_loss: 0.0118\n",
      "Epoch 47/50\n",
      "5/5 [==============================] - 0s 2ms/step - loss: 0.0144 - val_loss: 0.0116\n",
      "Epoch 48/50\n",
      "5/5 [==============================] - 0s 2ms/step - loss: 0.0140 - val_loss: 0.0115\n",
      "Epoch 49/50\n",
      "5/5 [==============================] - 0s 2ms/step - loss: 0.0139 - val_loss: 0.0115\n",
      "Epoch 50/50\n",
      "5/5 [==============================] - 0s 2ms/step - loss: 0.0141 - val_loss: 0.0116\n",
      "Epoch 51/60\n",
      "5/5 [==============================] - 0s 2ms/step - loss: 0.0144 - val_loss: 0.0114\n",
      "Epoch 52/60\n",
      "5/5 [==============================] - 0s 2ms/step - loss: 0.0133 - val_loss: 0.0114\n",
      "Epoch 53/60\n",
      "5/5 [==============================] - 0s 2ms/step - loss: 0.0132 - val_loss: 0.0112\n",
      "Epoch 54/60\n",
      "5/5 [==============================] - 0s 2ms/step - loss: 0.0129 - val_loss: 0.0111\n",
      "Epoch 55/60\n",
      "5/5 [==============================] - 0s 2ms/step - loss: 0.0142 - val_loss: 0.0112\n",
      "Epoch 56/60\n",
      "5/5 [==============================] - 0s 2ms/step - loss: 0.0131 - val_loss: 0.0112\n",
      "Epoch 57/60\n",
      "5/5 [==============================] - 0s 2ms/step - loss: 0.0133 - val_loss: 0.0107\n",
      "Epoch 58/60\n",
      "5/5 [==============================] - 0s 2ms/step - loss: 0.0139 - val_loss: 0.0105\n",
      "Epoch 59/60\n",
      "5/5 [==============================] - 0s 2ms/step - loss: 0.0121 - val_loss: 0.0107\n",
      "Epoch 60/60\n",
      "5/5 [==============================] - 0s 2ms/step - loss: 0.0135 - val_loss: 0.0109\n",
      "Epoch 61/70\n",
      "5/5 [==============================] - 0s 2ms/step - loss: 0.0126 - val_loss: 0.0108\n",
      "Epoch 62/70\n",
      "5/5 [==============================] - 0s 2ms/step - loss: 0.0127 - val_loss: 0.0109\n",
      "Epoch 63/70\n",
      "5/5 [==============================] - 0s 2ms/step - loss: 0.0132 - val_loss: 0.0108\n",
      "Epoch 64/70\n",
      "5/5 [==============================] - 0s 2ms/step - loss: 0.0122 - val_loss: 0.0107\n",
      "Epoch 65/70\n",
      "5/5 [==============================] - 0s 2ms/step - loss: 0.0121 - val_loss: 0.0106\n",
      "Epoch 66/70\n",
      "5/5 [==============================] - 0s 2ms/step - loss: 0.0133 - val_loss: 0.0106\n",
      "Epoch 67/70\n",
      "5/5 [==============================] - 0s 2ms/step - loss: 0.0129 - val_loss: 0.0105\n",
      "Epoch 68/70\n",
      "5/5 [==============================] - 0s 2ms/step - loss: 0.0122 - val_loss: 0.0106\n",
      "Epoch 69/70\n",
      "5/5 [==============================] - 0s 2ms/step - loss: 0.0130 - val_loss: 0.0103\n",
      "Epoch 70/70\n",
      "5/5 [==============================] - 0s 2ms/step - loss: 0.0122 - val_loss: 0.0105\n",
      "Epoch 71/80\n",
      "5/5 [==============================] - 0s 2ms/step - loss: 0.0130 - val_loss: 0.0105\n",
      "Epoch 72/80\n",
      "5/5 [==============================] - 0s 2ms/step - loss: 0.0133 - val_loss: 0.0104\n",
      "Epoch 73/80\n",
      "5/5 [==============================] - 0s 2ms/step - loss: 0.0127 - val_loss: 0.0104\n",
      "Epoch 74/80\n",
      "5/5 [==============================] - 0s 2ms/step - loss: 0.0121 - val_loss: 0.0104\n",
      "Epoch 75/80\n",
      "5/5 [==============================] - 0s 2ms/step - loss: 0.0121 - val_loss: 0.0107\n",
      "Epoch 76/80\n",
      "5/5 [==============================] - 0s 2ms/step - loss: 0.0125 - val_loss: 0.0106\n",
      "Epoch 77/80\n",
      "5/5 [==============================] - 0s 2ms/step - loss: 0.0120 - val_loss: 0.0107\n",
      "Epoch 78/80\n",
      "5/5 [==============================] - 0s 2ms/step - loss: 0.0125 - val_loss: 0.0106\n",
      "Epoch 79/80\n",
      "5/5 [==============================] - 0s 2ms/step - loss: 0.0118 - val_loss: 0.0107\n",
      "Epoch 80/80\n",
      "5/5 [==============================] - 0s 2ms/step - loss: 0.0126 - val_loss: 0.0107\n",
      "Epoch 81/90\n",
      "5/5 [==============================] - 0s 2ms/step - loss: 0.0124 - val_loss: 0.0107\n",
      "Epoch 82/90\n",
      "5/5 [==============================] - 0s 2ms/step - loss: 0.0133 - val_loss: 0.0108\n",
      "Epoch 83/90\n",
      "5/5 [==============================] - 0s 8ms/step - loss: 0.0120 - val_loss: 0.0105\n",
      "Epoch 84/90\n",
      "5/5 [==============================] - 0s 2ms/step - loss: 0.0130 - val_loss: 0.0107\n",
      "Epoch 85/90\n",
      "5/5 [==============================] - 0s 2ms/step - loss: 0.0127 - val_loss: 0.0108\n",
      "Epoch 86/90\n",
      "5/5 [==============================] - 0s 2ms/step - loss: 0.0127 - val_loss: 0.0109\n",
      "Epoch 87/90\n",
      "5/5 [==============================] - 0s 2ms/step - loss: 0.0120 - val_loss: 0.0109\n",
      "Epoch 88/90\n",
      "5/5 [==============================] - 0s 2ms/step - loss: 0.0123 - val_loss: 0.0108\n",
      "Epoch 89/90\n",
      "5/5 [==============================] - 0s 2ms/step - loss: 0.0121 - val_loss: 0.0106\n",
      "Epoch 90/90\n",
      "5/5 [==============================] - 0s 2ms/step - loss: 0.0126 - val_loss: 0.0105\n",
      "Epoch 91/100\n",
      "5/5 [==============================] - 0s 2ms/step - loss: 0.0124 - val_loss: 0.0107\n",
      "Epoch 92/100\n",
      "5/5 [==============================] - 0s 2ms/step - loss: 0.0130 - val_loss: 0.0107\n",
      "Epoch 93/100\n",
      "5/5 [==============================] - 0s 2ms/step - loss: 0.0120 - val_loss: 0.0104\n",
      "Epoch 94/100\n",
      "5/5 [==============================] - 0s 2ms/step - loss: 0.0121 - val_loss: 0.0103\n",
      "Epoch 95/100\n",
      "5/5 [==============================] - 0s 2ms/step - loss: 0.0122 - val_loss: 0.0101\n",
      "Epoch 96/100\n",
      "5/5 [==============================] - 0s 2ms/step - loss: 0.0116 - val_loss: 0.0099\n",
      "Epoch 97/100\n",
      "5/5 [==============================] - 0s 2ms/step - loss: 0.0122 - val_loss: 0.0101\n",
      "Epoch 98/100\n",
      "5/5 [==============================] - 0s 2ms/step - loss: 0.0118 - val_loss: 0.0098\n",
      "Epoch 99/100\n",
      "5/5 [==============================] - 0s 2ms/step - loss: 0.0117 - val_loss: 0.0095\n",
      "Epoch 100/100\n",
      "5/5 [==============================] - 0s 2ms/step - loss: 0.0114 - val_loss: 0.0092\n"
     ]
    }
   ],
   "source": [
    "for epoch in range(10):\n",
    "    \"\"\"\n",
    "    train_model(\n",
    "        teacher,\n",
    "        gen_train,\n",
    "        gen_val,\n",
    "        epoch=epoch,\n",
    "        #callbacks=[t_mc, t_log],\n",
    "        verbose=1,\n",
    "    )\n",
    "    #tmp_teacher = load_model(f\"models/{teacher.name}\")\n",
    "    tmp_teacher = teacher\"\n",
    "    \"\"\"\n",
    "    #s_gen_train = get_student_targets(tmp_teacher, gen, X_train_student)\n",
    "    #s_gen_val = get_student_targets(tmp_teacher, gen, X_val_student)\n",
    "\n",
    "    s_gen_train = get_student_targets(teacher, gen, X_train_student)\n",
    "    s_gen_val = get_student_targets(teacher, gen, X_val_student)\n",
    "    train_model(\n",
    "            cicada_v2,\n",
    "            s_gen_train,\n",
    "            s_gen_val,\n",
    "            epoch=10 * epoch,\n",
    "            steps=10,\n",
    "            #callbacks=[cv2_mc, cv2_log],\n",
    "            verbose=1,\n",
    "        )"
   ]
  },
  {
   "cell_type": "code",
   "execution_count": 427,
   "metadata": {},
   "outputs": [
    {
     "name": "stdout",
     "output_type": "stream",
     "text": [
      "1/1 [==============================] - 0s 14ms/step - loss: 0.0328\n",
      "1/1 [==============================] - 0s 9ms/step - loss: 0.0054\n"
     ]
    },
    {
     "data": {
      "text/plain": [
       "(0.0328376367688179, 0.005389452911913395)"
      ]
     },
     "execution_count": 427,
     "metadata": {},
     "output_type": "execute_result"
    }
   ],
   "source": [
    "teacher.evaluate(negative_test, verbose=1), teacher.evaluate(positive_test)"
   ]
  },
  {
   "cell_type": "code",
   "execution_count": 100,
   "metadata": {},
   "outputs": [
    {
     "name": "stdout",
     "output_type": "stream",
     "text": [
      "1/1 [==============================] - 0s 9ms/step - loss: 0.9758\n"
     ]
    },
    {
     "data": {
      "text/plain": [
       "0.9758080244064331"
      ]
     },
     "execution_count": 100,
     "metadata": {},
     "output_type": "execute_result"
    }
   ],
   "source": [
    "cicada_v2.evaluate(positive_test, verbose=1)"
   ]
  },
  {
   "cell_type": "code",
   "execution_count": 428,
   "metadata": {},
   "outputs": [],
   "source": [
    "import importlib\n",
    "import drawing\n",
    "import generator\n",
    "importlib.reload(drawing)\n",
    "importlib.reload(generator)\n",
    "from drawing import Draw\n",
    "draw = Draw(output_dir='plots', interactive=False)"
   ]
  },
  {
   "cell_type": "code",
   "execution_count": 429,
   "metadata": {},
   "outputs": [],
   "source": [
    "def plot_reconstruction(index: int, dataset, model):\n",
    "    # Extract a single example from the augmented training set\n",
    "    image_example = dataset[index][np.newaxis, ...]\n",
    "\n",
    "    # Get the model's prediction\n",
    "    y_pred = model.predict(image_example)\n",
    "\n",
    "    # Calculate the error\n",
    "    error = loss(dataset[index][..., np.newaxis], y_pred)\n",
    "    print(error)\n",
    "\n",
    "    # Plot the reconstruction results\n",
    "    draw.plot_reconstruction_results(\n",
    "        dataset[index],\n",
    "        y_pred,\n",
    "        loss=error[0],\n",
    "        name=\"comparison-background\",\n",
    "    )\n"
   ]
  },
  {
   "cell_type": "code",
   "execution_count": 432,
   "metadata": {},
   "outputs": [
    {
     "name": "stdout",
     "output_type": "stream",
     "text": [
      "1/1 [==============================] - 0s 11ms/step\n",
      "[0.00325335]\n"
     ]
    }
   ],
   "source": [
    "# it acts as if it's been trained also on the outliers. I can find only 2 reasons:\n",
    "# 1. the teacher model is too good at generalizing\n",
    "# 2. dataset also contained outliers\n",
    "plot_reconstruction(25, outlier_test, teacher)"
   ]
  },
  {
   "cell_type": "code",
   "execution_count": 232,
   "metadata": {},
   "outputs": [
    {
     "name": "stdout",
     "output_type": "stream",
     "text": [
      "1/1 [==============================] - 0s 10ms/step\n"
     ]
    }
   ],
   "source": [
    "index = 50\n",
    "# Extract a single example from the augmented training set\n",
    "image_example = X_val[index].astype(np.float32)[np.newaxis, ...]\n",
    "\n",
    "# Get the model's prediction\n",
    "y_pred = teacher.predict(image_example)\n",
    "\n",
    "# Calculate the error\n",
    "error = loss(X_val[index][..., np.newaxis], y_pred)\n",
    "\n",
    "# Plot the reconstruction results\n",
    "draw.plot_reconstruction_results(\n",
    "    X_val[index],\n",
    "    y_pred,\n",
    "    loss=error[0],\n",
    "    name=\"comparison-background\",\n",
    ")"
   ]
  },
  {
   "cell_type": "code",
   "execution_count": 344,
   "metadata": {},
   "outputs": [
    {
     "name": "stdout",
     "output_type": "stream",
     "text": [
      "7/7 [==============================] - 0s 2ms/step\n"
     ]
    }
   ],
   "source": [
    "y_pred_teacher = teacher.predict(np.array(images_test)[:, :, :, None], verbose=1)"
   ]
  },
  {
   "cell_type": "code",
   "execution_count": 345,
   "metadata": {},
   "outputs": [
    {
     "data": {
      "image/png": "[encoded data removed]",
      "text/plain": [
       "<Figure size 800x600 with 1 Axes>"
      ]
     },
     "metadata": {},
     "output_type": "display_data"
    }
   ],
   "source": [
    "plot_roc_curve(labels_test, y_pred_teacher)"
   ]
  },
  {
   "cell_type": "code",
   "execution_count": 68,
   "metadata": {},
   "outputs": [
    {
     "name": "stdout",
     "output_type": "stream",
     "text": [
      "7/7 [==============================] - 0s 7ms/step\n",
      "7/7 [==============================] - 0s 507us/step\n"
     ]
    }
   ],
   "source": [
    "y_pred_teacher = teacher.predict(np.array(images_test)[:, :, :, None], verbose=1)\n",
    "y_loss_teacher = loss(images_test[:, :, :, None], y_pred_teacher)\n",
    "y_loss_cicada = cicada_v2.predict(np.array(images_test).reshape((-1, 256)), verbose=1)"
   ]
  },
  {
   "cell_type": "code",
   "execution_count": 36,
   "metadata": {},
   "outputs": [
    {
     "name": "stdout",
     "output_type": "stream",
     "text": [
      "1/1 - 0s - 11ms/epoch - 11ms/step\n"
     ]
    },
    {
     "data": {
      "text/plain": [
       "array([[0.]], dtype=float32)"
      ]
     },
     "execution_count": 36,
     "metadata": {},
     "output_type": "execute_result"
    }
   ],
   "source": [
    "cicada_v2.predict(np.array(outlier_val[0]).reshape((-1, 256)), verbose=2)"
   ]
  },
  {
   "cell_type": "code",
   "execution_count": null,
   "metadata": {},
   "outputs": [
    {
     "data": {
      "image/png": "[encoded data removed]",
      "text/plain": [
       "<Figure size 800x600 with 1 Axes>"
      ]
     },
     "metadata": {},
     "output_type": "display_data"
    }
   ],
   "source": [
    "normalized_output = normalize_matrix()\n",
    "plot_roc_curve(labels_test, normalized_output)"
   ]
  },
  {
   "cell_type": "code",
   "execution_count": null,
   "metadata": {},
   "outputs": [],
   "source": []
  }
 ],
 "metadata": {
  "colab": {
   "provenance": []
  },
  "kernelspec": {
   "display_name": "cicada",
   "language": "python",
   "name": "python3"
  },
  "language_info": {
   "codemirror_mode": {
    "name": "ipython",
    "version": 3
   },
   "file_extension": ".py",
   "mimetype": "text/x-python",
   "name": "python",
   "nbconvert_exporter": "python",
   "pygments_lexer": "ipython3",
   "version": "3.9.16"
  }
 },
 "nbformat": 4,
 "nbformat_minor": 0
}
